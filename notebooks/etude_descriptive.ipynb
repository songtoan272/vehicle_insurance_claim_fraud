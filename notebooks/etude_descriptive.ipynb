{
 "cells": [
  {
   "cell_type": "markdown",
   "id": "c0c74701",
   "metadata": {
    "papermill": {
     "duration": 0.083491,
     "end_time": "2022-01-18T00:17:35.917040",
     "exception": false,
     "start_time": "2022-01-18T00:17:35.833549",
     "status": "completed"
    },
    "tags": []
   },
   "source": [
    "# Classifying Fraud by Decision Trees\n",
    "\n",
    "\n",
    "Table of Contents:\n",
    "1. Importing the libraries and modules\n",
    "2. Importing the data\n",
    "3. Initial investigation the data\n",
    "4. Reworking the data - missing values, dropping duplicates, etc.\n",
    "5. Further investigation for insights - possible features\n",
    "6. Splitting data into dependent and independent variables\n",
    "7. Enoding the data\n",
    "8. Build preliminary classification tree\n",
    "9. Comparing Decision Trees, Random Forest, AdaBoost, and XGBoost\n",
    "10. Comparing DT, RF, Ada, XGB with SMOTE\n",
    "11. Tuning the hyperparameters of XGBoost\n",
    "12. Building, evaluating, drawing, and interpretation of final classification model\n",
    "\n",
    "**This is a work in progress. I am currently working through parts 8-11 and will need to add a new section on feature selection between part 8 and 9.**"
   ]
  },
  {
   "cell_type": "markdown",
   "id": "d4f843db",
   "metadata": {
    "papermill": {
     "duration": 0.081349,
     "end_time": "2022-01-18T00:17:36.081858",
     "exception": false,
     "start_time": "2022-01-18T00:17:36.000509",
     "status": "completed"
    },
    "tags": []
   },
   "source": [
    "# **PART 1 & 2:** Import libraries, modules and data"
   ]
  },
  {
   "cell_type": "code",
   "execution_count": 1,
   "id": "452ab951",
   "metadata": {
    "papermill": {
     "duration": 2.369421,
     "end_time": "2022-01-18T00:17:38.531736",
     "exception": false,
     "start_time": "2022-01-18T00:17:36.162315",
     "status": "completed"
    },
    "tags": []
   },
   "outputs": [
    {
     "name": "stdout",
     "output_type": "stream",
     "text": [
      "WARN: OMP_NUM_THREADS=None =>\n",
      "... If you are using openblas if you are using openblas set OMP_NUM_THREADS=1 or risk subprocess calls hanging indefinitely\n"
     ]
    }
   ],
   "source": [
    "import pandas as pd\n",
    "import numpy as np\n",
    "import matplotlib.pyplot as plt\n",
    "import seaborn as sns\n",
    "import time\n",
    "from pandasql import sqldf\n",
    "# from imblearn.over_sampling import SMOTE\n",
    "import scipy.stats as stats\n",
    "from tabulate import tabulate\n",
    "from xgboost import XGBClassifier\n",
    "from xgboost import plot_tree\n",
    "from xgboost import plot_importance\n",
    "\n",
    "# import packages for hyperparameters tuning\n",
    "from hyperopt import STATUS_OK, Trials, fmin, hp, tpe\n",
    "import hyperopt.pyll\n",
    "from hyperopt.pyll import scope\n",
    "from hpsklearn import HyperoptEstimator\n",
    "\n",
    "from sklearn.tree import DecisionTreeClassifier\n",
    "from sklearn.tree import plot_tree\n",
    "from sklearn.ensemble import RandomForestClassifier\n",
    "from sklearn.ensemble import AdaBoostClassifier\n",
    "from sklearn.model_selection import train_test_split\n",
    "from sklearn.model_selection import cross_val_score\n",
    "from sklearn.model_selection import cross_validate\n",
    "from sklearn.model_selection import RepeatedStratifiedKFold\n",
    "from sklearn.model_selection import GridSearchCV\n",
    "from sklearn import metrics\n",
    "\n",
    "from category_encoders.ordinal import OrdinalEncoder\n",
    "from category_encoders.binary import BinaryEncoder\n",
    "from category_encoders.one_hot import OneHotEncoder\n"
   ]
  },
  {
   "cell_type": "code",
   "execution_count": 2,
   "id": "21f6b8c4",
   "metadata": {
    "papermill": {
     "duration": 0.268444,
     "end_time": "2022-01-18T00:17:38.881981",
     "exception": false,
     "start_time": "2022-01-18T00:17:38.613537",
     "status": "completed"
    },
    "tags": []
   },
   "outputs": [
    {
     "name": "stdout",
     "output_type": "stream",
     "text": [
      "The data constain  15420  observations.\n"
     ]
    },
    {
     "data": {
      "text/html": [
       "<div>\n",
       "<style scoped>\n",
       "    .dataframe tbody tr th:only-of-type {\n",
       "        vertical-align: middle;\n",
       "    }\n",
       "\n",
       "    .dataframe tbody tr th {\n",
       "        vertical-align: top;\n",
       "    }\n",
       "\n",
       "    .dataframe thead th {\n",
       "        text-align: right;\n",
       "    }\n",
       "</style>\n",
       "<table border=\"1\" class=\"dataframe\">\n",
       "  <thead>\n",
       "    <tr style=\"text-align: right;\">\n",
       "      <th></th>\n",
       "      <th>Month</th>\n",
       "      <th>WeekOfMonth</th>\n",
       "      <th>DayOfWeek</th>\n",
       "      <th>Make</th>\n",
       "      <th>AccidentArea</th>\n",
       "      <th>DayOfWeekClaimed</th>\n",
       "      <th>MonthClaimed</th>\n",
       "      <th>WeekOfMonthClaimed</th>\n",
       "      <th>Sex</th>\n",
       "      <th>MaritalStatus</th>\n",
       "      <th>...</th>\n",
       "      <th>AgeOfVehicle</th>\n",
       "      <th>AgeOfPolicyHolder</th>\n",
       "      <th>PoliceReportFiled</th>\n",
       "      <th>WitnessPresent</th>\n",
       "      <th>AgentType</th>\n",
       "      <th>NumberOfSuppliments</th>\n",
       "      <th>AddressChange_Claim</th>\n",
       "      <th>NumberOfCars</th>\n",
       "      <th>Year</th>\n",
       "      <th>BasePolicy</th>\n",
       "    </tr>\n",
       "  </thead>\n",
       "  <tbody>\n",
       "    <tr>\n",
       "      <th>0</th>\n",
       "      <td>Dec</td>\n",
       "      <td>5</td>\n",
       "      <td>Wednesday</td>\n",
       "      <td>Honda</td>\n",
       "      <td>Urban</td>\n",
       "      <td>Tuesday</td>\n",
       "      <td>Jan</td>\n",
       "      <td>1</td>\n",
       "      <td>Female</td>\n",
       "      <td>Single</td>\n",
       "      <td>...</td>\n",
       "      <td>3 years</td>\n",
       "      <td>26 to 30</td>\n",
       "      <td>No</td>\n",
       "      <td>No</td>\n",
       "      <td>External</td>\n",
       "      <td>none</td>\n",
       "      <td>1 year</td>\n",
       "      <td>3 to 4</td>\n",
       "      <td>1994</td>\n",
       "      <td>Liability</td>\n",
       "    </tr>\n",
       "    <tr>\n",
       "      <th>1</th>\n",
       "      <td>Jan</td>\n",
       "      <td>3</td>\n",
       "      <td>Wednesday</td>\n",
       "      <td>Honda</td>\n",
       "      <td>Urban</td>\n",
       "      <td>Monday</td>\n",
       "      <td>Jan</td>\n",
       "      <td>4</td>\n",
       "      <td>Male</td>\n",
       "      <td>Single</td>\n",
       "      <td>...</td>\n",
       "      <td>6 years</td>\n",
       "      <td>31 to 35</td>\n",
       "      <td>Yes</td>\n",
       "      <td>No</td>\n",
       "      <td>External</td>\n",
       "      <td>none</td>\n",
       "      <td>no change</td>\n",
       "      <td>1 vehicle</td>\n",
       "      <td>1994</td>\n",
       "      <td>Collision</td>\n",
       "    </tr>\n",
       "    <tr>\n",
       "      <th>2</th>\n",
       "      <td>Oct</td>\n",
       "      <td>5</td>\n",
       "      <td>Friday</td>\n",
       "      <td>Honda</td>\n",
       "      <td>Urban</td>\n",
       "      <td>Thursday</td>\n",
       "      <td>Nov</td>\n",
       "      <td>2</td>\n",
       "      <td>Male</td>\n",
       "      <td>Married</td>\n",
       "      <td>...</td>\n",
       "      <td>7 years</td>\n",
       "      <td>41 to 50</td>\n",
       "      <td>No</td>\n",
       "      <td>No</td>\n",
       "      <td>External</td>\n",
       "      <td>none</td>\n",
       "      <td>no change</td>\n",
       "      <td>1 vehicle</td>\n",
       "      <td>1994</td>\n",
       "      <td>Collision</td>\n",
       "    </tr>\n",
       "    <tr>\n",
       "      <th>3</th>\n",
       "      <td>Jun</td>\n",
       "      <td>2</td>\n",
       "      <td>Saturday</td>\n",
       "      <td>Toyota</td>\n",
       "      <td>Rural</td>\n",
       "      <td>Friday</td>\n",
       "      <td>Jul</td>\n",
       "      <td>1</td>\n",
       "      <td>Male</td>\n",
       "      <td>Married</td>\n",
       "      <td>...</td>\n",
       "      <td>more than 7</td>\n",
       "      <td>51 to 65</td>\n",
       "      <td>Yes</td>\n",
       "      <td>No</td>\n",
       "      <td>External</td>\n",
       "      <td>more than 5</td>\n",
       "      <td>no change</td>\n",
       "      <td>1 vehicle</td>\n",
       "      <td>1994</td>\n",
       "      <td>Liability</td>\n",
       "    </tr>\n",
       "    <tr>\n",
       "      <th>4</th>\n",
       "      <td>Jan</td>\n",
       "      <td>5</td>\n",
       "      <td>Monday</td>\n",
       "      <td>Honda</td>\n",
       "      <td>Urban</td>\n",
       "      <td>Tuesday</td>\n",
       "      <td>Feb</td>\n",
       "      <td>2</td>\n",
       "      <td>Female</td>\n",
       "      <td>Single</td>\n",
       "      <td>...</td>\n",
       "      <td>5 years</td>\n",
       "      <td>31 to 35</td>\n",
       "      <td>No</td>\n",
       "      <td>No</td>\n",
       "      <td>External</td>\n",
       "      <td>none</td>\n",
       "      <td>no change</td>\n",
       "      <td>1 vehicle</td>\n",
       "      <td>1994</td>\n",
       "      <td>Collision</td>\n",
       "    </tr>\n",
       "  </tbody>\n",
       "</table>\n",
       "<p>5 rows × 33 columns</p>\n",
       "</div>"
      ],
      "text/plain": [
       "  Month  WeekOfMonth  DayOfWeek    Make AccidentArea DayOfWeekClaimed  \\\n",
       "0   Dec            5  Wednesday   Honda        Urban          Tuesday   \n",
       "1   Jan            3  Wednesday   Honda        Urban           Monday   \n",
       "2   Oct            5     Friday   Honda        Urban         Thursday   \n",
       "3   Jun            2   Saturday  Toyota        Rural           Friday   \n",
       "4   Jan            5     Monday   Honda        Urban          Tuesday   \n",
       "\n",
       "  MonthClaimed  WeekOfMonthClaimed     Sex MaritalStatus  ...  AgeOfVehicle  \\\n",
       "0          Jan                   1  Female        Single  ...       3 years   \n",
       "1          Jan                   4    Male        Single  ...       6 years   \n",
       "2          Nov                   2    Male       Married  ...       7 years   \n",
       "3          Jul                   1    Male       Married  ...   more than 7   \n",
       "4          Feb                   2  Female        Single  ...       5 years   \n",
       "\n",
       "  AgeOfPolicyHolder PoliceReportFiled WitnessPresent AgentType  \\\n",
       "0          26 to 30                No             No  External   \n",
       "1          31 to 35               Yes             No  External   \n",
       "2          41 to 50                No             No  External   \n",
       "3          51 to 65               Yes             No  External   \n",
       "4          31 to 35                No             No  External   \n",
       "\n",
       "   NumberOfSuppliments  AddressChange_Claim  NumberOfCars  Year  BasePolicy  \n",
       "0                 none               1 year        3 to 4  1994   Liability  \n",
       "1                 none            no change     1 vehicle  1994   Collision  \n",
       "2                 none            no change     1 vehicle  1994   Collision  \n",
       "3          more than 5            no change     1 vehicle  1994   Liability  \n",
       "4                 none            no change     1 vehicle  1994   Collision  \n",
       "\n",
       "[5 rows x 33 columns]"
      ]
     },
     "execution_count": 2,
     "metadata": {},
     "output_type": "execute_result"
    }
   ],
   "source": [
    "df = pd.read_csv('../data/01_raw/fraud_oracle.csv')\n",
    "print('The data constain ', len(df),' observations.')\n",
    "df.head()"
   ]
  },
  {
   "cell_type": "markdown",
   "id": "4e987541",
   "metadata": {
    "papermill": {
     "duration": 0.082793,
     "end_time": "2022-01-18T00:17:39.226972",
     "exception": false,
     "start_time": "2022-01-18T00:17:39.144179",
     "status": "completed"
    },
    "tags": []
   },
   "source": [
    "# **PART 3:** Initial Investigation on Data"
   ]
  },
  {
   "cell_type": "code",
   "execution_count": 3,
   "id": "27b04cd4-4b53-49e8-909c-b4fdca9ee299",
   "metadata": {},
   "outputs": [
    {
     "name": "stdout",
     "output_type": "stream",
     "text": [
      "#####################################################################################\n",
      "Shape of data: (15420, 33)\n",
      "#####################################################################################\n",
      "Missing values: \n",
      "Month                   0\n",
      "WeekOfMonth             0\n",
      "DayOfWeek               0\n",
      "Make                    0\n",
      "AccidentArea            0\n",
      "DayOfWeekClaimed        0\n",
      "MonthClaimed            0\n",
      "WeekOfMonthClaimed      0\n",
      "Sex                     0\n",
      "MaritalStatus           0\n",
      "Age                     0\n",
      "Fault                   0\n",
      "PolicyType              0\n",
      "VehicleCategory         0\n",
      "VehiclePrice            0\n",
      "FraudFound_P            0\n",
      "PolicyNumber            0\n",
      "RepNumber               0\n",
      "Deductible              0\n",
      "DriverRating            0\n",
      "Days_Policy_Accident    0\n",
      "Days_Policy_Claim       0\n",
      "PastNumberOfClaims      0\n",
      "AgeOfVehicle            0\n",
      "AgeOfPolicyHolder       0\n",
      "PoliceReportFiled       0\n",
      "WitnessPresent          0\n",
      "AgentType               0\n",
      "NumberOfSuppliments     0\n",
      "AddressChange_Claim     0\n",
      "NumberOfCars            0\n",
      "Year                    0\n",
      "BasePolicy              0\n",
      "dtype: int64\n",
      "#####################################################################################\n",
      "Month                   object\n",
      "WeekOfMonth              int64\n",
      "DayOfWeek               object\n",
      "Make                    object\n",
      "AccidentArea            object\n",
      "DayOfWeekClaimed        object\n",
      "MonthClaimed            object\n",
      "WeekOfMonthClaimed       int64\n",
      "Sex                     object\n",
      "MaritalStatus           object\n",
      "Age                      int64\n",
      "Fault                   object\n",
      "PolicyType              object\n",
      "VehicleCategory         object\n",
      "VehiclePrice            object\n",
      "FraudFound_P             int64\n",
      "PolicyNumber             int64\n",
      "RepNumber                int64\n",
      "Deductible               int64\n",
      "DriverRating             int64\n",
      "Days_Policy_Accident    object\n",
      "Days_Policy_Claim       object\n",
      "PastNumberOfClaims      object\n",
      "AgeOfVehicle            object\n",
      "AgeOfPolicyHolder       object\n",
      "PoliceReportFiled       object\n",
      "WitnessPresent          object\n",
      "AgentType               object\n",
      "NumberOfSuppliments     object\n",
      "AddressChange_Claim     object\n",
      "NumberOfCars            object\n",
      "Year                     int64\n",
      "BasePolicy              object\n",
      "dtype: object\n",
      "#####################################################################################\n",
      "                      count         mean          std     min      25%  \\\n",
      "WeekOfMonth         15420.0     2.788586     1.287585     1.0     2.00   \n",
      "WeekOfMonthClaimed  15420.0     2.693969     1.259115     1.0     2.00   \n",
      "Age                 15420.0    39.855707    13.492377     0.0    31.00   \n",
      "FraudFound_P        15420.0     0.059857     0.237230     0.0     0.00   \n",
      "PolicyNumber        15420.0  7710.500000  4451.514911     1.0  3855.75   \n",
      "RepNumber           15420.0     8.483268     4.599948     1.0     5.00   \n",
      "Deductible          15420.0   407.704280    43.950998   300.0   400.00   \n",
      "DriverRating        15420.0     2.487808     1.119453     1.0     1.00   \n",
      "Year                15420.0  1994.866472     0.803313  1994.0  1994.00   \n",
      "\n",
      "                       50%       75%      max  \n",
      "WeekOfMonth            3.0      4.00      5.0  \n",
      "WeekOfMonthClaimed     3.0      4.00      5.0  \n",
      "Age                   38.0     48.00     80.0  \n",
      "FraudFound_P           0.0      0.00      1.0  \n",
      "PolicyNumber        7710.5  11565.25  15420.0  \n",
      "RepNumber              8.0     12.00     16.0  \n",
      "Deductible           400.0    400.00    700.0  \n",
      "DriverRating           2.0      3.00      4.0  \n",
      "Year                1995.0   1996.00   1996.0  \n"
     ]
    }
   ],
   "source": [
    "print(\"#####################################################################################\")\n",
    "print(\"Shape of data: \" + str(df.shape) )\n",
    "print(\"#####################################################################################\")\n",
    "print(\"Missing values: \")\n",
    "print((df.isnull().sum()))\n",
    "print(\"#####################################################################################\")\n",
    "print(df.dtypes)\n",
    "print(\"#####################################################################################\")\n",
    "print(df.describe().T)"
   ]
  },
  {
   "cell_type": "code",
   "execution_count": 4,
   "id": "036a9dba-9238-4673-9af5-9fe9e2450d34",
   "metadata": {},
   "outputs": [
    {
     "name": "stdout",
     "output_type": "stream",
     "text": [
      "Month: 12-['Dec' 'Jan' 'Oct' 'Jun' 'Feb' 'Nov' 'Apr' 'Mar' 'Aug' 'Jul' 'May' 'Sep']\n",
      "\n",
      "WeekOfMonth: 5-[5 3 2 4 1]\n",
      "\n",
      "DayOfWeek: 7-['Wednesday' 'Friday' 'Saturday' 'Monday' 'Tuesday' 'Sunday' 'Thursday']\n",
      "\n",
      "Make: 19-['Honda' 'Toyota' 'Ford' 'Mazda' 'Chevrolet' 'Pontiac' 'Accura' 'Dodge'\n",
      " 'Mercury' 'Jaguar' 'Nisson' 'VW' 'Saab' 'Saturn' 'Porche' 'BMW' 'Mecedes'\n",
      " 'Ferrari' 'Lexus']\n",
      "\n",
      "AccidentArea: 2-['Urban' 'Rural']\n",
      "\n",
      "DayOfWeekClaimed: 8-['Tuesday' 'Monday' 'Thursday' 'Friday' 'Wednesday' 'Saturday' 'Sunday'\n",
      " '0']\n",
      "\n",
      "MonthClaimed: 13-['Jan' 'Nov' 'Jul' 'Feb' 'Mar' 'Dec' 'Apr' 'Aug' 'May' 'Jun' 'Sep' 'Oct'\n",
      " '0']\n",
      "\n",
      "WeekOfMonthClaimed: 5-[1 4 2 3 5]\n",
      "\n",
      "Sex: 2-['Female' 'Male']\n",
      "\n",
      "MaritalStatus: 4-['Single' 'Married' 'Widow' 'Divorced']\n",
      "\n",
      "Age: 66-[21 34 47 65 27 20 36  0 30 42 71 52 28 61 38 41 32 40 63 31 45 60 39 55\n",
      " 35 44 72 29 37 59 49 50 26 48 64 33 74 23 25 56 16 68 18 51 22 53 46 43\n",
      " 57 54 69 67 19 78 77 75 80 58 73 24 76 62 79 70 17 66]\n",
      "\n",
      "Fault: 2-['Policy Holder' 'Third Party']\n",
      "\n",
      "PolicyType: 9-['Sport - Liability' 'Sport - Collision' 'Sedan - Liability'\n",
      " 'Utility - All Perils' 'Sedan - All Perils' 'Sedan - Collision'\n",
      " 'Utility - Collision' 'Utility - Liability' 'Sport - All Perils']\n",
      "\n",
      "VehicleCategory: 3-['Sport' 'Utility' 'Sedan']\n",
      "\n",
      "VehiclePrice: 6-['more than 69000' '20000 to 29000' '30000 to 39000' 'less than 20000'\n",
      " '40000 to 59000' '60000 to 69000']\n",
      "\n",
      "FraudFound_P: 2-[0 1]\n",
      "\n",
      "PolicyNumber: 15420-[    1     2     3 ... 15418 15419 15420]\n",
      "\n",
      "RepNumber: 16-[12 15  7  4  3 14  1 13 11 16  6  2  8  5  9 10]\n",
      "\n",
      "Deductible: 4-[300 400 500 700]\n",
      "\n",
      "DriverRating: 4-[1 4 3 2]\n",
      "\n",
      "Days_Policy_Accident: 5-['more than 30' '15 to 30' 'none' '1 to 7' '8 to 15']\n",
      "\n",
      "Days_Policy_Claim: 4-['more than 30' '15 to 30' '8 to 15' 'none']\n",
      "\n",
      "PastNumberOfClaims: 4-['none' '1' '2 to 4' 'more than 4']\n",
      "\n",
      "AgeOfVehicle: 8-['3 years' '6 years' '7 years' 'more than 7' '5 years' 'new' '4 years'\n",
      " '2 years']\n",
      "\n",
      "AgeOfPolicyHolder: 9-['26 to 30' '31 to 35' '41 to 50' '51 to 65' '21 to 25' '36 to 40'\n",
      " '16 to 17' 'over 65' '18 to 20']\n",
      "\n",
      "PoliceReportFiled: 2-['No' 'Yes']\n",
      "\n",
      "WitnessPresent: 2-['No' 'Yes']\n",
      "\n",
      "AgentType: 2-['External' 'Internal']\n",
      "\n",
      "NumberOfSuppliments: 4-['none' 'more than 5' '3 to 5' '1 to 2']\n",
      "\n",
      "AddressChange_Claim: 5-['1 year' 'no change' '4 to 8 years' '2 to 3 years' 'under 6 months']\n",
      "\n",
      "NumberOfCars: 5-['3 to 4' '1 vehicle' '2 vehicles' '5 to 8' 'more than 8']\n",
      "\n",
      "Year: 3-[1994 1995 1996]\n",
      "\n",
      "BasePolicy: 3-['Liability' 'Collision' 'All Perils']\n",
      "\n"
     ]
    }
   ],
   "source": [
    "# Unique values of each column\n",
    "for col in df.columns:\n",
    "    print(f'{col}: {len(df[col].unique())}-{df[col].unique()}\\n')"
   ]
  },
  {
   "cell_type": "markdown",
   "id": "13c67373",
   "metadata": {
    "papermill": {
     "duration": 0.083558,
     "end_time": "2022-01-18T00:17:39.637782",
     "exception": false,
     "start_time": "2022-01-18T00:17:39.554224",
     "status": "completed"
    },
    "tags": []
   },
   "source": [
    "# **Data Dictionary (at first glance)**\n",
    "Results of printing the unique values from each feature. Things I noticed about each feature.\n",
    "1. **Month** - object\n",
    "    * contains 3 letter abbreviations for the months of the year \n",
    "    * Are these the months in which the accident occured?\n",
    "2. **WeekOfMonth** - int64\n",
    "    * provides the week in the month the accident occured?\n",
    "3. **DayOfWeek** - object\n",
    "    * contains days of the week - are these the days of the week the accident occured on?\n",
    "4. **Make** - object\n",
    "    * contains a list of 19 car manufacturers\n",
    "5. **AccidentArea** - object\n",
    "    * classifies area for accident as \"Urban\" or \"Rural\"\n",
    "6. **DayOfWeekClaimed** - object\n",
    "    * contains the day of the week the claim was filed\n",
    "    * also contains '0' - need to check how many of these there are and see about \"fixing\" - missing data?\n",
    "7. **MonthClaimed** - object\n",
    "    * contains 3 letter abbreviations for the months of the year \n",
    "    * contains '0' - need to check how many there are and what they mean - missing data?\n",
    "8. **WeekOfMonthClaimed** - int64\n",
    "    * contains weeks in the month that the claimed in filed\n",
    "9. **Sex** - object\n",
    "    * gender of individual making claim?\n",
    "    * binary data, convert to 1 or 0\n",
    "10. **MaritalStatus** - object\n",
    "    * marital status of individual making claim?\n",
    "11. **Age** - int64\n",
    "    * ages of individual making claim?\n",
    "    * there is at least one individual with age 0 - missing data?\n",
    "12. **Fault** - object\n",
    "    * categorization of who was deemed at fault.\n",
    "    * convert to binary, 1 or 0\n",
    "13. **PolicyType** - object\n",
    "    * contains two pieces of info - \n",
    "        * the type of insurance on the car - liability, all perils, collision\n",
    "        * category of the vehicle - sport, sedan, utility\n",
    "14. **VehicleCategory** - object\n",
    "    * contains the categorization of the vehicle (see PolicyType)\n",
    "15. **VehiclePrice** - object\n",
    "    * contains ranges for the value of the vehicle\n",
    "    * replace ranges with mean value of range and convert to float\n",
    "16. **FraudFound_P** - int64\n",
    "    * indicats whether the claim was fraudulant (1) or not (0)\n",
    "    * **this is what we want to predict**\n",
    "17. **PolicyNumber** - int64\n",
    "    * the masked policy number, appears to be the same as row number minus 1\n",
    "18. **RepNumber** - int64\n",
    "    * rep number is  integer from 1 - 16\n",
    "19. **Deductible** - int64\n",
    "    * the deductible amount\n",
    "    * integer values\n",
    "20. **DriverRating** - int64\n",
    "    * the scale is 1, 2, 3, 4\n",
    "    * the name DriverRating implies the data is ordinal, but is it interval as well?\n",
    "21. **Days_Policy_Accident** - object\n",
    "    * as a guess, this is the number of days between when the policy was purchased and the accident occured\n",
    "    * each value is again a range of values\n",
    "    * change these to be mean of the range and make float\n",
    "22. **Days_Policy_Claim** - object\n",
    "    * another guess, this is the number of days that pass between the policy was purchased and the claim was filed\n",
    "    * each value is a range\n",
    "    * change these to be the mean of the ranges and make float\n",
    "23. **PastNumberOfClaims** - object\n",
    "    * previous number of claims filed by policy holder (or claimant?)\n",
    "24. **AgeOfVehicle** - object\n",
    "    * represents age of vehicle at time of the accident?\n",
    "    * each value is a range of years\n",
    "    * change these to be the mean of the ranges and make float\n",
    "25. **AgeOfPolicyHolder** - object\n",
    "    * each value is a range of ages\"\n",
    "    * change these to be the mean of the ranges and make float\n",
    "26. **PoliceReportFiled** - object\n",
    "    * indicates whether a police report was filed for the accident\n",
    "    * convert to binary\n",
    "27. **WitnessPresent** - object\n",
    "    * indicted whether a witness was present\n",
    "    * conver to binary\n",
    "28. **AgentType** -  object\n",
    "    * this classifies an agent who is handling the claim as internal vs external\n",
    "    * what does this mean? \n",
    "    * change to binary\n",
    "29. **NumberOfSuppliments** - object\n",
    "    * probably not the number of vitamins taken daily\n",
    "    * not sure what a suppliment is in insurance\n",
    "30. **AddressChange_Claim** - object\n",
    "    * guess, time from claim was filled to when person moved (i.e. filed an address change)\n",
    "    * replace each interval with mean value of range\n",
    "31. **NumberOfCars** - object\n",
    "    * guess, number of cars involved in accident OR number of cars covered under policy\n",
    "    * replace each interval with mean value of range\n",
    "32. **Year** - int64\n",
    "    * guess, year accident occured\n",
    "33. **BasePolicy** - object\n",
    "    * type of insurance coverage (see PolicyType)\n"
   ]
  },
  {
   "cell_type": "markdown",
   "id": "01f89a17",
   "metadata": {
    "papermill": {
     "duration": 0.084915,
     "end_time": "2022-01-18T00:17:39.806809",
     "exception": false,
     "start_time": "2022-01-18T00:17:39.721894",
     "status": "completed"
    },
    "tags": []
   },
   "source": [
    "# **Issues in data to investigate first**\n",
    "* DayOfWeekClaimed - contains a 0 instead of a day of the week\n",
    "* MonthClaimed - contains a 0 instead of the month\n",
    "* Age - contains a 0 instead of the necessary age\n",
    "* PolicyType - appears to be a concatenation of VehicleCategory and BasePolicy\n",
    "* PolicyNumber - determine if they are the same as the row number minus 1\n",
    "\n",
    "# **Thoughts/questions to look into**\n",
    "* Are representatives fixed to a specific geographic region? \n",
    "    * i.e. will rep 1 always be rural vs urban?\n",
    "* Are they fixed as always being internal or external?\n",
    "    * i.e. would rep 1 always be considered internal vs external?\n",
    "* Should 'Age' always fall in the range of 'AgeOfPolicyHolder'?\n",
    "* PolicyType appears to contain the same information as VehicleCategroy and BasePolicy\n",
    "    * Should they match? Do they always match?\n",
    "    * Can we eliminate one or two of these features?\n",
    "* Is a driver rated as 1 better or worse of a driver rated as a 4? Or is it a measure of Risk? Meaning a driver rated at 1 is at a higher risk of an accident than driver rated at 4?\n",
    "* Are certain Months/Days of the week more prone to accidents than others?\n"
   ]
  },
  {
   "cell_type": "code",
   "execution_count": 5,
   "id": "76a0f49b-5e0d-435f-bb12-8c2900b4fa72",
   "metadata": {},
   "outputs": [
    {
     "data": {
      "text/plain": [
       "['Month',\n",
       " 'DayOfWeek',\n",
       " 'Make',\n",
       " 'AccidentArea',\n",
       " 'DayOfWeekClaimed',\n",
       " 'MonthClaimed',\n",
       " 'Sex',\n",
       " 'MaritalStatus',\n",
       " 'Fault',\n",
       " 'PolicyType',\n",
       " 'VehicleCategory',\n",
       " 'VehiclePrice',\n",
       " 'Days_Policy_Accident',\n",
       " 'Days_Policy_Claim',\n",
       " 'PastNumberOfClaims',\n",
       " 'AgeOfVehicle',\n",
       " 'AgeOfPolicyHolder',\n",
       " 'PoliceReportFiled',\n",
       " 'WitnessPresent',\n",
       " 'AgentType',\n",
       " 'NumberOfSuppliments',\n",
       " 'AddressChange_Claim',\n",
       " 'NumberOfCars',\n",
       " 'BasePolicy']"
      ]
     },
     "execution_count": 5,
     "metadata": {},
     "output_type": "execute_result"
    }
   ],
   "source": [
    "# Which columns are categoric;\n",
    "cat_col = [col for col in df.columns if df[col].dtypes == \"O\"]\n",
    "cat_col"
   ]
  },
  {
   "cell_type": "markdown",
   "id": "0511bffc",
   "metadata": {
    "papermill": {
     "duration": 0.084178,
     "end_time": "2022-01-18T00:17:39.984768",
     "exception": false,
     "start_time": "2022-01-18T00:17:39.900590",
     "status": "completed"
    },
    "tags": []
   },
   "source": [
    "# **PART 4:** Reworking the data - missing values, dropping duplicates, etc.\n",
    "\n"
   ]
  },
  {
   "cell_type": "markdown",
   "id": "ad3c3689",
   "metadata": {
    "papermill": {
     "duration": 0.082893,
     "end_time": "2022-01-18T00:17:40.151471",
     "exception": false,
     "start_time": "2022-01-18T00:17:40.068578",
     "status": "completed"
    },
    "tags": []
   },
   "source": [
    "First, we will look into the 'PolicyNumber'. As mentioned above, I suspect that the 'PolicyNumber' is simply the row number minus 1. I check this by summing the policy numbers, and then using the summation identity: sum(i)(for i to n) = n(n+1)/2, where I take n to be the number of rows. If they come out the same then there are no missing or duplicate PolicyNumbers."
   ]
  },
  {
   "cell_type": "code",
   "execution_count": 6,
   "id": "81fb0c20",
   "metadata": {
    "jupyter": {
     "source_hidden": true
    },
    "papermill": {
     "duration": 0.095771,
     "end_time": "2022-01-18T00:17:40.330765",
     "exception": false,
     "start_time": "2022-01-18T00:17:40.234994",
     "status": "completed"
    },
    "tags": []
   },
   "outputs": [
    {
     "name": "stdout",
     "output_type": "stream",
     "text": [
      "118895910\n",
      "118895910.0\n"
     ]
    },
    {
     "data": {
      "text/plain": [
       "0            1\n",
       "1            2\n",
       "2            3\n",
       "3            4\n",
       "4            5\n",
       "         ...  \n",
       "15415    15416\n",
       "15416    15417\n",
       "15417    15418\n",
       "15418    15419\n",
       "15419    15420\n",
       "Name: PolicyNumber, Length: 15420, dtype: int64"
      ]
     },
     "execution_count": 6,
     "metadata": {},
     "output_type": "execute_result"
    }
   ],
   "source": [
    "print(df['PolicyNumber'].sum())\n",
    "print((len(df['PolicyNumber'])*(len(df['PolicyNumber']) +1 ))/2 )\n",
    "df['PolicyNumber']"
   ]
  },
  {
   "cell_type": "markdown",
   "id": "3ace8320",
   "metadata": {
    "papermill": {
     "duration": 0.084019,
     "end_time": "2022-01-18T00:17:40.498380",
     "exception": false,
     "start_time": "2022-01-18T00:17:40.414361",
     "status": "completed"
    },
    "tags": []
   },
   "source": [
    "We now take care of the 0 in the 'MonthClaimed' and 'DayOfWeekClaimed' features, then we tackle the 'Age' of 0 problem."
   ]
  },
  {
   "cell_type": "code",
   "execution_count": 7,
   "id": "189541cd",
   "metadata": {
    "jupyter": {
     "source_hidden": true
    },
    "papermill": {
     "duration": 0.127826,
     "end_time": "2022-01-18T00:17:40.710904",
     "exception": false,
     "start_time": "2022-01-18T00:17:40.583078",
     "status": "completed"
    },
    "tags": []
   },
   "outputs": [
    {
     "name": "stdout",
     "output_type": "stream",
     "text": [
      "DayOfWeekClaimed has  1  row(s) with a 0\n",
      "MonthClaimed has  1  row(s) with a 0\n",
      " \n",
      "     Month  WeekOfMonth DayOfWeek   Make AccidentArea DayOfWeekClaimed  \\\n",
      "1516   Jul            2    Monday  Honda        Rural                0   \n",
      "\n",
      "     MonthClaimed  WeekOfMonthClaimed   Sex MaritalStatus  ...  AgeOfVehicle  \\\n",
      "1516            0                   1  Male        Single  ...           new   \n",
      "\n",
      "     AgeOfPolicyHolder PoliceReportFiled WitnessPresent AgentType  \\\n",
      "1516          16 to 17                No             No  External   \n",
      "\n",
      "      NumberOfSuppliments  AddressChange_Claim  NumberOfCars  Year  BasePolicy  \n",
      "1516                 none            no change     1 vehicle  1994  All Perils  \n",
      "\n",
      "[1 rows x 33 columns]\n",
      "     Month  WeekOfMonth DayOfWeek   Make AccidentArea DayOfWeekClaimed  \\\n",
      "1516   Jul            2    Monday  Honda        Rural                0   \n",
      "\n",
      "     MonthClaimed  WeekOfMonthClaimed   Sex MaritalStatus  ...  AgeOfVehicle  \\\n",
      "1516            0                   1  Male        Single  ...           new   \n",
      "\n",
      "     AgeOfPolicyHolder PoliceReportFiled WitnessPresent AgentType  \\\n",
      "1516          16 to 17                No             No  External   \n",
      "\n",
      "      NumberOfSuppliments  AddressChange_Claim  NumberOfCars  Year  BasePolicy  \n",
      "1516                 none            no change     1 vehicle  1994  All Perils  \n",
      "\n",
      "[1 rows x 33 columns]\n"
     ]
    }
   ],
   "source": [
    "#Investigate the 0 in DayOfWeekClaimed and MonthClaimed\n",
    "print('DayOfWeekClaimed has ', len(df.loc[(df['DayOfWeekClaimed']=='0')]), ' row(s) with a 0')\n",
    "print('MonthClaimed has ',len(df.loc[(df['MonthClaimed']=='0')]),' row(s) with a 0') \n",
    "print(' ')\n",
    "\n",
    "#We see there is only one row where either the DayOfWeekClaimed or MonthClaimed are 0. \n",
    "#So now we compare them.\n",
    "print(df.loc[(df['DayOfWeekClaimed']=='0')])\n",
    "print(df.loc[(df['MonthClaimed']=='0')])\n",
    "\n",
    "# Both are zero in the same row (row 1516). "
   ]
  },
  {
   "cell_type": "code",
   "execution_count": 8,
   "id": "ab4e5a83",
   "metadata": {
    "jupyter": {
     "source_hidden": true
    },
    "papermill": {
     "duration": 0.099462,
     "end_time": "2022-01-18T00:17:40.894748",
     "exception": false,
     "start_time": "2022-01-18T00:17:40.795286",
     "status": "completed"
    },
    "tags": []
   },
   "outputs": [],
   "source": [
    "#Since both DayOfWeekClaimed and MonthClaimed are 0 for the same entry, I will drop\n",
    "df2 = df.loc[df['DayOfWeekClaimed']!='0']"
   ]
  },
  {
   "cell_type": "markdown",
   "id": "47bcba44",
   "metadata": {
    "papermill": {
     "duration": 0.08362,
     "end_time": "2022-01-18T00:17:41.062093",
     "exception": false,
     "start_time": "2022-01-18T00:17:40.978473",
     "status": "completed"
    },
    "tags": []
   },
   "source": [
    "We have handled the 0 in the 'DayOfWeekClaimed' and 'MonthClaimed', next we need to investigate the 'Age' of 0."
   ]
  },
  {
   "cell_type": "code",
   "execution_count": 9,
   "id": "34cd8b77",
   "metadata": {
    "jupyter": {
     "source_hidden": true
    },
    "papermill": {
     "duration": 0.093902,
     "end_time": "2022-01-18T00:17:41.239899",
     "exception": false,
     "start_time": "2022-01-18T00:17:41.145997",
     "status": "completed"
    },
    "tags": []
   },
   "outputs": [
    {
     "data": {
      "text/plain": [
       "15419"
      ]
     },
     "execution_count": 9,
     "metadata": {},
     "output_type": "execute_result"
    }
   ],
   "source": [
    "#Resets the index on our new dataframe, df2, so we can iterate through the rows\n",
    "#If we didn't do this, attempting to access df2.loc[1516] would throw a keyerror\n",
    "#This suggests that df2 does not have a row 1516, which is just plain silly\n",
    "df2.reset_index(drop=True, inplace=True)\n",
    "len(df2)"
   ]
  },
  {
   "cell_type": "code",
   "execution_count": 10,
   "id": "c1b89413",
   "metadata": {
    "jupyter": {
     "source_hidden": true
    },
    "papermill": {
     "duration": 0.096403,
     "end_time": "2022-01-18T00:17:41.422151",
     "exception": false,
     "start_time": "2022-01-18T00:17:41.325748",
     "status": "completed"
    },
    "tags": []
   },
   "outputs": [
    {
     "name": "stdout",
     "output_type": "stream",
     "text": [
      "319\n"
     ]
    }
   ],
   "source": [
    "#There are 319 rows where the feature Age is assigned a zero, \n",
    "print(len(df2[df2['Age']==0]))\n",
    "\n",
    "#though for the displayed rows the policy holder is said to be between 16 and 17 years old. \n",
    "df2.loc[df2['Age']==0, 'AgeOfPolicyHolder']\n",
    "\n",
    "#Need to check the policy holders age and then reassign a value.\n",
    "df2_age0_idx = (df2['Age']==0)\n"
   ]
  },
  {
   "cell_type": "code",
   "execution_count": 11,
   "id": "315ffdd5",
   "metadata": {
    "jupyter": {
     "source_hidden": true
    },
    "papermill": {
     "duration": 0.094587,
     "end_time": "2022-01-18T00:17:41.603067",
     "exception": false,
     "start_time": "2022-01-18T00:17:41.508480",
     "status": "completed"
    },
    "tags": []
   },
   "outputs": [
    {
     "data": {
      "text/plain": [
       "array(['16 to 17'], dtype=object)"
      ]
     },
     "execution_count": 11,
     "metadata": {},
     "output_type": "execute_result"
    }
   ],
   "source": [
    "#confirms that every row with Age=0, has a Policy Holder that is aged between 16 and 17 years.\n",
    "df2.loc[(df2['Age']==0),'AgeOfPolicyHolder'].unique()"
   ]
  },
  {
   "cell_type": "markdown",
   "id": "3cfbdb52",
   "metadata": {
    "papermill": {
     "duration": 0.084452,
     "end_time": "2022-01-18T00:17:41.774142",
     "exception": false,
     "start_time": "2022-01-18T00:17:41.689690",
     "status": "completed"
    },
    "tags": []
   },
   "source": [
    "We could assign a value to 'Age' in one of the following ways\n",
    "1. We could assign based on the lowest value in the range\n",
    "2. We could assign based on the highest value in the range\n",
    "3. We could assign based on the mean value in the range\n",
    "4. We could drop all of those rows\n",
    "\n",
    "To make this decision I felt it would best to investigate the relationship between 'Age' and 'AgeOfPolicyHolder' first. (Though my initial instinct is to replace with the mean of the range."
   ]
  },
  {
   "cell_type": "code",
   "execution_count": 12,
   "id": "ad5cbd0f",
   "metadata": {
    "jupyter": {
     "source_hidden": true
    },
    "papermill": {
     "duration": 0.242913,
     "end_time": "2022-01-18T00:17:42.103945",
     "exception": false,
     "start_time": "2022-01-18T00:17:41.861032",
     "status": "completed"
    },
    "tags": []
   },
   "outputs": [],
   "source": [
    "#splits the AgeOfPolicyHolder column into substrings so we\n",
    "#can check that the age variable is in range for policyholder\n",
    "\n",
    "groupings = []\n",
    "for holder in df2['AgeOfPolicyHolder']:\n",
    "    if 'to' in holder :\n",
    "        temp = holder.split()\n",
    "        nr=[int(temp[0]),int(temp[2])]\n",
    "        groupings.append(nr)\n",
    "    else :\n",
    "        temp = holder.split()\n",
    "        nr = [int(temp[1]),129]\n",
    "        groupings.append(nr)\n",
    "                        "
   ]
  },
  {
   "cell_type": "code",
   "execution_count": 13,
   "id": "fcfdefd0",
   "metadata": {
    "jupyter": {
     "source_hidden": true
    },
    "papermill": {
     "duration": 0.522412,
     "end_time": "2022-01-18T00:17:42.711417",
     "exception": false,
     "start_time": "2022-01-18T00:17:42.189005",
     "status": "completed"
    },
    "tags": []
   },
   "outputs": [],
   "source": [
    "#does the comparision of value for age to the value of the AgeOfPolicyHolder\n",
    "age_idx = []\n",
    "rw_idx = []\n",
    "for r in range(len(df2['Age'])):\n",
    "    if (df2.loc[r,'Age']>= groupings[r][0]) & (df2.loc[r,'Age']<= groupings[r][1]):\n",
    "        age_idx.append(0)\n",
    "    else:\n",
    "        age_idx.append(1)\n",
    "        rw_idx.append(r)"
   ]
  },
  {
   "cell_type": "code",
   "execution_count": 14,
   "id": "a84196dc",
   "metadata": {
    "jupyter": {
     "source_hidden": true
    },
    "papermill": {
     "duration": 0.113014,
     "end_time": "2022-01-18T00:17:42.910144",
     "exception": false,
     "start_time": "2022-01-18T00:17:42.797130",
     "status": "completed"
    },
    "tags": []
   },
   "outputs": [
    {
     "name": "stdout",
     "output_type": "stream",
     "text": [
      "7241\n"
     ]
    },
    {
     "data": {
      "text/html": [
       "<div>\n",
       "<style scoped>\n",
       "    .dataframe tbody tr th:only-of-type {\n",
       "        vertical-align: middle;\n",
       "    }\n",
       "\n",
       "    .dataframe tbody tr th {\n",
       "        vertical-align: top;\n",
       "    }\n",
       "\n",
       "    .dataframe thead th {\n",
       "        text-align: right;\n",
       "    }\n",
       "</style>\n",
       "<table border=\"1\" class=\"dataframe\">\n",
       "  <thead>\n",
       "    <tr style=\"text-align: right;\">\n",
       "      <th></th>\n",
       "      <th>Age</th>\n",
       "      <th>AgeOfPolicyHolder</th>\n",
       "    </tr>\n",
       "  </thead>\n",
       "  <tbody>\n",
       "    <tr>\n",
       "      <th>0</th>\n",
       "      <td>21</td>\n",
       "      <td>26 to 30</td>\n",
       "    </tr>\n",
       "    <tr>\n",
       "      <th>4</th>\n",
       "      <td>27</td>\n",
       "      <td>31 to 35</td>\n",
       "    </tr>\n",
       "    <tr>\n",
       "      <th>5</th>\n",
       "      <td>20</td>\n",
       "      <td>21 to 25</td>\n",
       "    </tr>\n",
       "    <tr>\n",
       "      <th>7</th>\n",
       "      <td>0</td>\n",
       "      <td>16 to 17</td>\n",
       "    </tr>\n",
       "    <tr>\n",
       "      <th>8</th>\n",
       "      <td>30</td>\n",
       "      <td>31 to 35</td>\n",
       "    </tr>\n",
       "    <tr>\n",
       "      <th>...</th>\n",
       "      <td>...</td>\n",
       "      <td>...</td>\n",
       "    </tr>\n",
       "    <tr>\n",
       "      <th>15410</th>\n",
       "      <td>42</td>\n",
       "      <td>36 to 40</td>\n",
       "    </tr>\n",
       "    <tr>\n",
       "      <th>15411</th>\n",
       "      <td>28</td>\n",
       "      <td>31 to 35</td>\n",
       "    </tr>\n",
       "    <tr>\n",
       "      <th>15415</th>\n",
       "      <td>30</td>\n",
       "      <td>31 to 35</td>\n",
       "    </tr>\n",
       "    <tr>\n",
       "      <th>15416</th>\n",
       "      <td>24</td>\n",
       "      <td>26 to 30</td>\n",
       "    </tr>\n",
       "    <tr>\n",
       "      <th>15418</th>\n",
       "      <td>21</td>\n",
       "      <td>26 to 30</td>\n",
       "    </tr>\n",
       "  </tbody>\n",
       "</table>\n",
       "<p>7241 rows × 2 columns</p>\n",
       "</div>"
      ],
      "text/plain": [
       "       Age AgeOfPolicyHolder\n",
       "0       21          26 to 30\n",
       "4       27          31 to 35\n",
       "5       20          21 to 25\n",
       "7        0          16 to 17\n",
       "8       30          31 to 35\n",
       "...    ...               ...\n",
       "15410   42          36 to 40\n",
       "15411   28          31 to 35\n",
       "15415   30          31 to 35\n",
       "15416   24          26 to 30\n",
       "15418   21          26 to 30\n",
       "\n",
       "[7241 rows x 2 columns]"
      ]
     },
     "execution_count": 14,
     "metadata": {},
     "output_type": "execute_result"
    }
   ],
   "source": [
    "print(len(df2.loc[list(rw_idx),('Age','AgeOfPolicyHolder')]))\n",
    "df2.loc[list(rw_idx),('Age','AgeOfPolicyHolder')]"
   ]
  },
  {
   "cell_type": "markdown",
   "id": "475d29e3",
   "metadata": {
    "papermill": {
     "duration": 0.086491,
     "end_time": "2022-01-18T00:17:43.088160",
     "exception": false,
     "start_time": "2022-01-18T00:17:43.001669",
     "status": "completed"
    },
    "tags": []
   },
   "source": [
    "During our investigation of the feature 'Age' being set to 0, we have established that there are 7241 rows out 15419, which is roughly 46.96% of the data, who's 'Age' does not correspond to the age range for 'AgeOfPolicyHolder'. A discrepancy this prevalent feels unlikely to be a typo. A somewhat reasonable assumption, is that the individual driving at the time of the accident was not the policy holder, but another individual.\n",
    "\n",
    "This doesn't give us any clear indication on the direction to go. Therefore I will opt to replace the 0 with the mean value of the interval."
   ]
  },
  {
   "cell_type": "code",
   "execution_count": 15,
   "id": "f03cdff9",
   "metadata": {
    "jupyter": {
     "source_hidden": true
    },
    "papermill": {
     "duration": 0.103425,
     "end_time": "2022-01-18T00:17:43.277960",
     "exception": false,
     "start_time": "2022-01-18T00:17:43.174535",
     "status": "completed"
    },
    "tags": []
   },
   "outputs": [
    {
     "name": "stderr",
     "output_type": "stream",
     "text": [
      "/tmp/ipykernel_15768/820980807.py:2: SettingWithCopyWarning: \n",
      "A value is trying to be set on a copy of a slice from a DataFrame.\n",
      "Try using .loc[row_indexer,col_indexer] = value instead\n",
      "\n",
      "See the caveats in the documentation: https://pandas.pydata.org/pandas-docs/stable/user_guide/indexing.html#returning-a-view-versus-a-copy\n",
      "  df2.loc[list(df2_age0_idx),'Age']=16.5\n"
     ]
    }
   ],
   "source": [
    "#Assigns an age of 16 to all rows with missing Age values\n",
    "df2.loc[list(df2_age0_idx),'Age']=16.5"
   ]
  },
  {
   "cell_type": "code",
   "execution_count": 16,
   "id": "20f7c28d",
   "metadata": {
    "jupyter": {
     "source_hidden": true
    },
    "papermill": {
     "duration": 0.10027,
     "end_time": "2022-01-18T00:17:43.464885",
     "exception": false,
     "start_time": "2022-01-18T00:17:43.364615",
     "status": "completed"
    },
    "tags": []
   },
   "outputs": [
    {
     "name": "stdout",
     "output_type": "stream",
     "text": [
      "[False False False False False False False False False False False False\n",
      " False False False False False False False False False False False False\n",
      " False False False False False False False False False False False False\n",
      " False False False False False False False False False False False False\n",
      " False False False False False False False False False False False False\n",
      " False False False False False False]\n"
     ]
    },
    {
     "data": {
      "text/plain": [
       "0"
      ]
     },
     "execution_count": 16,
     "metadata": {},
     "output_type": "execute_result"
    }
   ],
   "source": [
    "#Confirms that there are no Ages equal to 0.\n",
    "print(df2['Age'].unique()==0)\n",
    "len(df2[df2['Age']==0])"
   ]
  },
  {
   "cell_type": "markdown",
   "id": "3a39db5b",
   "metadata": {
    "papermill": {
     "duration": 0.086789,
     "end_time": "2022-01-18T00:17:43.641503",
     "exception": false,
     "start_time": "2022-01-18T00:17:43.554714",
     "status": "completed"
    },
    "tags": []
   },
   "source": [
    "Next we are going to check if there are any duplicate rows."
   ]
  },
  {
   "cell_type": "code",
   "execution_count": 17,
   "id": "2528ceb6",
   "metadata": {
    "jupyter": {
     "source_hidden": true
    },
    "papermill": {
     "duration": 0.145263,
     "end_time": "2022-01-18T00:17:43.878626",
     "exception": false,
     "start_time": "2022-01-18T00:17:43.733363",
     "status": "completed"
    },
    "tags": []
   },
   "outputs": [
    {
     "name": "stdout",
     "output_type": "stream",
     "text": [
      "True\n"
     ]
    }
   ],
   "source": [
    "#Since the length of the df2 is the same as the df2.drop_duplicates, this tells us\n",
    "#there are no duplicate rows\n",
    "print(len(df2.drop_duplicates())==len(df2))"
   ]
  },
  {
   "cell_type": "markdown",
   "id": "88df1a94",
   "metadata": {
    "papermill": {
     "duration": 0.087772,
     "end_time": "2022-01-18T00:17:44.055311",
     "exception": false,
     "start_time": "2022-01-18T00:17:43.967539",
     "status": "completed"
    },
    "tags": []
   },
   "source": [
    "# **PART 5:** Further investigation for insights - possible features\n",
    "\n",
    "The goal here is to gather some insight into the relationship between our observations and the desired predicted feature, 'FraudFound_P'."
   ]
  },
  {
   "cell_type": "code",
   "execution_count": 18,
   "id": "aa99abc9",
   "metadata": {
    "jupyter": {
     "source_hidden": true
    },
    "papermill": {
     "duration": 0.576258,
     "end_time": "2022-01-18T00:17:44.719796",
     "exception": false,
     "start_time": "2022-01-18T00:17:44.143538",
     "status": "completed"
    },
    "tags": []
   },
   "outputs": [
    {
     "name": "stdout",
     "output_type": "stream",
     "text": [
      "    Feature                  Chi2 val        p-val\n",
      "--  --------------------  -----------  -----------\n",
      "15  FraudFound_P          15401.2      0\n",
      "12  PolicyType              437.491    1.76844e-89\n",
      "32  BasePolicy              402.947    3.17044e-88\n",
      "13  VehicleCategory         290.981    6.52082e-64\n",
      "11  Fault                   264.985    1.40618e-59\n",
      "29  AddressChange_Claim     104.723    9.70472e-22\n",
      "18  Deductible               72.4063   1.30283e-15\n",
      "14  VehiclePrice             67.8361   2.88832e-13\n",
      "22  PastNumberOfClaims       53.5418   1.4052e-11\n",
      " 3  Make                     59.8153   2.19157e-06\n",
      " 6  MonthClaimed             42.2005   1.49524e-05\n",
      " 4  AccidentArea             16.9019   3.9363e-05\n",
      "24  AgeOfPolicyHolder        33.1049   5.89656e-05\n",
      " 8  Sex                      13.4957   0.000239114\n",
      "28  NumberOfSuppliments      18.1555   0.000408528\n",
      "10  Age                     109.665    0.000447208\n",
      " 0  Month                    29.7715   0.0017209\n",
      "23  AgeOfVehicle             21.9951   0.00254532\n",
      "27  AgentType                 7.38047  0.0065936\n",
      "31  Year                      9.59259  0.00826031\n",
      "20  Days_Policy_Accident     11.5698   0.0208538\n"
     ]
    }
   ],
   "source": [
    "df2_chi_result=[]\n",
    "for feat in df2.columns:\n",
    "    chi2_val, p_val, dof2, ex1 = stats.chi2_contingency(pd.crosstab(df2[feat], df2['FraudFound_P']))\n",
    "    df2_chi_result.append([feat,chi2_val,p_val])\n",
    "    \n",
    "chi_df = pd.DataFrame(df2_chi_result, columns=['Features', 'Chi2 val', 'p-val'])\n",
    "chi_df.sort_values(by='p-val',ascending=True, inplace=True)    \n",
    "#Printing on the variables that had a p-val less than 0.05\n",
    "print(tabulate(chi_df[chi_df['p-val']<0.05], headers=['Feature', 'Chi2 val', 'p-val']))"
   ]
  },
  {
   "cell_type": "code",
   "execution_count": 19,
   "id": "20b16e7c",
   "metadata": {
    "jupyter": {
     "source_hidden": true
    },
    "papermill": {
     "duration": 0.643227,
     "end_time": "2022-01-18T00:17:45.450815",
     "exception": false,
     "start_time": "2022-01-18T00:17:44.807588",
     "status": "completed"
    },
    "tags": []
   },
   "outputs": [
    {
     "data": {
      "text/html": [
       "<div>\n",
       "<style scoped>\n",
       "    .dataframe tbody tr th:only-of-type {\n",
       "        vertical-align: middle;\n",
       "    }\n",
       "\n",
       "    .dataframe tbody tr th {\n",
       "        vertical-align: top;\n",
       "    }\n",
       "\n",
       "    .dataframe thead th {\n",
       "        text-align: right;\n",
       "    }\n",
       "</style>\n",
       "<table border=\"1\" class=\"dataframe\">\n",
       "  <thead>\n",
       "    <tr style=\"text-align: right;\">\n",
       "      <th></th>\n",
       "      <th>PolicyType</th>\n",
       "      <th>FraudFound_P</th>\n",
       "      <th>Total Accidents</th>\n",
       "      <th>Percentage by PolicyType</th>\n",
       "      <th>Percentage by Total</th>\n",
       "    </tr>\n",
       "  </thead>\n",
       "  <tbody>\n",
       "    <tr>\n",
       "      <th>0</th>\n",
       "      <td>Sedan - All Perils</td>\n",
       "      <td>411</td>\n",
       "      <td>4086</td>\n",
       "      <td>10.059</td>\n",
       "      <td>2.666</td>\n",
       "    </tr>\n",
       "    <tr>\n",
       "      <th>1</th>\n",
       "      <td>Sedan - Collision</td>\n",
       "      <td>384</td>\n",
       "      <td>5584</td>\n",
       "      <td>6.877</td>\n",
       "      <td>2.49</td>\n",
       "    </tr>\n",
       "    <tr>\n",
       "      <th>2</th>\n",
       "      <td>Sedan - Liability</td>\n",
       "      <td>36</td>\n",
       "      <td>4987</td>\n",
       "      <td>0.722</td>\n",
       "      <td>0.233</td>\n",
       "    </tr>\n",
       "    <tr>\n",
       "      <th>3</th>\n",
       "      <td>Sport - All Perils</td>\n",
       "      <td>0</td>\n",
       "      <td>22</td>\n",
       "      <td>0.0</td>\n",
       "      <td>0.0</td>\n",
       "    </tr>\n",
       "    <tr>\n",
       "      <th>4</th>\n",
       "      <td>Sport - Collision</td>\n",
       "      <td>48</td>\n",
       "      <td>348</td>\n",
       "      <td>13.793</td>\n",
       "      <td>0.311</td>\n",
       "    </tr>\n",
       "    <tr>\n",
       "      <th>5</th>\n",
       "      <td>Sport - Liability</td>\n",
       "      <td>0</td>\n",
       "      <td>1</td>\n",
       "      <td>0.0</td>\n",
       "      <td>0.0</td>\n",
       "    </tr>\n",
       "    <tr>\n",
       "      <th>6</th>\n",
       "      <td>Utility - All Perils</td>\n",
       "      <td>41</td>\n",
       "      <td>340</td>\n",
       "      <td>12.059</td>\n",
       "      <td>0.266</td>\n",
       "    </tr>\n",
       "    <tr>\n",
       "      <th>7</th>\n",
       "      <td>Utility - Collision</td>\n",
       "      <td>3</td>\n",
       "      <td>30</td>\n",
       "      <td>10.0</td>\n",
       "      <td>0.019</td>\n",
       "    </tr>\n",
       "    <tr>\n",
       "      <th>8</th>\n",
       "      <td>Utility - Liability</td>\n",
       "      <td>0</td>\n",
       "      <td>21</td>\n",
       "      <td>0.0</td>\n",
       "      <td>0.0</td>\n",
       "    </tr>\n",
       "    <tr>\n",
       "      <th>9</th>\n",
       "      <td>Column total</td>\n",
       "      <td>923</td>\n",
       "      <td>15419</td>\n",
       "      <td>53.51</td>\n",
       "      <td>5.985</td>\n",
       "    </tr>\n",
       "  </tbody>\n",
       "</table>\n",
       "</div>"
      ],
      "text/plain": [
       "             PolicyType FraudFound_P Total Accidents Percentage by PolicyType  \\\n",
       "0    Sedan - All Perils          411            4086                   10.059   \n",
       "1     Sedan - Collision          384            5584                    6.877   \n",
       "2     Sedan - Liability           36            4987                    0.722   \n",
       "3    Sport - All Perils            0              22                      0.0   \n",
       "4     Sport - Collision           48             348                   13.793   \n",
       "5     Sport - Liability            0               1                      0.0   \n",
       "6  Utility - All Perils           41             340                   12.059   \n",
       "7   Utility - Collision            3              30                     10.0   \n",
       "8   Utility - Liability            0              21                      0.0   \n",
       "9          Column total          923           15419                    53.51   \n",
       "\n",
       "  Percentage by Total  \n",
       "0               2.666  \n",
       "1                2.49  \n",
       "2               0.233  \n",
       "3                 0.0  \n",
       "4               0.311  \n",
       "5                 0.0  \n",
       "6               0.266  \n",
       "7               0.019  \n",
       "8                 0.0  \n",
       "9               5.985  "
      ]
     },
     "execution_count": 19,
     "metadata": {},
     "output_type": "execute_result"
    },
    {
     "data": {
      "image/png": "[encoded data removed]",
      "text/plain": [
       "<Figure size 1584x432 with 2 Axes>"
      ]
     },
     "metadata": {
      "needs_background": "light"
     },
     "output_type": "display_data"
    }
   ],
   "source": [
    "#plotting by FraudFound, looking to see if there are anything obvious that correlates to fraud\n",
    "gpd_val1=df2.groupby('PolicyType').agg({'FraudFound_P':'sum'}).reset_index()\n",
    "gpd_val2=df2.groupby('PolicyType').agg('count').reset_index()\n",
    "\n",
    "fig, (ax1,ax2) = plt.subplots(2,1,figsize=(22, 6))\n",
    "sns.barplot(x='PolicyType', y='FraudFound_P', data = gpd_val1, ax=ax1)\n",
    "sns.barplot(x='PolicyType', y='FraudFound_P', data=gpd_val2, ax=ax2)\n",
    "\n",
    "ax2.set(ylabel='Total counts')\n",
    "\n",
    "None\n",
    "\n",
    "total_list = pd.concat([gpd_val1, gpd_val2['FraudFound_P'].rename('Total Accidents')],axis=1)\n",
    "total_list['Percentage by PolicyType']= round((total_list['FraudFound_P']/total_list['Total Accidents'])*100,3)\n",
    "total_list['Percentage by Total'] = round((total_list['FraudFound_P']/sum(total_list['Total Accidents']))*100,3)\n",
    "\n",
    "ax2.set(ylabel='Total counts')\n",
    "\n",
    "data = [['Column total'],\n",
    "        [sum(total_list['FraudFound_P'])], \n",
    "        [sum(total_list['Total Accidents'])], \n",
    "        [sum(total_list['Percentage by PolicyType'])], \n",
    "        [sum(total_list['Percentage by Total'])]]\n",
    "\n",
    "nr = pd.DataFrame(data)\n",
    "\n",
    "nr1 = nr.transpose()\n",
    "nr1.rename(columns={0:'PolicyType',1:'FraudFound_P',2:'Total Accidents',3:'Percentage by PolicyType',4:'Percentage by Total'}, inplace=True)\n",
    "pd.concat([total_list,nr1],ignore_index=True)\n"
   ]
  },
  {
   "cell_type": "code",
   "execution_count": 20,
   "id": "94c2af12",
   "metadata": {
    "jupyter": {
     "source_hidden": true
    },
    "papermill": {
     "duration": 0.57781,
     "end_time": "2022-01-18T00:17:46.120546",
     "exception": false,
     "start_time": "2022-01-18T00:17:45.542736",
     "status": "completed"
    },
    "tags": []
   },
   "outputs": [
    {
     "name": "stdout",
     "output_type": "stream",
     "text": [
      "    VehicleCategory      FraudFound_P    Total Accidents    Percentage by VehicleCategory    Percentage by Total\n",
      "--  -----------------  --------------  -----------------  -------------------------------  ---------------------\n",
      " 0  Sedan                         795               9670                            8.221                  5.156\n",
      " 1  Sport                          84               5358                            1.568                  0.545\n",
      " 2  Utility                        44                391                           11.253                  0.285\n",
      " 3  Column total                  923              15419                           21.042                  5.986\n",
      " \n",
      "    BasePolicy      FraudFound_P    Total Accidents    Percentage by BasePolicy    Percentage by Total\n",
      "--  ------------  --------------  -----------------  --------------------------  ---------------------\n",
      " 0  All Perils               452               4448                      10.162                  2.931\n",
      " 1  Collision                435               5962                       7.296                  2.821\n",
      " 2  Liability                 36               5009                       0.719                  0.233\n",
      " 3  Column total             923              15419                      18.177                  5.985\n"
     ]
    },
    {
     "data": {
      "image/png": "[encoded data removed]",
      "text/plain": [
       "<Figure size 1584x432 with 2 Axes>"
      ]
     },
     "metadata": {
      "needs_background": "light"
     },
     "output_type": "display_data"
    }
   ],
   "source": [
    "#plotting by FraudFound, looking to see if there are anything obvious that correlates to fraud\n",
    "gpd_val1=df2.groupby('VehicleCategory').agg({'FraudFound_P':'sum'}).reset_index()\n",
    "gpd_val6=df2.groupby('VehicleCategory').agg('count').reset_index()\n",
    "gpd_val3=df2.groupby('BasePolicy').agg({'FraudFound_P':'sum'}).reset_index()\n",
    "gpd_val7=df2.groupby('BasePolicy').agg('count').reset_index()\n",
    "\n",
    "fig, (ax1, ax3) = plt.subplots(1,2,figsize=(22, 6))\n",
    "sns.barplot(x='VehicleCategory', y='FraudFound_P', data = gpd_val1, ax=ax1)\n",
    "#sns.barplot(x='VehicleCategory', y='FraudFound_P', data = gpd_val2, ax=ax2)\n",
    "sns.barplot(x='BasePolicy', y='FraudFound_P', data = gpd_val3, ax=ax3)\n",
    "#sns.barplot(x='BasePolicy', y='FraudFound_P', data = gpd_val4, ax=ax4)\n",
    "None\n",
    "\n",
    "\n",
    "total_list1 = pd.concat([gpd_val1, gpd_val6['FraudFound_P'].rename('Total Accidents')],axis=1)\n",
    "total_list1['Percentage by VehicleCategory']= round((total_list1['FraudFound_P']/total_list1['Total Accidents'])*100,3)\n",
    "total_list1['Percentage by Total'] = round((total_list1['FraudFound_P']/sum(total_list1['Total Accidents']))*100,3)\n",
    "\n",
    "total_list2 = pd.concat([gpd_val3, gpd_val7['FraudFound_P'].rename('Total Accidents')],axis=1)\n",
    "total_list2['Percentage by BasePolicy']= round((total_list2['FraudFound_P']/total_list2['Total Accidents'])*100,3)\n",
    "total_list2['Percentage by Total'] = round((total_list2['FraudFound_P']/sum(total_list2['Total Accidents']))*100,3)\n",
    "\n",
    "data1 = [['Column total'],\n",
    "        [sum(total_list1['FraudFound_P'])], \n",
    "        [sum(total_list1['Total Accidents'])], \n",
    "        [sum(total_list1['Percentage by VehicleCategory'])], \n",
    "        [sum(total_list1['Percentage by Total'])]]\n",
    "\n",
    "data2 = [['Column total'],\n",
    "        [sum(total_list2['FraudFound_P'])], \n",
    "        [sum(total_list2['Total Accidents'])], \n",
    "        [sum(total_list2['Percentage by BasePolicy'])], \n",
    "        [sum(total_list2['Percentage by Total'])]]\n",
    "\n",
    "nr1 = pd.DataFrame(data1)\n",
    "nr1 = nr1.transpose()\n",
    "nr1.rename(columns={0:'VehicleCategory',1:'FraudFound_P',2:'Total Accidents',3:'Percentage by VehicleCategory',4:'Percentage by Total'}, inplace=True)\n",
    "tl1=pd.concat([total_list1,nr1],ignore_index=True)\n",
    "\n",
    "nr2 = pd.DataFrame(data2)\n",
    "nr2 = nr2.transpose()\n",
    "nr2.rename(columns={0:'BasePolicy',1:'FraudFound_P',2:'Total Accidents',3:'Percentage by BasePolicy',4:'Percentage by Total'}, inplace=True)\n",
    "tl2=pd.concat([total_list2,nr2],ignore_index=True)\n",
    "\n",
    "print(tabulate(tl1, headers=tl1.columns))\n",
    "print(' ')\n",
    "print(tabulate(tl2, headers=tl2.columns))\n",
    "\n"
   ]
  },
  {
   "cell_type": "code",
   "execution_count": 21,
   "id": "ac8f305c",
   "metadata": {
    "jupyter": {
     "source_hidden": true
    },
    "papermill": {
     "duration": 0.750389,
     "end_time": "2022-01-18T00:17:46.961677",
     "exception": false,
     "start_time": "2022-01-18T00:17:46.211288",
     "status": "completed"
    },
    "tags": []
   },
   "outputs": [
    {
     "name": "stdout",
     "output_type": "stream",
     "text": [
      "    Fault            FraudFound_P    Total Accidents    Percentage by Fault    Percentage by Total\n",
      "--  -------------  --------------  -----------------  ---------------------  ---------------------\n",
      " 0  Policy Holder             886              11229                  7.89                   5.746\n",
      " 1  Third Party                37               4190                  0.883                  0.24\n",
      " 2  Column total              923              15419                  8.773                  5.986\n",
      " \n",
      "    Deductible      FraudFound_P    Total Accidents    Percentage by Deductible    Percentage by Total\n",
      "--  ------------  --------------  -----------------  --------------------------  ---------------------\n",
      " 0  300                        2                  8                      25                      0.013\n",
      " 1  400                      856              14837                       5.769                  5.552\n",
      " 2  500                       47                263                      17.871                  0.305\n",
      " 3  700                       18                311                       5.788                  0.117\n",
      " 4  Column total             923              15419                      54.428                  5.987\n",
      " \n",
      "    AddressChange_Claim      FraudFound_P    Total Accidents    Percentage by AddressChange_Claim    Percentage by Total\n",
      "--  ---------------------  --------------  -----------------  -----------------------------------  ---------------------\n",
      " 0  1 year                             11                170                                6.471                  0.071\n",
      " 1  2 to 3 years                       51                291                               17.526                  0.331\n",
      " 2  4 to 8 years                       33                631                                5.23                   0.214\n",
      " 3  no change                         825              14323                                5.76                   5.351\n",
      " 4  under 6 months                      3                  4                               75                      0.019\n",
      " 5  Column total                      923              15419                              109.987                  5.986\n",
      " \n"
     ]
    },
    {
     "data": {
      "image/png": "[encoded data removed]",
      "text/plain": [
       "<Figure size 1584x432 with 3 Axes>"
      ]
     },
     "metadata": {
      "needs_background": "light"
     },
     "output_type": "display_data"
    }
   ],
   "source": [
    "#plotting by FraudFound, looking to see if there are anything obvious that correlates to fraud\n",
    "gpd_val1=df2.groupby('Fault').agg({'FraudFound_P':'sum'}).reset_index()\n",
    "gpd_val2=df2.groupby('Deductible').agg({'FraudFound_P':'sum'}).reset_index()\n",
    "gpd_val3=df2.groupby('AddressChange_Claim').agg({'FraudFound_P':'sum'}).reset_index()\n",
    "\n",
    "gpd_valc1=df2.groupby('Fault').agg('count').reset_index()\n",
    "gpd_valc2=df2.groupby('Deductible').agg('count').reset_index()\n",
    "gpd_valc3=df2.groupby('AddressChange_Claim').agg('count').reset_index()\n",
    "\n",
    "fig, (ax1,ax2,ax3) = plt.subplots(1,3,figsize=(22, 6))\n",
    "sns.barplot(x='Fault', y='FraudFound_P', data = gpd_val1, ax=ax1)\n",
    "sns.barplot(x='Deductible', y='FraudFound_P', data = gpd_val2, ax=ax3)\n",
    "sns.barplot(x='AddressChange_Claim', y='FraudFound_P', data = gpd_val3, ax=ax2)\n",
    "\n",
    "part_list=[gpd_val1, gpd_val2, gpd_val3]\n",
    "counts_lst=[gpd_valc1,gpd_valc2,gpd_valc3]\n",
    "srch_gp=['Fault','Deductible','AddressChange_Claim']\n",
    "total_list=[]\n",
    "for i in range(len(counts_lst)):\n",
    "    temp1 = counts_lst[i]\n",
    "    gby=srch_gp[i]\n",
    "    temp2=  pd.concat([part_list[i], temp1['FraudFound_P'].rename('Total Accidents')],axis=1) \n",
    "    temp2['Percentage by {}'.format(gby)]= round((temp2['FraudFound_P']/temp2['Total Accidents'])*100,3)\n",
    "    temp2['Percentage by Total'] = round((temp2['FraudFound_P']/sum(temp2['Total Accidents']))*100,3)\n",
    "    \n",
    "    temp3 = [['Column total'],\n",
    "        [sum(temp2['FraudFound_P'])], \n",
    "        [sum(temp2['Total Accidents'])], \n",
    "        [sum(temp2['Percentage by {}'.format(gby)])], \n",
    "        [sum(temp2['Percentage by Total'])]]\n",
    "\n",
    "    nr1 = pd.DataFrame(temp3)\n",
    "    nr1 = nr1.transpose()\n",
    "    nr1.rename(columns={0:'{}'.format(gby),1:'FraudFound_P',2:'Total Accidents',3:'Percentage by {}'.format(gby),4:'Percentage by Total'}, inplace=True)\n",
    "    total_list.append(pd.concat([temp2,nr1],ignore_index=True))\n",
    "\n",
    "for ii in range(len(total_list)):\n",
    "    print(tabulate(total_list[ii], headers=total_list[ii].columns))\n",
    "    print(' ')"
   ]
  },
  {
   "cell_type": "code",
   "execution_count": 22,
   "id": "055fdfdb",
   "metadata": {
    "jupyter": {
     "source_hidden": true
    },
    "papermill": {
     "duration": 0.709282,
     "end_time": "2022-01-18T00:17:47.785266",
     "exception": false,
     "start_time": "2022-01-18T00:17:47.075984",
     "status": "completed"
    },
    "tags": []
   },
   "outputs": [
    {
     "data": {
      "image/png": "[encoded data removed]",
      "text/plain": [
       "<Figure size 1584x432 with 3 Axes>"
      ]
     },
     "metadata": {
      "needs_background": "light"
     },
     "output_type": "display_data"
    }
   ],
   "source": [
    "#VehiclePrice, PastNumberOfClaims, MonthCalimed\n",
    "gpd_val1=df2.groupby('VehiclePrice').agg({'FraudFound_P':'sum'}).reset_index()\n",
    "gpd_val2=df2.groupby('PastNumberOfClaims').agg({'FraudFound_P':'sum'}).reset_index()\n",
    "gpd_val3=df2.groupby('MonthClaimed').agg({'FraudFound_P':'sum'}).reset_index()\n",
    "\n",
    "\n",
    "fig, (ax1,ax2,ax3) = plt.subplots(1,3,figsize=(22, 6))\n",
    "grph1=sns.barplot(x='VehiclePrice', y='FraudFound_P', data = gpd_val1, ax=ax1)\n",
    "sns.barplot(x='PastNumberOfClaims', y='FraudFound_P', data = gpd_val2, ax=ax2)\n",
    "sns.barplot(x='MonthClaimed', y='FraudFound_P', data = gpd_val3, ax=ax3)\n",
    "\n",
    "grph1.set_xticklabels(grph1.get_xticklabels(),\n",
    "                    rotation=45,\n",
    "                    horizontalalignment='right'\n",
    "                    )\n",
    "None"
   ]
  },
  {
   "cell_type": "code",
   "execution_count": 23,
   "id": "88917f5f",
   "metadata": {
    "jupyter": {
     "source_hidden": true
    },
    "papermill": {
     "duration": 0.782199,
     "end_time": "2022-01-18T00:17:48.661905",
     "exception": false,
     "start_time": "2022-01-18T00:17:47.879706",
     "status": "completed"
    },
    "tags": []
   },
   "outputs": [
    {
     "data": {
      "text/html": [
       "<div>\n",
       "<style scoped>\n",
       "    .dataframe tbody tr th:only-of-type {\n",
       "        vertical-align: middle;\n",
       "    }\n",
       "\n",
       "    .dataframe tbody tr th {\n",
       "        vertical-align: top;\n",
       "    }\n",
       "\n",
       "    .dataframe thead th {\n",
       "        text-align: right;\n",
       "    }\n",
       "</style>\n",
       "<table border=\"1\" class=\"dataframe\">\n",
       "  <thead>\n",
       "    <tr style=\"text-align: right;\">\n",
       "      <th></th>\n",
       "      <th>Make</th>\n",
       "      <th>FraudFound_P</th>\n",
       "      <th>Total Accidents</th>\n",
       "      <th>Percentage by Make</th>\n",
       "      <th>Percentage by Total</th>\n",
       "    </tr>\n",
       "  </thead>\n",
       "  <tbody>\n",
       "    <tr>\n",
       "      <th>0</th>\n",
       "      <td>Accura</td>\n",
       "      <td>59</td>\n",
       "      <td>472</td>\n",
       "      <td>12.5</td>\n",
       "      <td>0.383</td>\n",
       "    </tr>\n",
       "    <tr>\n",
       "      <th>1</th>\n",
       "      <td>BMW</td>\n",
       "      <td>1</td>\n",
       "      <td>15</td>\n",
       "      <td>6.667</td>\n",
       "      <td>0.006</td>\n",
       "    </tr>\n",
       "    <tr>\n",
       "      <th>2</th>\n",
       "      <td>Chevrolet</td>\n",
       "      <td>94</td>\n",
       "      <td>1681</td>\n",
       "      <td>5.592</td>\n",
       "      <td>0.61</td>\n",
       "    </tr>\n",
       "    <tr>\n",
       "      <th>3</th>\n",
       "      <td>Dodge</td>\n",
       "      <td>2</td>\n",
       "      <td>109</td>\n",
       "      <td>1.835</td>\n",
       "      <td>0.013</td>\n",
       "    </tr>\n",
       "    <tr>\n",
       "      <th>4</th>\n",
       "      <td>Ferrari</td>\n",
       "      <td>0</td>\n",
       "      <td>2</td>\n",
       "      <td>0.0</td>\n",
       "      <td>0.0</td>\n",
       "    </tr>\n",
       "    <tr>\n",
       "      <th>5</th>\n",
       "      <td>Ford</td>\n",
       "      <td>33</td>\n",
       "      <td>450</td>\n",
       "      <td>7.333</td>\n",
       "      <td>0.214</td>\n",
       "    </tr>\n",
       "    <tr>\n",
       "      <th>6</th>\n",
       "      <td>Honda</td>\n",
       "      <td>179</td>\n",
       "      <td>2800</td>\n",
       "      <td>6.393</td>\n",
       "      <td>1.161</td>\n",
       "    </tr>\n",
       "    <tr>\n",
       "      <th>7</th>\n",
       "      <td>Jaguar</td>\n",
       "      <td>0</td>\n",
       "      <td>6</td>\n",
       "      <td>0.0</td>\n",
       "      <td>0.0</td>\n",
       "    </tr>\n",
       "    <tr>\n",
       "      <th>8</th>\n",
       "      <td>Lexus</td>\n",
       "      <td>0</td>\n",
       "      <td>1</td>\n",
       "      <td>0.0</td>\n",
       "      <td>0.0</td>\n",
       "    </tr>\n",
       "    <tr>\n",
       "      <th>9</th>\n",
       "      <td>Mazda</td>\n",
       "      <td>123</td>\n",
       "      <td>2354</td>\n",
       "      <td>5.225</td>\n",
       "      <td>0.798</td>\n",
       "    </tr>\n",
       "    <tr>\n",
       "      <th>10</th>\n",
       "      <td>Mecedes</td>\n",
       "      <td>1</td>\n",
       "      <td>4</td>\n",
       "      <td>25.0</td>\n",
       "      <td>0.006</td>\n",
       "    </tr>\n",
       "    <tr>\n",
       "      <th>11</th>\n",
       "      <td>Mercury</td>\n",
       "      <td>6</td>\n",
       "      <td>83</td>\n",
       "      <td>7.229</td>\n",
       "      <td>0.039</td>\n",
       "    </tr>\n",
       "    <tr>\n",
       "      <th>12</th>\n",
       "      <td>Nisson</td>\n",
       "      <td>1</td>\n",
       "      <td>30</td>\n",
       "      <td>3.333</td>\n",
       "      <td>0.006</td>\n",
       "    </tr>\n",
       "    <tr>\n",
       "      <th>13</th>\n",
       "      <td>Pontiac</td>\n",
       "      <td>213</td>\n",
       "      <td>3837</td>\n",
       "      <td>5.551</td>\n",
       "      <td>1.381</td>\n",
       "    </tr>\n",
       "    <tr>\n",
       "      <th>14</th>\n",
       "      <td>Porche</td>\n",
       "      <td>0</td>\n",
       "      <td>5</td>\n",
       "      <td>0.0</td>\n",
       "      <td>0.0</td>\n",
       "    </tr>\n",
       "    <tr>\n",
       "      <th>15</th>\n",
       "      <td>Saab</td>\n",
       "      <td>11</td>\n",
       "      <td>108</td>\n",
       "      <td>10.185</td>\n",
       "      <td>0.071</td>\n",
       "    </tr>\n",
       "    <tr>\n",
       "      <th>16</th>\n",
       "      <td>Saturn</td>\n",
       "      <td>6</td>\n",
       "      <td>58</td>\n",
       "      <td>10.345</td>\n",
       "      <td>0.039</td>\n",
       "    </tr>\n",
       "    <tr>\n",
       "      <th>17</th>\n",
       "      <td>Toyota</td>\n",
       "      <td>186</td>\n",
       "      <td>3121</td>\n",
       "      <td>5.96</td>\n",
       "      <td>1.206</td>\n",
       "    </tr>\n",
       "    <tr>\n",
       "      <th>18</th>\n",
       "      <td>VW</td>\n",
       "      <td>8</td>\n",
       "      <td>283</td>\n",
       "      <td>2.827</td>\n",
       "      <td>0.052</td>\n",
       "    </tr>\n",
       "    <tr>\n",
       "      <th>19</th>\n",
       "      <td>Column total</td>\n",
       "      <td>923</td>\n",
       "      <td>15419</td>\n",
       "      <td>115.975</td>\n",
       "      <td>5.985</td>\n",
       "    </tr>\n",
       "  </tbody>\n",
       "</table>\n",
       "</div>"
      ],
      "text/plain": [
       "            Make FraudFound_P Total Accidents Percentage by Make  \\\n",
       "0         Accura           59             472               12.5   \n",
       "1            BMW            1              15              6.667   \n",
       "2      Chevrolet           94            1681              5.592   \n",
       "3          Dodge            2             109              1.835   \n",
       "4        Ferrari            0               2                0.0   \n",
       "5           Ford           33             450              7.333   \n",
       "6          Honda          179            2800              6.393   \n",
       "7         Jaguar            0               6                0.0   \n",
       "8          Lexus            0               1                0.0   \n",
       "9          Mazda          123            2354              5.225   \n",
       "10       Mecedes            1               4               25.0   \n",
       "11       Mercury            6              83              7.229   \n",
       "12        Nisson            1              30              3.333   \n",
       "13       Pontiac          213            3837              5.551   \n",
       "14        Porche            0               5                0.0   \n",
       "15          Saab           11             108             10.185   \n",
       "16        Saturn            6              58             10.345   \n",
       "17        Toyota          186            3121               5.96   \n",
       "18            VW            8             283              2.827   \n",
       "19  Column total          923           15419            115.975   \n",
       "\n",
       "   Percentage by Total  \n",
       "0                0.383  \n",
       "1                0.006  \n",
       "2                 0.61  \n",
       "3                0.013  \n",
       "4                  0.0  \n",
       "5                0.214  \n",
       "6                1.161  \n",
       "7                  0.0  \n",
       "8                  0.0  \n",
       "9                0.798  \n",
       "10               0.006  \n",
       "11               0.039  \n",
       "12               0.006  \n",
       "13               1.381  \n",
       "14                 0.0  \n",
       "15               0.071  \n",
       "16               0.039  \n",
       "17               1.206  \n",
       "18               0.052  \n",
       "19               5.985  "
      ]
     },
     "execution_count": 23,
     "metadata": {},
     "output_type": "execute_result"
    },
    {
     "data": {
      "image/png": "[encoded data removed]",
      "text/plain": [
       "<Figure size 1584x432 with 2 Axes>"
      ]
     },
     "metadata": {
      "needs_background": "light"
     },
     "output_type": "display_data"
    }
   ],
   "source": [
    "#plotting by FraudFound, looking to see if there are anything obvious that correlates to fraud\n",
    "gpd_val1=df2.groupby('Make').agg({'FraudFound_P':'sum'}).reset_index()\n",
    "gpd_val2=df2.groupby('Make').agg('count').reset_index()\n",
    "\n",
    "fig, (ax1,ax2) = plt.subplots(2,1,figsize=(22, 6))\n",
    "sns.barplot(x='Make', y='FraudFound_P', data = gpd_val1,ax=ax1)\n",
    "sns.barplot(x='Make', y='FraudFound_P', data = gpd_val2,ax=ax2)\n",
    "\n",
    "total_list = pd.concat([gpd_val1, gpd_val2['FraudFound_P'].rename('Total Accidents')],axis=1)\n",
    "total_list['Percentage by Make']= round((total_list['FraudFound_P']/total_list['Total Accidents'])*100,3)\n",
    "total_list['Percentage by Total'] = round((total_list['FraudFound_P']/sum(total_list['Total Accidents']))*100,3)\n",
    "\n",
    "ax2.set(ylabel='Total counts')\n",
    "\n",
    "data = [['Column total'],\n",
    "        [sum(total_list['FraudFound_P'])], \n",
    "        [sum(total_list['Total Accidents'])], \n",
    "        [sum(total_list['Percentage by Make'])], \n",
    "        [sum(total_list['Percentage by Total'])]]\n",
    "\n",
    "nr = pd.DataFrame(data)\n",
    "\n",
    "nr1 = nr.transpose()\n",
    "nr1.rename(columns={0:'Make',1:'FraudFound_P',2:'Total Accidents',3:'Percentage by Make',4:'Percentage by Total'}, inplace=True)\n",
    "pd.concat([total_list,nr1],ignore_index=True)\n",
    "                   \n",
    "#print(tabulate(total_list, headers=total_list.columns))\n",
    "                   \n",
    "                   "
   ]
  },
  {
   "cell_type": "code",
   "execution_count": 24,
   "id": "017b1a00",
   "metadata": {
    "jupyter": {
     "source_hidden": true
    },
    "papermill": {
     "duration": 0.767664,
     "end_time": "2022-01-18T00:17:49.524247",
     "exception": false,
     "start_time": "2022-01-18T00:17:48.756583",
     "status": "completed"
    },
    "tags": []
   },
   "outputs": [
    {
     "data": {
      "image/png": "[encoded data removed]",
      "text/plain": [
       "<Figure size 1584x1296 with 6 Axes>"
      ]
     },
     "metadata": {
      "needs_background": "light"
     },
     "output_type": "display_data"
    }
   ],
   "source": [
    "#AccidentArea, AgeOfPolicyHolder, Sex\n",
    "gpd_val1=df2.groupby('AccidentArea').agg({'FraudFound_P':'sum'}).reset_index()\n",
    "gpd_val1_1=df2.groupby('AccidentArea').agg('count').reset_index()\n",
    "gpd_val2=df2.groupby('AgeOfPolicyHolder').agg({'FraudFound_P':'sum'}).reset_index()\n",
    "gpd_val2_1=df2.groupby('AgeOfPolicyHolder').agg('count').reset_index()\n",
    "gpd_val3=df2.groupby('Sex').agg({'FraudFound_P':'sum'}).reset_index()\n",
    "gpd_val3_1=df2.groupby('Sex').agg('count').reset_index()\n",
    "\n",
    "\n",
    "fig, ((ax1,ax2),(ax3,ax4),(ax5,ax6)) = plt.subplots(3,2,figsize=(22, 18))\n",
    "sns.barplot(x='AccidentArea', y='FraudFound_P', data = gpd_val1, ax=ax1)\n",
    "sns.barplot(x='AccidentArea', y='FraudFound_P', data = gpd_val1_1, ax=ax2)\n",
    "\n",
    "grph2 = sns.barplot(x='AgeOfPolicyHolder', y='FraudFound_P', data = gpd_val2, ax=ax3)\n",
    "grph2 = sns.barplot(x='AgeOfPolicyHolder', y='FraudFound_P', data = gpd_val2_1, ax=ax4)\n",
    "\n",
    "sns.barplot(x='Sex', y='FraudFound_P', data = gpd_val3, ax=ax5)\n",
    "sns.barplot(x='Sex', y='FraudFound_P', data = gpd_val3_1, ax=ax6)\n",
    "\n",
    "\n",
    "grph2.set_xticklabels(grph2.get_xticklabels(),\n",
    "                    rotation=45,\n",
    "                    horizontalalignment='right'\n",
    "                    )\n",
    "None"
   ]
  },
  {
   "cell_type": "code",
   "execution_count": 25,
   "id": "1b28613f",
   "metadata": {
    "jupyter": {
     "source_hidden": true
    },
    "papermill": {
     "duration": 0.685817,
     "end_time": "2022-01-18T00:17:50.306394",
     "exception": false,
     "start_time": "2022-01-18T00:17:49.620577",
     "status": "completed"
    },
    "tags": []
   },
   "outputs": [
    {
     "data": {
      "image/png": "[encoded data removed]",
      "text/plain": [
       "<Figure size 1584x432 with 3 Axes>"
      ]
     },
     "metadata": {
      "needs_background": "light"
     },
     "output_type": "display_data"
    }
   ],
   "source": [
    "#NumberOfSuppliements, Month, AgeOfVehicle\n",
    "gpd_val1=df2.groupby('NumberOfSuppliments').agg({'FraudFound_P':'sum'}).reset_index()\n",
    "gpd_val2=df2.groupby('Month').agg({'FraudFound_P':'sum'}).reset_index()\n",
    "gpd_val3=df2.groupby('AgeOfVehicle').agg({'FraudFound_P':'sum'}).reset_index()\n",
    "\n",
    "fig, (ax1,ax2,ax3) = plt.subplots(1,3,figsize=(22, 6))\n",
    "sns.barplot(x='NumberOfSuppliments', y='FraudFound_P', data = gpd_val1, ax=ax1)\n",
    "sns.barplot(x='Month', y='FraudFound_P', data = gpd_val2, ax=ax2)\n",
    "grph1 = sns.barplot(x='AgeOfVehicle', y='FraudFound_P', data = gpd_val3, ax=ax3)\n",
    "\n",
    "grph1.set_xticklabels(grph1.get_xticklabels(),\n",
    "                    rotation=45,\n",
    "                    horizontalalignment='right'\n",
    "                    )\n",
    "None"
   ]
  },
  {
   "cell_type": "code",
   "execution_count": 26,
   "id": "b75b02a7",
   "metadata": {
    "jupyter": {
     "source_hidden": true
    },
    "papermill": {
     "duration": 1.2364,
     "end_time": "2022-01-18T00:17:51.645375",
     "exception": false,
     "start_time": "2022-01-18T00:17:50.408975",
     "status": "completed"
    },
    "tags": []
   },
   "outputs": [
    {
     "name": "stdout",
     "output_type": "stream",
     "text": [
      "923\n"
     ]
    },
    {
     "data": {
      "image/png": "[encoded data removed]",
      "text/plain": [
       "<Figure size 1584x576 with 1 Axes>"
      ]
     },
     "metadata": {
      "needs_background": "light"
     },
     "output_type": "display_data"
    }
   ],
   "source": [
    "#plotting by FraudFound, looking to see if there are anything obvious that correlates to fraud\n",
    "gpd_val1=df2.groupby('Age').agg({'FraudFound_P':'sum'}).reset_index()\n",
    "print(gpd_val1['FraudFound_P'].sum())\n",
    "\n",
    "fig, (ax1) = plt.subplots(1,1,figsize=(22, 8))\n",
    "grph1=sns.barplot(x='Age', y='FraudFound_P', data = gpd_val1, ax=ax1)\n",
    "\n",
    "grph1.set_xticklabels(grph1.get_xticklabels(),\n",
    "                    rotation=45,\n",
    "                    horizontalalignment='right'\n",
    "                    )\n",
    "None"
   ]
  },
  {
   "cell_type": "code",
   "execution_count": 27,
   "id": "c939b2b1",
   "metadata": {
    "jupyter": {
     "source_hidden": true
    },
    "papermill": {
     "duration": 0.563131,
     "end_time": "2022-01-18T00:17:52.306697",
     "exception": false,
     "start_time": "2022-01-18T00:17:51.743566",
     "status": "completed"
    },
    "tags": []
   },
   "outputs": [
    {
     "data": {
      "text/plain": [
       "<AxesSubplot:xlabel='Days_Policy_Accident', ylabel='FraudFound_P'>"
      ]
     },
     "execution_count": 27,
     "metadata": {},
     "output_type": "execute_result"
    },
    {
     "data": {
      "image/png": "[encoded data removed]",
      "text/plain": [
       "<Figure size 1584x432 with 3 Axes>"
      ]
     },
     "metadata": {
      "needs_background": "light"
     },
     "output_type": "display_data"
    }
   ],
   "source": [
    "#AgentType, Year, Days_Policy_Accident\n",
    "#plotting by FraudFound, looking to see if there are anything obvious that correlates to fraud\n",
    "gpd_val1=df2.groupby('AgentType').agg({'FraudFound_P':'sum'}).reset_index()\n",
    "gpd_val2=df2.groupby('Year').agg({'FraudFound_P':'sum'}).reset_index()\n",
    "gpd_val3=df2.groupby('Days_Policy_Accident').agg({'FraudFound_P':'sum'}).reset_index()\n",
    "\n",
    "\n",
    "fig, (ax1,ax2,ax3) = plt.subplots(1,3,figsize=(22, 6))\n",
    "sns.barplot(x='AgentType', y='FraudFound_P', data = gpd_val1, ax=ax1)\n",
    "sns.barplot(x='Year', y='FraudFound_P', data = gpd_val2, ax=ax2)\n",
    "sns.barplot(x='Days_Policy_Accident', y='FraudFound_P', data = gpd_val3, ax=ax3)"
   ]
  },
  {
   "cell_type": "code",
   "execution_count": 28,
   "id": "378ebb09",
   "metadata": {
    "jupyter": {
     "source_hidden": true
    },
    "papermill": {
     "duration": 0.588447,
     "end_time": "2022-01-18T00:17:52.996241",
     "exception": false,
     "start_time": "2022-01-18T00:17:52.407794",
     "status": "completed"
    },
    "tags": []
   },
   "outputs": [
    {
     "data": {
      "text/plain": [
       "<AxesSubplot:xlabel='DayOfWeek', ylabel='FraudFound_P'>"
      ]
     },
     "execution_count": 28,
     "metadata": {},
     "output_type": "execute_result"
    },
    {
     "data": {
      "image/png": "[encoded data removed]",
      "text/plain": [
       "<Figure size 1584x432 with 3 Axes>"
      ]
     },
     "metadata": {
      "needs_background": "light"
     },
     "output_type": "display_data"
    }
   ],
   "source": [
    "#PoliceReportFiled, Days_Policy_Claim, DayOfWeek\n",
    "#plotting by FraudFound, looking to see if there are anything obvious that correlates to fraud\n",
    "gpd_val1=df2.groupby('PoliceReportFiled').agg({'FraudFound_P':'sum'}).reset_index()\n",
    "gpd_val2=df2.groupby('Days_Policy_Claim').agg({'FraudFound_P':'sum'}).reset_index()\n",
    "gpd_val3=df2.groupby('DayOfWeek').agg({'FraudFound_P':'sum'}).reset_index()\n",
    "\n",
    "\n",
    "fig, (ax1,ax2,ax3) = plt.subplots(1,3,figsize=(22, 6))\n",
    "sns.barplot(x='PoliceReportFiled', y='FraudFound_P', data = gpd_val1, ax=ax1)\n",
    "sns.barplot(x='Days_Policy_Claim', y='FraudFound_P', data = gpd_val2, ax=ax2)\n",
    "sns.barplot(x='DayOfWeek', y='FraudFound_P', data = gpd_val3, ax=ax3)"
   ]
  },
  {
   "cell_type": "code",
   "execution_count": 29,
   "id": "feb0e6ad",
   "metadata": {
    "jupyter": {
     "source_hidden": true
    },
    "papermill": {
     "duration": 0.585898,
     "end_time": "2022-01-18T00:17:53.685190",
     "exception": false,
     "start_time": "2022-01-18T00:17:53.099292",
     "status": "completed"
    },
    "tags": []
   },
   "outputs": [
    {
     "data": {
      "text/plain": [
       "<AxesSubplot:xlabel='DayOfWeekClaimed', ylabel='FraudFound_P'>"
      ]
     },
     "execution_count": 29,
     "metadata": {},
     "output_type": "execute_result"
    },
    {
     "data": {
      "image/png": "[encoded data removed]",
      "text/plain": [
       "<Figure size 1584x432 with 3 Axes>"
      ]
     },
     "metadata": {
      "needs_background": "light"
     },
     "output_type": "display_data"
    }
   ],
   "source": [
    "#WitnessPresent, WeekOfMonthClaimed, DayOfWeekClaimed\n",
    "#plotting by FraudFound, looking to see if there are anything obvious that correlates to fraud\n",
    "gpd_val1=df2.groupby('WitnessPresent').agg({'FraudFound_P':'sum'}).reset_index()\n",
    "gpd_val2=df2.groupby('WeekOfMonthClaimed').agg({'FraudFound_P':'sum'}).reset_index()\n",
    "gpd_val3=df2.groupby('DayOfWeekClaimed').agg({'FraudFound_P':'sum'}).reset_index()\n",
    "\n",
    "\n",
    "fig, (ax1,ax2,ax3) = plt.subplots(1,3,figsize=(22, 6))\n",
    "sns.barplot(x='WitnessPresent', y='FraudFound_P', data = gpd_val1, ax=ax1)\n",
    "sns.barplot(x='WeekOfMonthClaimed', y='FraudFound_P', data = gpd_val2, ax=ax2)\n",
    "sns.barplot(x='DayOfWeekClaimed', y='FraudFound_P', data = gpd_val3, ax=ax3)"
   ]
  },
  {
   "cell_type": "code",
   "execution_count": 30,
   "id": "33125183",
   "metadata": {
    "jupyter": {
     "source_hidden": true
    },
    "papermill": {
     "duration": 0.629099,
     "end_time": "2022-01-18T00:17:54.435147",
     "exception": false,
     "start_time": "2022-01-18T00:17:53.806048",
     "status": "completed"
    },
    "tags": []
   },
   "outputs": [
    {
     "data": {
      "text/plain": [
       "<AxesSubplot:xlabel='NumberOfCars', ylabel='FraudFound_P'>"
      ]
     },
     "execution_count": 30,
     "metadata": {},
     "output_type": "execute_result"
    },
    {
     "data": {
      "image/png": "[encoded data removed]",
      "text/plain": [
       "<Figure size 1584x432 with 3 Axes>"
      ]
     },
     "metadata": {
      "needs_background": "light"
     },
     "output_type": "display_data"
    }
   ],
   "source": [
    "#DriverRating, WeekOfMonth, NumberOfCars\n",
    "#plotting by FraudFound, looking to see if there are anything obvious that correlates to fraud\n",
    "gpd_val1=df2.groupby('DriverRating').agg({'FraudFound_P':'sum'}).reset_index()\n",
    "gpd_val2=df2.groupby('WeekOfMonth').agg({'FraudFound_P':'sum'}).reset_index()\n",
    "gpd_val3=df2.groupby('NumberOfCars').agg({'FraudFound_P':'sum'}).reset_index()\n",
    "\n",
    "\n",
    "fig, (ax1,ax2,ax3) = plt.subplots(1,3,figsize=(22, 6))\n",
    "sns.barplot(x='DriverRating', y='FraudFound_P', data = gpd_val1, ax=ax1)\n",
    "sns.barplot(x='WeekOfMonth', y='FraudFound_P', data = gpd_val2, ax=ax2)\n",
    "sns.barplot(x='NumberOfCars', y='FraudFound_P', data = gpd_val3, ax=ax3)"
   ]
  },
  {
   "cell_type": "code",
   "execution_count": 31,
   "id": "6836476f",
   "metadata": {
    "jupyter": {
     "source_hidden": true
    },
    "papermill": {
     "duration": 0.457724,
     "end_time": "2022-01-18T00:17:54.999315",
     "exception": false,
     "start_time": "2022-01-18T00:17:54.541591",
     "status": "completed"
    },
    "tags": []
   },
   "outputs": [
    {
     "data": {
      "text/plain": [
       "<AxesSubplot:xlabel='RepNumber', ylabel='FraudFound_P'>"
      ]
     },
     "execution_count": 31,
     "metadata": {},
     "output_type": "execute_result"
    },
    {
     "data": {
      "image/png": "[encoded data removed]",
      "text/plain": [
       "<Figure size 1584x432 with 1 Axes>"
      ]
     },
     "metadata": {
      "needs_background": "light"
     },
     "output_type": "display_data"
    }
   ],
   "source": [
    "#plotting by FraudFound, looking to see if there are anything obvious that correlates to fraud\n",
    "gpd_val2=df2.groupby('RepNumber').agg({'FraudFound_P':'sum'}).reset_index()\n",
    "gpd_valt2=df2.groupby('RepNumber').agg({'FraudFound_P':'sum'}).reset_index()\n",
    "\n",
    "fig, (ax2) = plt.subplots(1,1,figsize=(22, 6))\n",
    "sns.barplot(x='RepNumber', y='FraudFound_P', data = gpd_val2, ax=ax2)"
   ]
  },
  {
   "cell_type": "code",
   "execution_count": 32,
   "id": "779bc0bd",
   "metadata": {
    "jupyter": {
     "source_hidden": true
    },
    "papermill": {
     "duration": 0.330566,
     "end_time": "2022-01-18T00:17:55.436586",
     "exception": false,
     "start_time": "2022-01-18T00:17:55.106020",
     "status": "completed"
    },
    "tags": []
   },
   "outputs": [
    {
     "data": {
      "text/plain": [
       "<AxesSubplot:xlabel='MaritalStatus', ylabel='FraudFound_P'>"
      ]
     },
     "execution_count": 32,
     "metadata": {},
     "output_type": "execute_result"
    },
    {
     "data": {
      "image/png": "[encoded data removed]",
      "text/plain": [
       "<Figure size 864x432 with 1 Axes>"
      ]
     },
     "metadata": {
      "needs_background": "light"
     },
     "output_type": "display_data"
    }
   ],
   "source": [
    "#plotting by FraudFound, looking to see if there are anything obvious that correlates to fraud\n",
    "gpd_val1=df2.groupby('MaritalStatus').agg({'FraudFound_P':'sum'}).reset_index()\n",
    "#gpd_val2=df2.groupby('MaritalStatus').agg('count').reset_index()\n",
    "\n",
    "fig, (ax1) = plt.subplots(1,1,figsize=(12, 6))\n",
    "sns.barplot(x='MaritalStatus', y='FraudFound_P', data = gpd_val1, ax=ax1)\n",
    "#sns.barplot(x='MaritalStatus', y='FraudFound_P', data = gpd_val2, ax=ax2)\n"
   ]
  },
  {
   "cell_type": "code",
   "execution_count": 33,
   "id": "164dd6f6-5678-4524-9a6b-dc2e2af39180",
   "metadata": {
    "tags": []
   },
   "outputs": [],
   "source": [
    "# Save to intermediate data\n",
    "df2.to_csv('../data/02_intermediate/fraud_clean.csv')\n",
    "df2.to_csv('../data/03_primary/fraud_clean.csv')"
   ]
  },
  {
   "cell_type": "markdown",
   "id": "3e813997",
   "metadata": {
    "papermill": {
     "duration": 0.108597,
     "end_time": "2022-01-18T00:17:55.651044",
     "exception": false,
     "start_time": "2022-01-18T00:17:55.542447",
     "status": "completed"
    },
    "tags": []
   },
   "source": [
    "# **PART 6:** Splitting data into dependent and independent variables.\n",
    "\n",
    "We split the data into the dependent feature ('FraudFound_P') and the independent features (everything else)."
   ]
  },
  {
   "cell_type": "code",
   "execution_count": 34,
   "id": "b354124d",
   "metadata": {
    "papermill": {
     "duration": 0.137231,
     "end_time": "2022-01-18T00:17:55.910695",
     "exception": false,
     "start_time": "2022-01-18T00:17:55.773464",
     "status": "completed"
    },
    "tags": []
   },
   "outputs": [],
   "source": [
    "X=df2.drop('FraudFound_P',axis=1).copy()\n",
    "y=df2['FraudFound_P'].copy()"
   ]
  },
  {
   "cell_type": "markdown",
   "id": "8dc6c6d8",
   "metadata": {
    "papermill": {
     "duration": 0.114974,
     "end_time": "2022-01-18T00:17:56.133016",
     "exception": false,
     "start_time": "2022-01-18T00:17:56.018042",
     "status": "completed"
    },
    "tags": []
   },
   "source": [
    "# **PART 7:** Encoding the data.   \n",
    "       "
   ]
  },
  {
   "cell_type": "markdown",
   "id": "2c01d362",
   "metadata": {
    "papermill": {
     "duration": 0.112515,
     "end_time": "2022-01-18T00:17:56.351443",
     "exception": false,
     "start_time": "2022-01-18T00:17:56.238928",
     "status": "completed"
    },
    "tags": []
   },
   "source": [
    "We have taken care of missing values in Age, DayOfWeekClaimed, and MonthClaimed.\n",
    "Next, we will convert the following features to 1's and 0's.\n",
    "* AccidentArea:        \n",
    "    * 1=Urban,         0=Rural\n",
    "* Sex:\n",
    "    * 1=Female,        0=Male\n",
    "* Fault: \n",
    "    * 1=Policy Holder, 0=Third Party\n",
    "* PoliceReportFiled: \n",
    "    * 1=Yes,           0=No\n",
    "* WitnessPresent: \n",
    "    * 1=Yes,           0=No\n",
    "* AgentType:   \n",
    "    * 1=External       0=Internal"
   ]
  },
  {
   "cell_type": "code",
   "execution_count": 51,
   "id": "ba0061b5",
   "metadata": {
    "papermill": {
     "duration": 0.224702,
     "end_time": "2022-01-18T00:17:56.690504",
     "exception": false,
     "start_time": "2022-01-18T00:17:56.465802",
     "status": "completed"
    },
    "tags": []
   },
   "outputs": [],
   "source": [
    "cols = ['AccidentArea', 'Sex', 'Fault', 'PoliceReportFiled', 'WitnessPresent', 'AgentType']\n",
    "y_val = ['Urban','Female','Policy Holder', 'Yes', 'Yes','External']\n",
    "x_val = ['Rural', 'Male', 'Third Party', 'No', 'No', 'Internal']\n",
    "\n",
    "for i in range(len(cols)):\n",
    "    X_idx1 = X[cols[i]]==y_val[i]\n",
    "    X_idx2 = X[cols[i]]==x_val[i]\n",
    "\n",
    "    X.loc[list(X_idx1),cols[i]]=1\n",
    "    X.loc[list(X_idx2),cols[i]]=0"
   ]
  },
  {
   "cell_type": "code",
   "execution_count": 52,
   "id": "e937f677",
   "metadata": {
    "papermill": {
     "duration": 0.155967,
     "end_time": "2022-01-18T00:17:56.963637",
     "exception": false,
     "start_time": "2022-01-18T00:17:56.807670",
     "status": "completed"
    },
    "tags": []
   },
   "outputs": [],
   "source": [
    "for i in range(len(cols)):\n",
    "    X[cols[i]] = X[cols[i]].astype('int')"
   ]
  },
  {
   "cell_type": "code",
   "execution_count": 53,
   "id": "057a417b",
   "metadata": {
    "papermill": {
     "duration": 0.126117,
     "end_time": "2022-01-18T00:17:57.225362",
     "exception": false,
     "start_time": "2022-01-18T00:17:57.099245",
     "status": "completed"
    },
    "tags": []
   },
   "outputs": [
    {
     "data": {
      "text/plain": [
       "Month                    object\n",
       "WeekOfMonth               int64\n",
       "DayOfWeek                object\n",
       "Make                     object\n",
       "AccidentArea              int64\n",
       "DayOfWeekClaimed         object\n",
       "MonthClaimed             object\n",
       "WeekOfMonthClaimed        int64\n",
       "Sex                       int64\n",
       "MaritalStatus            object\n",
       "Age                     float64\n",
       "Fault                     int64\n",
       "PolicyType               object\n",
       "VehicleCategory          object\n",
       "VehiclePrice             object\n",
       "PolicyNumber              int64\n",
       "RepNumber                 int64\n",
       "Deductible                int64\n",
       "DriverRating              int64\n",
       "Days_Policy_Accident     object\n",
       "Days_Policy_Claim        object\n",
       "PastNumberOfClaims       object\n",
       "AgeOfVehicle             object\n",
       "AgeOfPolicyHolder        object\n",
       "PoliceReportFiled         int64\n",
       "WitnessPresent            int64\n",
       "AgentType                 int64\n",
       "NumberOfSuppliments      object\n",
       "AddressChange_Claim      object\n",
       "NumberOfCars             object\n",
       "Year                      int64\n",
       "BasePolicy               object\n",
       "dtype: object"
      ]
     },
     "execution_count": 53,
     "metadata": {},
     "output_type": "execute_result"
    }
   ],
   "source": [
    "X.dtypes"
   ]
  },
  {
   "cell_type": "markdown",
   "id": "2e91d0c0",
   "metadata": {
    "papermill": {
     "duration": 0.107882,
     "end_time": "2022-01-18T00:17:57.440342",
     "exception": false,
     "start_time": "2022-01-18T00:17:57.332460",
     "status": "completed"
    },
    "tags": []
   },
   "source": [
    "Next we convert the following features to be numeric, we will use ordinal encoder from catergory_encoders.ordinal (I discovered that this produces an intger encoding even if I specified a float with an explicit mapping. To get around this I used the replace() method to encode the features I needed as floats).\n",
    "* Month\n",
    "* DayOfWeek\n",
    "* DayOfWeekClaimed\n",
    "* MonthClaimed\n",
    "* PastNumberOfClaims\n",
    "* NumberOfSuppliments\n",
    "* VehiclePrice\n",
    "* Day_Policy_Accident\n",
    "* Days_Policy_Claim\n",
    "* AgeOfVehicle\n",
    "* AgeOfPolicyHolder\n",
    "* AddressChange_Claim\n",
    "* NumberOfCars\n"
   ]
  },
  {
   "cell_type": "code",
   "execution_count": 54,
   "id": "fd650c90",
   "metadata": {
    "papermill": {
     "duration": 0.123836,
     "end_time": "2022-01-18T00:17:57.671408",
     "exception": false,
     "start_time": "2022-01-18T00:17:57.547572",
     "status": "completed"
    },
    "tags": []
   },
   "outputs": [],
   "source": [
    "col_ordering = [{'col':'Month','mapping':{'Jan':1,'Feb':2,'Mar':3,'Apr':4,'May':5,'Jun':6,'Jul':7,'Aug':8,'Sep':9,'Oct':10,'Nov':11,'Dec':12}},\n",
    "    {'col':'DayOfWeek','mapping':{'Monday':1,'Tuesday':2,'Wednesday':3,'Thursday':4,'Friday':5,'Saturday':6,'Sunday':7}},\n",
    "    {'col':'DayOfWeekClaimed','mapping':{'Monday':1,'Tuesday':2,'Wednesday':3,'Thursday':4,'Friday':5,'Saturday':6,'Sunday':7}},\n",
    "    {'col':'MonthClaimed','mapping':{'Jan':1,'Feb':2,'Mar':3,'Apr':4,'May':5,'Jun':6,'Jul':7,'Aug':8,'Sep':9,'Oct':10,'Nov':11,'Dec':12}},\n",
    "    {'col':'PastNumberOfClaims','mapping':{'none':0 ,'1':1,'2 to 4':2,'more than 4':5 }},\n",
    "    {'col':'NumberOfSuppliments','mapping':{'none':0,'1 to 2':1,'3 to 5':3,'more than 5':6}}, \n",
    "    {'col':'VehiclePrice','mapping':{'more than 69000':69001,'20000 to 29000':24500,'30000 to 39000':34500,'less than 20000':19999,\n",
    "                                     '40000 to 59000':49500,'60000 to 69000':64500}},\n",
    "    {'col':'AgeOfVehicle','mapping':{'3 years':3,'6 years':6,'7 years':7,'more than 7':8,'5 years':5,'new':0,'4 years':4,'2 years':2}},\n",
    "]\n",
    "ord_encoder = OrdinalEncoder(mapping = col_ordering, return_df=True)"
   ]
  },
  {
   "cell_type": "code",
   "execution_count": 55,
   "id": "a252ef54",
   "metadata": {
    "papermill": {
     "duration": 0.24068,
     "end_time": "2022-01-18T00:17:58.018929",
     "exception": false,
     "start_time": "2022-01-18T00:17:57.778249",
     "status": "completed"
    },
    "tags": []
   },
   "outputs": [],
   "source": [
    "X2 = ord_encoder.fit_transform(X)"
   ]
  },
  {
   "cell_type": "code",
   "execution_count": 56,
   "id": "d6948493",
   "metadata": {
    "papermill": {
     "duration": 0.216267,
     "end_time": "2022-01-18T00:17:58.357603",
     "exception": false,
     "start_time": "2022-01-18T00:17:58.141336",
     "status": "completed"
    },
    "tags": []
   },
   "outputs": [],
   "source": [
    "col_map = [{'Days_Policy_Accident':{'more than 30':31,'15 to 30':22.5,'none':0,'1 to 7':4,'8 to 15':11.5}},\n",
    "    {'Days_Policy_Claim':{'more than 30':31,'15 to 30':22.5,'8 to 15':11.5,'none':0}},\n",
    "    {'AgeOfPolicyHolder':{'26 to 30':28,'31 to 35':33,'41 to 50':45.5,'51 to 65':58,'21 to 25':23,'36 to 40':38,'16 to 17':16.5,\n",
    "                                          'over 65':66,'18 to 20':19}},\n",
    "    {'AddressChange_Claim':{'1 year':1,'no change':0,'4 to 8 years':6,'2 to 3 years':2.5,'under 6 months':0.5}},\n",
    "    {'NumberOfCars':{'3 to 4':3.5,'1 vehicle':1,'2 vehicles':2,'5 to 8':6.5,'more than 8':9}},\n",
    "]\n",
    "\n",
    "X3 = X2.copy()\n",
    "for i in range(len(col_map)):\n",
    "    X3.replace(col_map[i], inplace=True)"
   ]
  },
  {
   "cell_type": "code",
   "execution_count": 39,
   "id": "b41285e4",
   "metadata": {
    "execution": {
     "iopub.execute_input": "2022-01-18T00:17:58.592673Z",
     "iopub.status.busy": "2022-01-18T00:17:58.591692Z",
     "iopub.status.idle": "2022-01-18T00:17:58.599272Z",
     "shell.execute_reply": "2022-01-18T00:17:58.599856Z",
     "shell.execute_reply.started": "2022-01-17T22:40:21.591313Z"
    },
    "papermill": {
     "duration": 0.135259,
     "end_time": "2022-01-18T00:17:58.600033",
     "exception": false,
     "start_time": "2022-01-18T00:17:58.464774",
     "status": "completed"
    },
    "tags": []
   },
   "outputs": [
    {
     "data": {
      "text/plain": [
       "Month                     int64\n",
       "WeekOfMonth               int64\n",
       "DayOfWeek                 int64\n",
       "Make                     object\n",
       "AccidentArea              int64\n",
       "DayOfWeekClaimed          int64\n",
       "MonthClaimed              int64\n",
       "WeekOfMonthClaimed        int64\n",
       "Sex                       int64\n",
       "MaritalStatus            object\n",
       "Age                     float64\n",
       "Fault                     int64\n",
       "PolicyType               object\n",
       "VehicleCategory          object\n",
       "VehiclePrice              int64\n",
       "PolicyNumber              int64\n",
       "RepNumber                 int64\n",
       "Deductible                int64\n",
       "DriverRating              int64\n",
       "Days_Policy_Accident    float64\n",
       "Days_Policy_Claim       float64\n",
       "PastNumberOfClaims        int64\n",
       "AgeOfVehicle              int64\n",
       "AgeOfPolicyHolder       float64\n",
       "PoliceReportFiled         int64\n",
       "WitnessPresent            int64\n",
       "AgentType                 int64\n",
       "NumberOfSuppliments       int64\n",
       "AddressChange_Claim     float64\n",
       "NumberOfCars            float64\n",
       "Year                      int64\n",
       "BasePolicy               object\n",
       "dtype: object"
      ]
     },
     "execution_count": 39,
     "metadata": {},
     "output_type": "execute_result"
    }
   ],
   "source": [
    "X3.dtypes"
   ]
  },
  {
   "cell_type": "markdown",
   "id": "3e912eda",
   "metadata": {
    "papermill": {
     "duration": 0.109649,
     "end_time": "2022-01-18T00:17:58.817266",
     "exception": false,
     "start_time": "2022-01-18T00:17:58.707617",
     "status": "completed"
    },
    "tags": []
   },
   "source": [
    "Need to convert the following features to a numeric.\n",
    "* Make\n",
    "* MaritalStatus\n",
    "* PolicyType\n",
    "\n",
    "I am currently looking into the best way to encode this features. For the time being I am simply using One-hot encoding.\n"
   ]
  },
  {
   "cell_type": "code",
   "execution_count": 57,
   "id": "63772266",
   "metadata": {
    "papermill": {
     "duration": 0.116211,
     "end_time": "2022-01-18T00:17:59.040149",
     "exception": false,
     "start_time": "2022-01-18T00:17:58.923938",
     "status": "completed"
    },
    "tags": []
   },
   "outputs": [],
   "source": [
    "#implementing one-hot encoding\n",
    "one_hot_encoder = OneHotEncoder(cols = ['Make','MaritalStatus','PolicyType','VehicleCategory','BasePolicy'],use_cat_names=True, return_df=True) \n",
    "\n",
    "#implementing label encoding, with random assignment of integers to each label\n",
    "# assumes no natrual underlying order to the feature labels\n",
    "ord_encoder1 = OrdinalEncoder(cols = ['Make','MaritalStatus','PolicyType','VehicleCategory','BasePolicy'],return_df=True)\n",
    "\n",
    "#implementing binary encoding\n",
    "#represents the data \n",
    "bi_encoder = BinaryEncoder(cols = ['Make','MaritalStatus','PolicyType','VehicleCategory','BasePolicy'], return_df=True)\n"
   ]
  },
  {
   "cell_type": "code",
   "execution_count": 58,
   "id": "7ccabda5",
   "metadata": {
    "papermill": {
     "duration": 0.271798,
     "end_time": "2022-01-18T00:17:59.418261",
     "exception": false,
     "start_time": "2022-01-18T00:17:59.146463",
     "status": "completed"
    },
    "tags": []
   },
   "outputs": [],
   "source": [
    "#implimented a simple switch to change how I wanted to encode the variables\n",
    "#Allowed for a updating the independet variables quickly and not missing a code box\n",
    "\n",
    "switch_val = 0\n",
    "if switch_val ==0:\n",
    "    X4 = one_hot_encoder.fit_transform(X3)\n",
    "elif switch_val==1:\n",
    "    X4 = ord_encoder1.fit_transform(X3)\n",
    "else:\n",
    "    X4 = bi_encoder.fit_transform(X3)\n"
   ]
  },
  {
   "cell_type": "code",
   "execution_count": 59,
   "id": "18c620f0",
   "metadata": {
    "papermill": {
     "duration": 0.119145,
     "end_time": "2022-01-18T00:17:59.645260",
     "exception": false,
     "start_time": "2022-01-18T00:17:59.526115",
     "status": "completed"
    },
    "tags": []
   },
   "outputs": [
    {
     "data": {
      "text/plain": [
       "Month                      int64\n",
       "WeekOfMonth                int64\n",
       "DayOfWeek                  int64\n",
       "Make_Honda                 int64\n",
       "Make_Toyota                int64\n",
       "                          ...   \n",
       "NumberOfCars             float64\n",
       "Year                       int64\n",
       "BasePolicy_Liability       int64\n",
       "BasePolicy_Collision       int64\n",
       "BasePolicy_All Perils      int64\n",
       "Length: 65, dtype: object"
      ]
     },
     "execution_count": 59,
     "metadata": {},
     "output_type": "execute_result"
    }
   ],
   "source": [
    "X4.dtypes\n"
   ]
  },
  {
   "cell_type": "code",
   "execution_count": 43,
   "id": "5ca6fe59",
   "metadata": {
    "execution": {
     "iopub.execute_input": "2022-01-18T00:17:59.863443Z",
     "iopub.status.busy": "2022-01-18T00:17:59.862479Z",
     "iopub.status.idle": "2022-01-18T00:18:00.599331Z",
     "shell.execute_reply": "2022-01-18T00:18:00.600172Z",
     "shell.execute_reply.started": "2022-01-17T22:40:21.798531Z"
    },
    "papermill": {
     "duration": 0.848451,
     "end_time": "2022-01-18T00:18:00.600358",
     "exception": false,
     "start_time": "2022-01-18T00:17:59.751907",
     "status": "completed"
    },
    "tags": []
   },
   "outputs": [
    {
     "name": "stdout",
     "output_type": "stream",
     "text": [
      "    Feature                                 Chi2 val        p-val\n",
      "--  -------------------------------  ---------------  -----------\n",
      "62  BasePolicy_Liability               364.39         3.11662e-81\n",
      "35  PolicyType_Sedan - Liability       361.582        1.27387e-80\n",
      "42  VehicleCategory_Sport              283.641        1.20855e-63\n",
      "32  Fault                              264.985        1.40618e-59\n",
      "44  VehicleCategory_Sedan              229.175        9.02161e-52\n",
      "64  BasePolicy_All Perils              192.648        8.40081e-44\n",
      "37  PolicyType_Sedan - All Perils      162.857        2.68872e-37\n",
      "59  AddressChange_Claim                104.723        9.70472e-22\n",
      "48  Deductible                          72.4063       1.30283e-15\n",
      "45  VehiclePrice                        67.8361       2.88832e-13\n",
      "52  PastNumberOfClaims                  53.5418       1.4052e-11\n",
      "34  PolicyType_Sport - Collision        37.1525       1.09243e-09\n",
      " 9  Make_Accura                         35.5259       2.51688e-09\n",
      "63  BasePolicy_Collision                29.2671       6.30558e-08\n",
      "36  PolicyType_Utility - All Perils     21.6918       3.20152e-06\n",
      "43  VehicleCategory_Utility             18.8272       1.43114e-05\n",
      "24  MonthClaimed                        42.2005       1.49524e-05\n",
      "22  AccidentArea                        16.9019       3.9363e-05\n",
      "54  AgeOfPolicyHolder                   33.1049       5.89656e-05\n",
      "26  Sex                                 13.4957       0.000239114\n",
      "58  NumberOfSuppliments                 18.1555       0.000408528\n",
      "31  Age                                109.665        0.000447208\n",
      "38  PolicyType_Sedan - Collision        12.0934       0.000506018\n",
      " 0  Month                               29.7715       0.0017209\n",
      "53  AgeOfVehicle                        21.9951       0.00254532\n",
      "57  AgentType                            7.38047      0.0065936\n",
      "61  Year                                 9.59259      0.00826031\n",
      "50  Days_Policy_Accident                11.5698       0.0208538\n",
      "14  Make_VW                              4.55701      0.0327842\n",
      "55  PoliceReportFiled                    3.55215      0.0594684\n",
      "51  Days_Policy_Claim                    4.81721      0.0899405\n",
      " 6  Make_Mazda                           2.70125      0.10027\n",
      "15  Make_Saab                            2.69759      0.1005\n",
      "10  Make_Dodge                           2.65963      0.102925\n",
      " 2  DayOfWeek                           10.1528       0.118361\n",
      " 8  Make_Pontiac                         1.61548      0.203724\n",
      "16  Make_Saturn                          1.26482      0.260741\n",
      " 5  Make_Ford                            1.25848      0.261939\n",
      " 3  Make_Honda                           0.91935      0.337646\n",
      "56  WitnessPresent                       0.599154     0.438901\n",
      "41  PolicyType_Sport - All Perils        0.539818     0.462508\n",
      "40  PolicyType_Utility - Liability       0.485652     0.485873\n",
      "46  PolicyNumber                     15419            0.496214\n",
      "25  WeekOfMonthClaimed                   3.38072      0.496245\n",
      " 7  Make_Chevrolet                       0.445328     0.504562\n",
      "23  DayOfWeekClaimed                     5.09564      0.531606\n",
      "19  Make_Mecedes                         0.301658     0.582845\n",
      "39  PolicyType_Utility - Collision       0.294262     0.587502\n",
      "30  MaritalStatus_Divorced               0.258774     0.610964\n",
      "49  DriverRating                         1.64198      0.649909\n",
      " 1  WeekOfMonth                          2.45469      0.652766\n",
      "60  NumberOfCars                         2.41492      0.659933\n",
      "47  RepNumber                           11.8          0.6941\n",
      "29  MaritalStatus_Widow                  0.0834039    0.772737\n",
      "11  Make_Mercury                         0.0608089    0.805222\n",
      "13  Make_Nisson                          0.0519386    0.819724\n",
      "28  MaritalStatus_Married                0.0329395    0.855981\n",
      "27  MaritalStatus_Single                 0.0182506    0.892537\n",
      " 4  Make_Toyota                          0.000762523  0.97797\n",
      "12  Make_Jaguar                          0            1\n",
      "18  Make_BMW                             0            1\n",
      "20  Make_Ferrari                         0            1\n",
      "21  Make_Lexus                           0            1\n",
      "33  PolicyType_Sport - Liability         0            1\n",
      "17  Make_Porche                          0            1\n"
     ]
    }
   ],
   "source": [
    "chi_result=[]\n",
    "for feat in X4.columns:\n",
    "    chi2, p, dof, ex = stats.chi2_contingency(pd.crosstab(X4[feat], y))\n",
    "    chi_result.append([feat,chi2,p])\n",
    "\n",
    "ch_df = pd.DataFrame(chi_result, columns=['Feature', 'Chi2 val', 'p-val'])\n",
    "ch_df.sort_values(by=['p-val'], inplace=True)\n",
    "\n",
    "print(tabulate(ch_df, headers=['Feature', 'Chi2 val', 'p-val']))"
   ]
  },
  {
   "cell_type": "code",
   "execution_count": 44,
   "id": "23356241",
   "metadata": {
    "execution": {
     "iopub.execute_input": "2022-01-18T00:18:00.818260Z",
     "iopub.status.busy": "2022-01-18T00:18:00.817573Z",
     "iopub.status.idle": "2022-01-18T00:18:00.862704Z",
     "shell.execute_reply": "2022-01-18T00:18:00.862129Z",
     "shell.execute_reply.started": "2022-01-17T22:40:22.577845Z"
    },
    "papermill": {
     "duration": 0.154872,
     "end_time": "2022-01-18T00:18:00.862849",
     "exception": false,
     "start_time": "2022-01-18T00:18:00.707977",
     "status": "completed"
    },
    "tags": []
   },
   "outputs": [
    {
     "name": "stdout",
     "output_type": "stream",
     "text": [
      "Feature                            Pearson Correlation\n",
      "-------------------------------  ---------------------\n",
      "Fault                                      0.131401\n",
      "VehicleCategory_Sedan                      0.122197\n",
      "BasePolicy_All Perils                      0.112079\n",
      "PolicyType_Sedan - All Perils              0.103082\n",
      "PolicyType_Sport - Collision               0.0500073\n",
      "Make_Accura                                0.0487938\n",
      "BasePolicy_Collision                       0.0438481\n",
      "PolicyType_Utility - All Perils            0.0384385\n",
      "VehiclePrice                               0.037556\n",
      "VehicleCategory_Utility                    0.0358128\n",
      "PolicyType_Sedan - Collision               0.02829\n",
      "AgentType                                  0.0229803\n",
      "DayOfWeek                                  0.0174298\n",
      "Deductible                                 0.0173451\n",
      "Make_Saab                                  0.014866\n",
      "Make_Mecedes                               0.012911\n",
      "AddressChange_Claim                        0.0127972\n",
      "Make_Saturn                                0.01129\n",
      "Make_Ford                                  0.00984639\n",
      "NumberOfCars                               0.00850283\n",
      "Make_Honda                                 0.00807626\n",
      "DayOfWeekClaimed                           0.00797394\n",
      "PolicyType_Utility - Collision             0.00747052\n",
      "DriverRating                               0.00725903\n",
      "MaritalStatus_Widow                        0.00519808\n",
      "Make_Mercury                               0.00385402\n",
      "MaritalStatus_Married                      0.00175692\n",
      "Make_BMW                                   0.000895194\n",
      "Make_Toyota                               -0.000562584\n",
      "MaritalStatus_Single                      -0.0013852\n",
      "PolicyType_Sport - Liability              -0.00203218\n",
      "Make_Lexus                                -0.00203218\n",
      "Make_Ferrari                              -0.00287403\n",
      "Make_Porche                               -0.00454469\n",
      "Make_Nisson                               -0.0049373\n",
      "Make_Jaguar                               -0.00497862\n",
      "WeekOfMonthClaimed                        -0.00578339\n",
      "Make_Chevrolet                            -0.00581276\n",
      "MaritalStatus_Divorced                    -0.0060485\n",
      "RepNumber                                 -0.00752858\n",
      "WitnessPresent                            -0.00805854\n",
      "PolicyType_Utility - Liability            -0.00931868\n",
      "PolicyType_Sport - All Perils             -0.00953828\n",
      "Make_Pontiac                              -0.010552\n",
      "WeekOfMonth                               -0.0118717\n",
      "Make_Mazda                                -0.013616\n",
      "Make_Dodge                                -0.0147651\n",
      "PoliceReportFiled                         -0.0160102\n",
      "Days_Policy_Claim                         -0.0175211\n",
      "Make_VW                                   -0.0182098\n",
      "PolicyNumber                              -0.0203687\n",
      "Year                                      -0.0247783\n",
      "Days_Policy_Accident                      -0.0248095\n",
      "Month                                     -0.0272756\n",
      "AgeOfPolicyHolder                         -0.0273866\n",
      "Age                                       -0.0275092\n",
      "MonthClaimed                              -0.0289822\n",
      "Sex                                       -0.0299606\n",
      "NumberOfSuppliments                       -0.0309316\n",
      "AgeOfVehicle                              -0.032834\n",
      "AccidentArea                              -0.0335571\n",
      "PastNumberOfClaims                        -0.0572155\n",
      "VehicleCategory_Sport                     -0.135917\n",
      "PolicyType_Sedan - Liability              -0.153427\n",
      "BasePolicy_Liability                      -0.154021\n"
     ]
    }
   ],
   "source": [
    "tempy_x4 = pd.DataFrame(X4.corrwith(y,axis=0 ).sort_values(ascending=False))\n",
    "print(tabulate(tempy_x4, headers=['Feature', 'Pearson Correlation']))\n"
   ]
  },
  {
   "cell_type": "code",
   "execution_count": 45,
   "id": "187ab6b3",
   "metadata": {
    "execution": {
     "iopub.execute_input": "2022-01-18T00:18:01.083431Z",
     "iopub.status.busy": "2022-01-18T00:18:01.082374Z",
     "iopub.status.idle": "2022-01-18T00:18:01.084333Z",
     "shell.execute_reply": "2022-01-18T00:18:01.084957Z",
     "shell.execute_reply.started": "2022-01-17T22:40:22.626113Z"
    },
    "papermill": {
     "duration": 0.115384,
     "end_time": "2022-01-18T00:18:01.085130",
     "exception": false,
     "start_time": "2022-01-18T00:18:00.969746",
     "status": "completed"
    },
    "tags": []
   },
   "outputs": [],
   "source": [
    "#X5 = X4.drop(columns=['VehicleCategory','BasePolicy'])\n",
    "#X5.dtypes"
   ]
  },
  {
   "cell_type": "markdown",
   "id": "558494a7",
   "metadata": {
    "papermill": {
     "duration": 0.107207,
     "end_time": "2022-01-18T00:18:01.301009",
     "exception": false,
     "start_time": "2022-01-18T00:18:01.193802",
     "status": "completed"
    },
    "tags": []
   },
   "source": [
    "# **PART 8:** Build preliminary classification tree\n"
   ]
  },
  {
   "cell_type": "markdown",
   "id": "efcf1a5b",
   "metadata": {
    "papermill": {
     "duration": 0.106783,
     "end_time": "2022-01-18T00:18:01.515611",
     "exception": false,
     "start_time": "2022-01-18T00:18:01.408828",
     "status": "completed"
    },
    "tags": []
   },
   "source": [
    "To get a feel for the challenge we face and how the dataset behaves, I decided to implement a basic Decision Tree."
   ]
  },
  {
   "cell_type": "code",
   "execution_count": 46,
   "id": "9b224f19",
   "metadata": {
    "execution": {
     "iopub.execute_input": "2022-01-18T00:18:01.737025Z",
     "iopub.status.busy": "2022-01-18T00:18:01.735967Z",
     "iopub.status.idle": "2022-01-18T00:18:01.863995Z",
     "shell.execute_reply": "2022-01-18T00:18:01.863391Z",
     "shell.execute_reply.started": "2022-01-17T22:40:22.631605Z"
    },
    "papermill": {
     "duration": 0.238082,
     "end_time": "2022-01-18T00:18:01.864133",
     "exception": false,
     "start_time": "2022-01-18T00:18:01.626051",
     "status": "completed"
    },
    "tags": []
   },
   "outputs": [],
   "source": [
    "#this code takes our data after cleaning and splits it into the testing set and training set\n",
    "\n",
    "X_train, X_test, y_train, y_test = train_test_split(X4, y,stratify=y, random_state=42)\n",
    "clf_dt_m1 = DecisionTreeClassifier(random_state=42)\n",
    "clf_dt1 = clf_dt_m1.fit(X_train, y_train)\n"
   ]
  },
  {
   "cell_type": "code",
   "execution_count": 47,
   "id": "c9e3e87f",
   "metadata": {
    "execution": {
     "iopub.execute_input": "2022-01-18T00:18:02.081957Z",
     "iopub.status.busy": "2022-01-18T00:18:02.081288Z",
     "iopub.status.idle": "2022-01-18T00:18:02.110946Z",
     "shell.execute_reply": "2022-01-18T00:18:02.110029Z",
     "shell.execute_reply.started": "2022-01-17T22:40:22.762097Z"
    },
    "papermill": {
     "duration": 0.13996,
     "end_time": "2022-01-18T00:18:02.111139",
     "exception": false,
     "start_time": "2022-01-18T00:18:01.971179",
     "status": "completed"
    },
    "tags": []
   },
   "outputs": [
    {
     "name": "stdout",
     "output_type": "stream",
     "text": [
      "Gini stats\n",
      "Accuracy: 0.9151750972762646\n",
      "balanced_accuracy: 0.661036810871248\n",
      "brier_score_loss: 0.08482490272373541\n",
      "f1_score: 0.34468937875751504\n",
      "recall_score: 0.3722943722943723\n",
      "precision_score: 0.3208955223880597\n",
      "roc_auc_score: 0.6610368108712481\n"
     ]
    }
   ],
   "source": [
    "y_pred_gini = clf_dt1.predict(X_test)\n",
    "\n",
    "print('Gini stats')\n",
    "print(\"Accuracy:\",metrics.accuracy_score(y_test, y_pred_gini))\n",
    "print(\"balanced_accuracy:\",metrics.balanced_accuracy_score(y_test, y_pred_gini))\n",
    "print(\"brier_score_loss:\",metrics.brier_score_loss(y_test, y_pred_gini))\n",
    "print(\"f1_score:\",metrics.f1_score(y_test,y_pred_gini))\n",
    "print(\"recall_score:\",metrics.recall_score(y_test, y_pred_gini))\n",
    "print(\"precision_score:\",metrics.precision_score(y_test, y_pred_gini))\n",
    "print(\"roc_auc_score:\",metrics.roc_auc_score(y_test, y_pred_gini))\n"
   ]
  },
  {
   "cell_type": "markdown",
   "id": "717eddf5",
   "metadata": {
    "papermill": {
     "duration": 0.107763,
     "end_time": "2022-01-18T00:18:02.328144",
     "exception": false,
     "start_time": "2022-01-18T00:18:02.220381",
     "status": "completed"
    },
    "tags": []
   },
   "source": [
    "Looking at the above metrics, it is clear that our tree is having trouble identifying the true positves (recall score of .372). This led me to the decision try applying some ensemble and boosting methods to get better results."
   ]
  },
  {
   "cell_type": "code",
   "execution_count": 48,
   "id": "0e87cfd3",
   "metadata": {
    "execution": {
     "iopub.execute_input": "2022-01-18T00:18:02.551829Z",
     "iopub.status.busy": "2022-01-18T00:18:02.551113Z",
     "iopub.status.idle": "2022-01-18T00:18:03.213727Z",
     "shell.execute_reply": "2022-01-18T00:18:03.214242Z",
     "shell.execute_reply.started": "2022-01-17T22:40:22.795542Z"
    },
    "papermill": {
     "duration": 0.778691,
     "end_time": "2022-01-18T00:18:03.214414",
     "exception": false,
     "start_time": "2022-01-18T00:18:02.435723",
     "status": "completed"
    },
    "tags": []
   },
   "outputs": [
    {
     "name": "stdout",
     "output_type": "stream",
     "text": [
      "True Negatives: 3442\n",
      "False Postives: 182\n",
      "False Negatives: 145\n",
      "True Positive: 86\n",
      "Recall: 0.3722943722943723\n",
      "Precision: 0.3208955223880597\n",
      "Prevalence: 0.05992217898832685\n"
     ]
    },
    {
     "data": {
      "image/png": "[encoded data removed]",
      "text/plain": [
       "<Figure size 1080x504 with 3 Axes>"
      ]
     },
     "metadata": {
      "needs_background": "light"
     },
     "output_type": "display_data"
    }
   ],
   "source": [
    "precision, recall, thresholds = metrics.precision_recall_curve(y_test, y_pred_gini)\n",
    "\n",
    "#this code plots the confusion matrix of our niave implementation of a decision tree\n",
    "fig, (ax1, ax2) = plt.subplots(1, 2, figsize=(15, 7))\n",
    "fig.tight_layout(pad=5.0)\n",
    "metrics.plot_confusion_matrix(clf_dt1, X_test, y_test, display_labels=[\"Not Fraudulent Claim\", \"Fraudulent Claim\"], ax=ax1)\n",
    "tn, fp, fn, tp = metrics.confusion_matrix(y_test, y_pred_gini).ravel()\n",
    "\n",
    "ax2.step(recall, precision, color='b', alpha=0.2, where='post')\n",
    "ax2.fill_between(recall, precision, step='post', alpha=0.2, color='b')\n",
    "ax2.set_xlabel('Recall')\n",
    "ax2.set_ylabel('Precision')\n",
    "ax2.set_ylim([0.0, 1.05])\n",
    "ax2.set_xlim([-0.005, 1.0])\n",
    "ax2.set_title('Precision-Recall curve:')\n",
    "\n",
    "\n",
    "print('True Negatives:', tn)\n",
    "print('False Postives:', fp)\n",
    "print('False Negatives:', fn)\n",
    "print('True Positive:', tp)\n",
    "print('Recall:', tp/(fn+tp))\n",
    "print('Precision:', tp/(fp+tp))\n",
    "print('Prevalence:', (fn+tp)/(tn+fp+fn+tp))"
   ]
  },
  {
   "cell_type": "markdown",
   "id": "c4fa42ee",
   "metadata": {
    "papermill": {
     "duration": 0.110199,
     "end_time": "2022-01-18T00:18:03.434590",
     "exception": false,
     "start_time": "2022-01-18T00:18:03.324391",
     "status": "completed"
    },
    "tags": []
   },
   "source": [
    "The results of our nieve implementation of a Decision tree has return underwhelming results in terms of identifying fraud cases. "
   ]
  },
  {
   "cell_type": "code",
   "execution_count": 49,
   "id": "6ca874b0",
   "metadata": {
    "execution": {
     "iopub.execute_input": "2022-01-18T00:18:03.659135Z",
     "iopub.status.busy": "2022-01-18T00:18:03.658399Z",
     "iopub.status.idle": "2022-01-18T00:18:05.026485Z",
     "shell.execute_reply": "2022-01-18T00:18:05.027006Z",
     "shell.execute_reply.started": "2022-01-18T00:13:07.697231Z"
    },
    "papermill": {
     "duration": 1.4833,
     "end_time": "2022-01-18T00:18:05.027189",
     "exception": false,
     "start_time": "2022-01-18T00:18:03.543889",
     "status": "completed"
    },
    "tags": []
   },
   "outputs": [
    {
     "data": {
      "image/png": "[encoded data removed]",
      "text/plain": [
       "<Figure size 1080x1296 with 1 Axes>"
      ]
     },
     "metadata": {
      "needs_background": "light"
     },
     "output_type": "display_data"
    }
   ],
   "source": [
    "important_tree_features = clf_dt1.feature_importances_\n",
    "\n",
    "indices = np.argsort(important_tree_features)\n",
    "\n",
    "fig, ax = plt.subplots(figsize=(15, 18))\n",
    "ax.barh(range(len(important_tree_features)), important_tree_features[indices])\n",
    "ax.set_yticks(range(len(important_tree_features)))\n",
    "_ = ax.set_yticklabels(np.array(X_train.columns)[indices])"
   ]
  },
  {
   "cell_type": "markdown",
   "id": "cfa67c29",
   "metadata": {
    "papermill": {
     "duration": 0.112785,
     "end_time": "2022-01-18T00:18:05.254144",
     "exception": false,
     "start_time": "2022-01-18T00:18:05.141359",
     "status": "completed"
    },
    "tags": []
   },
   "source": [
    "# **PART 9:** Comparing Decision Trees, Random Forest, AdaBoost, and XGBoost"
   ]
  },
  {
   "cell_type": "code",
   "execution_count": 50,
   "id": "e0f68122",
   "metadata": {
    "execution": {
     "iopub.execute_input": "2022-01-18T00:18:05.483899Z",
     "iopub.status.busy": "2022-01-18T00:18:05.483163Z",
     "iopub.status.idle": "2022-01-18T00:18:05.486062Z",
     "shell.execute_reply": "2022-01-18T00:18:05.485525Z",
     "shell.execute_reply.started": "2022-01-17T22:40:23.483172Z"
    },
    "papermill": {
     "duration": 0.120186,
     "end_time": "2022-01-18T00:18:05.486210",
     "exception": false,
     "start_time": "2022-01-18T00:18:05.366024",
     "status": "completed"
    },
    "tags": []
   },
   "outputs": [],
   "source": [
    "classifiers = {\n",
    "    'DecisionTreeClassifier': DecisionTreeClassifier(),\n",
    "    'RandomForestClassifier': RandomForestClassifier(),\n",
    "    'AdaBoostClassifier': AdaBoostClassifier(),\n",
    "    \"XGBClassifier\": XGBClassifier(use_label_encoder=False, objective= 'binary:logistic',eval_metric='aucpr'),\n",
    "}"
   ]
  },
  {
   "cell_type": "code",
   "execution_count": 51,
   "id": "e3503571",
   "metadata": {
    "execution": {
     "iopub.execute_input": "2022-01-18T00:18:05.719953Z",
     "iopub.status.busy": "2022-01-18T00:18:05.719186Z",
     "iopub.status.idle": "2022-01-18T00:18:58.162131Z",
     "shell.execute_reply": "2022-01-18T00:18:58.162700Z",
     "shell.execute_reply.started": "2022-01-17T22:40:23.490655Z"
    },
    "papermill": {
     "duration": 52.564187,
     "end_time": "2022-01-18T00:18:58.162922",
     "exception": false,
     "start_time": "2022-01-18T00:18:05.598735",
     "status": "completed"
    },
    "tags": []
   },
   "outputs": [
    {
     "name": "stdout",
     "output_type": "stream",
     "text": [
      "* DecisionTreeClassifier\n",
      "* RandomForestClassifier\n"
     ]
    },
    {
     "name": "stderr",
     "output_type": "stream",
     "text": [
      "/opt/conda/lib/python3.7/site-packages/sklearn/metrics/_classification.py:846: RuntimeWarning: invalid value encountered in double_scalars\n",
      "  mcc = cov_ytyp / np.sqrt(cov_ytyt * cov_ypyp)\n",
      "/opt/conda/lib/python3.7/site-packages/sklearn/metrics/_classification.py:846: RuntimeWarning: invalid value encountered in double_scalars\n",
      "  mcc = cov_ytyp / np.sqrt(cov_ytyt * cov_ypyp)\n",
      "/opt/conda/lib/python3.7/site-packages/sklearn/metrics/_classification.py:846: RuntimeWarning: invalid value encountered in double_scalars\n",
      "  mcc = cov_ytyp / np.sqrt(cov_ytyt * cov_ypyp)\n",
      "/opt/conda/lib/python3.7/site-packages/sklearn/metrics/_classification.py:846: RuntimeWarning: invalid value encountered in double_scalars\n",
      "  mcc = cov_ytyp / np.sqrt(cov_ytyt * cov_ypyp)\n",
      "/opt/conda/lib/python3.7/site-packages/sklearn/metrics/_classification.py:846: RuntimeWarning: invalid value encountered in double_scalars\n",
      "  mcc = cov_ytyp / np.sqrt(cov_ytyt * cov_ypyp)\n",
      "/opt/conda/lib/python3.7/site-packages/sklearn/metrics/_classification.py:846: RuntimeWarning: invalid value encountered in double_scalars\n",
      "  mcc = cov_ytyp / np.sqrt(cov_ytyt * cov_ypyp)\n",
      "/opt/conda/lib/python3.7/site-packages/sklearn/metrics/_classification.py:846: RuntimeWarning: invalid value encountered in double_scalars\n",
      "  mcc = cov_ytyp / np.sqrt(cov_ytyt * cov_ypyp)\n",
      "/opt/conda/lib/python3.7/site-packages/sklearn/metrics/_classification.py:846: RuntimeWarning: invalid value encountered in double_scalars\n",
      "  mcc = cov_ytyp / np.sqrt(cov_ytyt * cov_ypyp)\n",
      "/opt/conda/lib/python3.7/site-packages/sklearn/metrics/_classification.py:846: RuntimeWarning: invalid value encountered in double_scalars\n",
      "  mcc = cov_ytyp / np.sqrt(cov_ytyt * cov_ypyp)\n",
      "/opt/conda/lib/python3.7/site-packages/sklearn/metrics/_classification.py:846: RuntimeWarning: invalid value encountered in double_scalars\n",
      "  mcc = cov_ytyp / np.sqrt(cov_ytyt * cov_ypyp)\n",
      "/opt/conda/lib/python3.7/site-packages/sklearn/metrics/_classification.py:846: RuntimeWarning: invalid value encountered in double_scalars\n",
      "  mcc = cov_ytyp / np.sqrt(cov_ytyt * cov_ypyp)\n",
      "/opt/conda/lib/python3.7/site-packages/sklearn/metrics/_classification.py:846: RuntimeWarning: invalid value encountered in double_scalars\n",
      "  mcc = cov_ytyp / np.sqrt(cov_ytyt * cov_ypyp)\n",
      "/opt/conda/lib/python3.7/site-packages/sklearn/metrics/_classification.py:846: RuntimeWarning: invalid value encountered in double_scalars\n",
      "  mcc = cov_ytyp / np.sqrt(cov_ytyt * cov_ypyp)\n",
      "/opt/conda/lib/python3.7/site-packages/sklearn/metrics/_classification.py:846: RuntimeWarning: invalid value encountered in double_scalars\n",
      "  mcc = cov_ytyp / np.sqrt(cov_ytyt * cov_ypyp)\n",
      "/opt/conda/lib/python3.7/site-packages/sklearn/metrics/_classification.py:846: RuntimeWarning: invalid value encountered in double_scalars\n",
      "  mcc = cov_ytyp / np.sqrt(cov_ytyt * cov_ypyp)\n",
      "/opt/conda/lib/python3.7/site-packages/sklearn/metrics/_classification.py:846: RuntimeWarning: invalid value encountered in double_scalars\n",
      "  mcc = cov_ytyp / np.sqrt(cov_ytyt * cov_ypyp)\n",
      "/opt/conda/lib/python3.7/site-packages/sklearn/metrics/_classification.py:846: RuntimeWarning: invalid value encountered in double_scalars\n",
      "  mcc = cov_ytyp / np.sqrt(cov_ytyt * cov_ypyp)\n",
      "/opt/conda/lib/python3.7/site-packages/sklearn/metrics/_classification.py:846: RuntimeWarning: invalid value encountered in double_scalars\n",
      "  mcc = cov_ytyp / np.sqrt(cov_ytyt * cov_ypyp)\n",
      "/opt/conda/lib/python3.7/site-packages/sklearn/metrics/_classification.py:846: RuntimeWarning: invalid value encountered in double_scalars\n",
      "  mcc = cov_ytyp / np.sqrt(cov_ytyt * cov_ypyp)\n",
      "/opt/conda/lib/python3.7/site-packages/sklearn/metrics/_classification.py:846: RuntimeWarning: invalid value encountered in double_scalars\n",
      "  mcc = cov_ytyp / np.sqrt(cov_ytyt * cov_ypyp)\n",
      "/opt/conda/lib/python3.7/site-packages/sklearn/metrics/_classification.py:846: RuntimeWarning: invalid value encountered in double_scalars\n",
      "  mcc = cov_ytyp / np.sqrt(cov_ytyt * cov_ypyp)\n",
      "/opt/conda/lib/python3.7/site-packages/sklearn/metrics/_classification.py:846: RuntimeWarning: invalid value encountered in double_scalars\n",
      "  mcc = cov_ytyp / np.sqrt(cov_ytyt * cov_ypyp)\n",
      "/opt/conda/lib/python3.7/site-packages/sklearn/metrics/_classification.py:846: RuntimeWarning: invalid value encountered in double_scalars\n",
      "  mcc = cov_ytyp / np.sqrt(cov_ytyt * cov_ypyp)\n",
      "/opt/conda/lib/python3.7/site-packages/sklearn/metrics/_classification.py:846: RuntimeWarning: invalid value encountered in double_scalars\n",
      "  mcc = cov_ytyp / np.sqrt(cov_ytyt * cov_ypyp)\n",
      "/opt/conda/lib/python3.7/site-packages/sklearn/metrics/_classification.py:846: RuntimeWarning: invalid value encountered in double_scalars\n",
      "  mcc = cov_ytyp / np.sqrt(cov_ytyt * cov_ypyp)\n",
      "/opt/conda/lib/python3.7/site-packages/sklearn/metrics/_classification.py:846: RuntimeWarning: invalid value encountered in double_scalars\n",
      "  mcc = cov_ytyp / np.sqrt(cov_ytyt * cov_ypyp)\n",
      "/opt/conda/lib/python3.7/site-packages/sklearn/metrics/_classification.py:846: RuntimeWarning: invalid value encountered in double_scalars\n",
      "  mcc = cov_ytyp / np.sqrt(cov_ytyt * cov_ypyp)\n",
      "/opt/conda/lib/python3.7/site-packages/sklearn/metrics/_classification.py:846: RuntimeWarning: invalid value encountered in double_scalars\n",
      "  mcc = cov_ytyp / np.sqrt(cov_ytyt * cov_ypyp)\n",
      "/opt/conda/lib/python3.7/site-packages/sklearn/metrics/_classification.py:846: RuntimeWarning: invalid value encountered in double_scalars\n",
      "  mcc = cov_ytyp / np.sqrt(cov_ytyt * cov_ypyp)\n",
      "/opt/conda/lib/python3.7/site-packages/sklearn/metrics/_classification.py:846: RuntimeWarning: invalid value encountered in double_scalars\n",
      "  mcc = cov_ytyp / np.sqrt(cov_ytyt * cov_ypyp)\n"
     ]
    },
    {
     "name": "stdout",
     "output_type": "stream",
     "text": [
      "* AdaBoostClassifier\n"
     ]
    },
    {
     "name": "stderr",
     "output_type": "stream",
     "text": [
      "/opt/conda/lib/python3.7/site-packages/sklearn/metrics/_classification.py:846: RuntimeWarning: invalid value encountered in double_scalars\n",
      "  mcc = cov_ytyp / np.sqrt(cov_ytyt * cov_ypyp)\n",
      "/opt/conda/lib/python3.7/site-packages/sklearn/metrics/_classification.py:846: RuntimeWarning: invalid value encountered in double_scalars\n",
      "  mcc = cov_ytyp / np.sqrt(cov_ytyt * cov_ypyp)\n",
      "/opt/conda/lib/python3.7/site-packages/sklearn/metrics/_classification.py:846: RuntimeWarning: invalid value encountered in double_scalars\n",
      "  mcc = cov_ytyp / np.sqrt(cov_ytyt * cov_ypyp)\n",
      "/opt/conda/lib/python3.7/site-packages/sklearn/metrics/_classification.py:846: RuntimeWarning: invalid value encountered in double_scalars\n",
      "  mcc = cov_ytyp / np.sqrt(cov_ytyt * cov_ypyp)\n",
      "/opt/conda/lib/python3.7/site-packages/sklearn/metrics/_classification.py:846: RuntimeWarning: invalid value encountered in double_scalars\n",
      "  mcc = cov_ytyp / np.sqrt(cov_ytyt * cov_ypyp)\n"
     ]
    },
    {
     "name": "stdout",
     "output_type": "stream",
     "text": [
      "* XGBClassifier\n"
     ]
    }
   ],
   "source": [
    "df_models = pd.DataFrame(columns = ['model', \n",
    "                                    'run_time', \n",
    "                                    'avg_accy',\n",
    "                                    'avg_accy_std',  \n",
    "                                    'avg_recall',\n",
    "                                    'avg_recall_std',\n",
    "                                    'avg_precision',\n",
    "                                    'avg_precision_std',\n",
    "                                    'avg_f1',\n",
    "                                    'avg_f1_std',\n",
    "                                    'avg_matthew_corcoef',\n",
    "                                    'avg_matthew_corcoef_std',\n",
    "                                    'avg_roc_auc',\n",
    "                                    'avg_roc_auc_std', \n",
    "                                     ])\n",
    "\n",
    "\n",
    "scorer = {'accuracy_score':metrics.make_scorer(metrics.accuracy_score),\n",
    "          'f1_score':metrics.make_scorer(metrics.f1_score),\n",
    "          'recall_score':metrics.make_scorer(metrics.recall_score),\n",
    "          'precision_score':metrics.make_scorer(metrics.average_precision_score),\n",
    "          'matthew_corrcoef':metrics.make_scorer(metrics.matthews_corrcoef),\n",
    "          'roc_auc_score':metrics.make_scorer(metrics.roc_auc_score) \n",
    "         }\n",
    "\n",
    "for key in classifiers:\n",
    "    print('*', key)\n",
    "    start_time = time.time()\n",
    "    classifier = classifiers[key]\n",
    "    model = classifier.fit(X_train,y_train)\n",
    "    cvs = RepeatedStratifiedKFold(n_splits=10, n_repeats=3, random_state=42)\n",
    "    cv_scores = cross_validate(model, X_test, y_test, cv=cvs, scoring = scorer)\n",
    "    y_pred = model.predict(X_test)\n",
    "    \n",
    "    row = {\n",
    "        'model': key,\n",
    "        'run_time': format(round((time.time() - start_time)/60,2)),\n",
    "        'avg_accy': cv_scores['test_accuracy_score'].mean(),\n",
    "        'avg_accy_std': cv_scores['test_accuracy_score'].std(),\n",
    "        'avg_recall': cv_scores['test_recall_score'].mean(),\n",
    "        'avg_recall_std': cv_scores['test_recall_score'].std(),\n",
    "        'avg_precision': cv_scores['test_precision_score'].mean(),\n",
    "        'avg_precision_std': cv_scores['test_precision_score'].std(),\n",
    "        'avg_f1': cv_scores['test_f1_score'].mean(),\n",
    "        'avg_f1_std': cv_scores['test_f1_score'].std(),\n",
    "        'avg_matthew_corcoef': cv_scores['test_matthew_corrcoef'].mean(),\n",
    "        'avg_matthew_corcoef_std': cv_scores['test_matthew_corrcoef'].std(),\n",
    "        'avg_roc_auc': cv_scores['test_roc_auc_score'].mean(),\n",
    "        'avg_roc_auc_std': cv_scores['test_roc_auc_score'].std(),\n",
    "    }\n",
    "    \n",
    "    df_models = df_models.append(row, ignore_index=True)\n",
    "    "
   ]
  },
  {
   "cell_type": "code",
   "execution_count": 52,
   "id": "940a54e3",
   "metadata": {
    "execution": {
     "iopub.execute_input": "2022-01-18T00:18:58.422017Z",
     "iopub.status.busy": "2022-01-18T00:18:58.421000Z",
     "iopub.status.idle": "2022-01-18T00:18:58.436141Z",
     "shell.execute_reply": "2022-01-18T00:18:58.436730Z",
     "shell.execute_reply.started": "2022-01-17T22:41:16.807420Z"
    },
    "papermill": {
     "duration": 0.146175,
     "end_time": "2022-01-18T00:18:58.436919",
     "exception": false,
     "start_time": "2022-01-18T00:18:58.290744",
     "status": "completed"
    },
    "tags": []
   },
   "outputs": [
    {
     "data": {
      "text/html": [
       "<div>\n",
       "<style scoped>\n",
       "    .dataframe tbody tr th:only-of-type {\n",
       "        vertical-align: middle;\n",
       "    }\n",
       "\n",
       "    .dataframe tbody tr th {\n",
       "        vertical-align: top;\n",
       "    }\n",
       "\n",
       "    .dataframe thead th {\n",
       "        text-align: right;\n",
       "    }\n",
       "</style>\n",
       "<table border=\"1\" class=\"dataframe\">\n",
       "  <thead>\n",
       "    <tr style=\"text-align: right;\">\n",
       "      <th></th>\n",
       "      <th>model</th>\n",
       "      <th>run_time</th>\n",
       "      <th>avg_accy</th>\n",
       "      <th>avg_accy_std</th>\n",
       "      <th>avg_recall</th>\n",
       "      <th>avg_recall_std</th>\n",
       "      <th>avg_precision</th>\n",
       "      <th>avg_precision_std</th>\n",
       "      <th>avg_f1</th>\n",
       "      <th>avg_f1_std</th>\n",
       "      <th>avg_matthew_corcoef</th>\n",
       "      <th>avg_matthew_corcoef_std</th>\n",
       "      <th>avg_roc_auc</th>\n",
       "      <th>avg_roc_auc_std</th>\n",
       "    </tr>\n",
       "  </thead>\n",
       "  <tbody>\n",
       "    <tr>\n",
       "      <th>0</th>\n",
       "      <td>DecisionTreeClassifier</td>\n",
       "      <td>0.02</td>\n",
       "      <td>0.893557</td>\n",
       "      <td>0.011889</td>\n",
       "      <td>0.216184</td>\n",
       "      <td>0.097994</td>\n",
       "      <td>0.092206</td>\n",
       "      <td>0.027460</td>\n",
       "      <td>0.194163</td>\n",
       "      <td>0.082508</td>\n",
       "      <td>0.139234</td>\n",
       "      <td>0.088457</td>\n",
       "      <td>0.576450</td>\n",
       "      <td>0.049921</td>\n",
       "    </tr>\n",
       "    <tr>\n",
       "      <th>1</th>\n",
       "      <td>RandomForestClassifier</td>\n",
       "      <td>0.27</td>\n",
       "      <td>0.940078</td>\n",
       "      <td>0.000755</td>\n",
       "      <td>0.000000</td>\n",
       "      <td>0.000000</td>\n",
       "      <td>0.059922</td>\n",
       "      <td>0.000755</td>\n",
       "      <td>0.000000</td>\n",
       "      <td>0.000000</td>\n",
       "      <td>0.000000</td>\n",
       "      <td>0.000000</td>\n",
       "      <td>0.500000</td>\n",
       "      <td>0.000000</td>\n",
       "    </tr>\n",
       "    <tr>\n",
       "      <th>2</th>\n",
       "      <td>AdaBoostClassifier</td>\n",
       "      <td>0.17</td>\n",
       "      <td>0.937225</td>\n",
       "      <td>0.003497</td>\n",
       "      <td>0.011594</td>\n",
       "      <td>0.022264</td>\n",
       "      <td>0.066355</td>\n",
       "      <td>0.016455</td>\n",
       "      <td>0.021042</td>\n",
       "      <td>0.040572</td>\n",
       "      <td>0.024889</td>\n",
       "      <td>0.076083</td>\n",
       "      <td>0.503911</td>\n",
       "      <td>0.011418</td>\n",
       "    </tr>\n",
       "    <tr>\n",
       "      <th>3</th>\n",
       "      <td>XGBClassifier</td>\n",
       "      <td>0.42</td>\n",
       "      <td>0.942843</td>\n",
       "      <td>0.006800</td>\n",
       "      <td>0.149940</td>\n",
       "      <td>0.076236</td>\n",
       "      <td>0.151013</td>\n",
       "      <td>0.064634</td>\n",
       "      <td>0.234856</td>\n",
       "      <td>0.106642</td>\n",
       "      <td>0.274324</td>\n",
       "      <td>0.120731</td>\n",
       "      <td>0.571658</td>\n",
       "      <td>0.038723</td>\n",
       "    </tr>\n",
       "  </tbody>\n",
       "</table>\n",
       "</div>"
      ],
      "text/plain": [
       "                    model run_time  avg_accy  avg_accy_std  avg_recall  \\\n",
       "0  DecisionTreeClassifier     0.02  0.893557      0.011889    0.216184   \n",
       "1  RandomForestClassifier     0.27  0.940078      0.000755    0.000000   \n",
       "2      AdaBoostClassifier     0.17  0.937225      0.003497    0.011594   \n",
       "3           XGBClassifier     0.42  0.942843      0.006800    0.149940   \n",
       "\n",
       "   avg_recall_std  avg_precision  avg_precision_std    avg_f1  avg_f1_std  \\\n",
       "0        0.097994       0.092206           0.027460  0.194163    0.082508   \n",
       "1        0.000000       0.059922           0.000755  0.000000    0.000000   \n",
       "2        0.022264       0.066355           0.016455  0.021042    0.040572   \n",
       "3        0.076236       0.151013           0.064634  0.234856    0.106642   \n",
       "\n",
       "   avg_matthew_corcoef  avg_matthew_corcoef_std  avg_roc_auc  avg_roc_auc_std  \n",
       "0             0.139234                 0.088457     0.576450         0.049921  \n",
       "1             0.000000                 0.000000     0.500000         0.000000  \n",
       "2             0.024889                 0.076083     0.503911         0.011418  \n",
       "3             0.274324                 0.120731     0.571658         0.038723  "
      ]
     },
     "execution_count": 52,
     "metadata": {},
     "output_type": "execute_result"
    }
   ],
   "source": [
    "df_models.head()"
   ]
  },
  {
   "cell_type": "markdown",
   "id": "fac9a11b",
   "metadata": {
    "papermill": {
     "duration": 0.125713,
     "end_time": "2022-01-18T00:18:58.687883",
     "exception": false,
     "start_time": "2022-01-18T00:18:58.562170",
     "status": "completed"
    },
    "tags": []
   },
   "source": [
    "Comparing the different methods and metrics we see that the Decision Tree Classifier and XGBClassifier were the most successful, judged by the average F1 score and Matthew Correlation Coefficient from the 10-fold cross-validation. Of the four methods tested the DecisionTreeClassifier and XGBClassifier are the top candidates for our model.\n",
    "\n",
    "A common recommendation online for improving performance is to over-sample the minorty class or under-sample the majority class or both. In the next experiment I retest the four methods with a training set on which I applied the SMOTE algorithm. Perhaps this would change the results and we would see a clear winner from one of the methods."
   ]
  },
  {
   "cell_type": "markdown",
   "id": "04ce0507",
   "metadata": {
    "papermill": {
     "duration": 0.124783,
     "end_time": "2022-01-18T00:18:58.937468",
     "exception": false,
     "start_time": "2022-01-18T00:18:58.812685",
     "status": "completed"
    },
    "tags": []
   },
   "source": [
    "# **PART 10:** Comparing DT, RF, Ada, XGB with SMOTE"
   ]
  },
  {
   "cell_type": "code",
   "execution_count": 53,
   "id": "44cd7f13",
   "metadata": {
    "execution": {
     "iopub.execute_input": "2022-01-18T00:18:59.192946Z",
     "iopub.status.busy": "2022-01-18T00:18:59.191812Z",
     "iopub.status.idle": "2022-01-18T00:18:59.281722Z",
     "shell.execute_reply": "2022-01-18T00:18:59.280915Z",
     "shell.execute_reply.started": "2022-01-17T22:41:16.830389Z"
    },
    "papermill": {
     "duration": 0.21836,
     "end_time": "2022-01-18T00:18:59.281918",
     "exception": false,
     "start_time": "2022-01-18T00:18:59.063558",
     "status": "completed"
    },
    "tags": []
   },
   "outputs": [
    {
     "name": "stdout",
     "output_type": "stream",
     "text": [
      "0    10872\n",
      "1      692\n",
      "Name: FraudFound_P, dtype: int64\n",
      "0    10872\n",
      "1    10872\n",
      "Name: FraudFound_P, dtype: int64\n"
     ]
    }
   ],
   "source": [
    "sm = SMOTE(random_state=42)\n",
    "X_train_res, y_train_res = sm.fit_resample(X_train, y_train)\n",
    "\n",
    "print(y_train.value_counts())\n",
    "print(y_train_res.value_counts())"
   ]
  },
  {
   "cell_type": "markdown",
   "id": "d401e3ef",
   "metadata": {
    "papermill": {
     "duration": 0.125198,
     "end_time": "2022-01-18T00:18:59.533243",
     "exception": false,
     "start_time": "2022-01-18T00:18:59.408045",
     "status": "completed"
    },
    "tags": []
   },
   "source": [
    "Applied SMOTE to the training data and confirmed the new train set has an equal distribution of target feature."
   ]
  },
  {
   "cell_type": "code",
   "execution_count": 54,
   "id": "bba97308",
   "metadata": {
    "execution": {
     "iopub.execute_input": "2022-01-18T00:18:59.789589Z",
     "iopub.status.busy": "2022-01-18T00:18:59.788567Z",
     "iopub.status.idle": "2022-01-18T00:19:56.784891Z",
     "shell.execute_reply": "2022-01-18T00:19:56.785471Z",
     "shell.execute_reply.started": "2022-01-17T22:41:16.920472Z"
    },
    "papermill": {
     "duration": 57.1271,
     "end_time": "2022-01-18T00:19:56.785731",
     "exception": false,
     "start_time": "2022-01-18T00:18:59.658631",
     "status": "completed"
    },
    "tags": []
   },
   "outputs": [
    {
     "name": "stdout",
     "output_type": "stream",
     "text": [
      "* DecisionTreeClassifier\n",
      "* RandomForestClassifier\n"
     ]
    },
    {
     "name": "stderr",
     "output_type": "stream",
     "text": [
      "/opt/conda/lib/python3.7/site-packages/sklearn/metrics/_classification.py:1221: UndefinedMetricWarning: Precision is ill-defined and being set to 0.0 due to no predicted samples. Use `zero_division` parameter to control this behavior.\n",
      "  _warn_prf(average, modifier, msg_start, len(result))\n",
      "/opt/conda/lib/python3.7/site-packages/sklearn/metrics/_classification.py:846: RuntimeWarning: invalid value encountered in double_scalars\n",
      "  mcc = cov_ytyp / np.sqrt(cov_ytyt * cov_ypyp)\n",
      "/opt/conda/lib/python3.7/site-packages/sklearn/metrics/_classification.py:1221: UndefinedMetricWarning: Precision is ill-defined and being set to 0.0 due to no predicted samples. Use `zero_division` parameter to control this behavior.\n",
      "  _warn_prf(average, modifier, msg_start, len(result))\n",
      "/opt/conda/lib/python3.7/site-packages/sklearn/metrics/_classification.py:846: RuntimeWarning: invalid value encountered in double_scalars\n",
      "  mcc = cov_ytyp / np.sqrt(cov_ytyt * cov_ypyp)\n",
      "/opt/conda/lib/python3.7/site-packages/sklearn/metrics/_classification.py:1221: UndefinedMetricWarning: Precision is ill-defined and being set to 0.0 due to no predicted samples. Use `zero_division` parameter to control this behavior.\n",
      "  _warn_prf(average, modifier, msg_start, len(result))\n",
      "/opt/conda/lib/python3.7/site-packages/sklearn/metrics/_classification.py:846: RuntimeWarning: invalid value encountered in double_scalars\n",
      "  mcc = cov_ytyp / np.sqrt(cov_ytyt * cov_ypyp)\n",
      "/opt/conda/lib/python3.7/site-packages/sklearn/metrics/_classification.py:1221: UndefinedMetricWarning: Precision is ill-defined and being set to 0.0 due to no predicted samples. Use `zero_division` parameter to control this behavior.\n",
      "  _warn_prf(average, modifier, msg_start, len(result))\n",
      "/opt/conda/lib/python3.7/site-packages/sklearn/metrics/_classification.py:846: RuntimeWarning: invalid value encountered in double_scalars\n",
      "  mcc = cov_ytyp / np.sqrt(cov_ytyt * cov_ypyp)\n",
      "/opt/conda/lib/python3.7/site-packages/sklearn/metrics/_classification.py:1221: UndefinedMetricWarning: Precision is ill-defined and being set to 0.0 due to no predicted samples. Use `zero_division` parameter to control this behavior.\n",
      "  _warn_prf(average, modifier, msg_start, len(result))\n",
      "/opt/conda/lib/python3.7/site-packages/sklearn/metrics/_classification.py:846: RuntimeWarning: invalid value encountered in double_scalars\n",
      "  mcc = cov_ytyp / np.sqrt(cov_ytyt * cov_ypyp)\n",
      "/opt/conda/lib/python3.7/site-packages/sklearn/metrics/_classification.py:1221: UndefinedMetricWarning: Precision is ill-defined and being set to 0.0 due to no predicted samples. Use `zero_division` parameter to control this behavior.\n",
      "  _warn_prf(average, modifier, msg_start, len(result))\n",
      "/opt/conda/lib/python3.7/site-packages/sklearn/metrics/_classification.py:846: RuntimeWarning: invalid value encountered in double_scalars\n",
      "  mcc = cov_ytyp / np.sqrt(cov_ytyt * cov_ypyp)\n",
      "/opt/conda/lib/python3.7/site-packages/sklearn/metrics/_classification.py:1221: UndefinedMetricWarning: Precision is ill-defined and being set to 0.0 due to no predicted samples. Use `zero_division` parameter to control this behavior.\n",
      "  _warn_prf(average, modifier, msg_start, len(result))\n",
      "/opt/conda/lib/python3.7/site-packages/sklearn/metrics/_classification.py:846: RuntimeWarning: invalid value encountered in double_scalars\n",
      "  mcc = cov_ytyp / np.sqrt(cov_ytyt * cov_ypyp)\n",
      "/opt/conda/lib/python3.7/site-packages/sklearn/metrics/_classification.py:1221: UndefinedMetricWarning: Precision is ill-defined and being set to 0.0 due to no predicted samples. Use `zero_division` parameter to control this behavior.\n",
      "  _warn_prf(average, modifier, msg_start, len(result))\n",
      "/opt/conda/lib/python3.7/site-packages/sklearn/metrics/_classification.py:846: RuntimeWarning: invalid value encountered in double_scalars\n",
      "  mcc = cov_ytyp / np.sqrt(cov_ytyt * cov_ypyp)\n",
      "/opt/conda/lib/python3.7/site-packages/sklearn/metrics/_classification.py:1221: UndefinedMetricWarning: Precision is ill-defined and being set to 0.0 due to no predicted samples. Use `zero_division` parameter to control this behavior.\n",
      "  _warn_prf(average, modifier, msg_start, len(result))\n",
      "/opt/conda/lib/python3.7/site-packages/sklearn/metrics/_classification.py:846: RuntimeWarning: invalid value encountered in double_scalars\n",
      "  mcc = cov_ytyp / np.sqrt(cov_ytyt * cov_ypyp)\n",
      "/opt/conda/lib/python3.7/site-packages/sklearn/metrics/_classification.py:1221: UndefinedMetricWarning: Precision is ill-defined and being set to 0.0 due to no predicted samples. Use `zero_division` parameter to control this behavior.\n",
      "  _warn_prf(average, modifier, msg_start, len(result))\n",
      "/opt/conda/lib/python3.7/site-packages/sklearn/metrics/_classification.py:846: RuntimeWarning: invalid value encountered in double_scalars\n",
      "  mcc = cov_ytyp / np.sqrt(cov_ytyt * cov_ypyp)\n",
      "/opt/conda/lib/python3.7/site-packages/sklearn/metrics/_classification.py:1221: UndefinedMetricWarning: Precision is ill-defined and being set to 0.0 due to no predicted samples. Use `zero_division` parameter to control this behavior.\n",
      "  _warn_prf(average, modifier, msg_start, len(result))\n",
      "/opt/conda/lib/python3.7/site-packages/sklearn/metrics/_classification.py:846: RuntimeWarning: invalid value encountered in double_scalars\n",
      "  mcc = cov_ytyp / np.sqrt(cov_ytyt * cov_ypyp)\n",
      "/opt/conda/lib/python3.7/site-packages/sklearn/metrics/_classification.py:1221: UndefinedMetricWarning: Precision is ill-defined and being set to 0.0 due to no predicted samples. Use `zero_division` parameter to control this behavior.\n",
      "  _warn_prf(average, modifier, msg_start, len(result))\n",
      "/opt/conda/lib/python3.7/site-packages/sklearn/metrics/_classification.py:846: RuntimeWarning: invalid value encountered in double_scalars\n",
      "  mcc = cov_ytyp / np.sqrt(cov_ytyt * cov_ypyp)\n",
      "/opt/conda/lib/python3.7/site-packages/sklearn/metrics/_classification.py:1221: UndefinedMetricWarning: Precision is ill-defined and being set to 0.0 due to no predicted samples. Use `zero_division` parameter to control this behavior.\n",
      "  _warn_prf(average, modifier, msg_start, len(result))\n",
      "/opt/conda/lib/python3.7/site-packages/sklearn/metrics/_classification.py:846: RuntimeWarning: invalid value encountered in double_scalars\n",
      "  mcc = cov_ytyp / np.sqrt(cov_ytyt * cov_ypyp)\n",
      "/opt/conda/lib/python3.7/site-packages/sklearn/metrics/_classification.py:1221: UndefinedMetricWarning: Precision is ill-defined and being set to 0.0 due to no predicted samples. Use `zero_division` parameter to control this behavior.\n",
      "  _warn_prf(average, modifier, msg_start, len(result))\n",
      "/opt/conda/lib/python3.7/site-packages/sklearn/metrics/_classification.py:846: RuntimeWarning: invalid value encountered in double_scalars\n",
      "  mcc = cov_ytyp / np.sqrt(cov_ytyt * cov_ypyp)\n",
      "/opt/conda/lib/python3.7/site-packages/sklearn/metrics/_classification.py:1221: UndefinedMetricWarning: Precision is ill-defined and being set to 0.0 due to no predicted samples. Use `zero_division` parameter to control this behavior.\n",
      "  _warn_prf(average, modifier, msg_start, len(result))\n",
      "/opt/conda/lib/python3.7/site-packages/sklearn/metrics/_classification.py:846: RuntimeWarning: invalid value encountered in double_scalars\n",
      "  mcc = cov_ytyp / np.sqrt(cov_ytyt * cov_ypyp)\n",
      "/opt/conda/lib/python3.7/site-packages/sklearn/metrics/_classification.py:1221: UndefinedMetricWarning: Precision is ill-defined and being set to 0.0 due to no predicted samples. Use `zero_division` parameter to control this behavior.\n",
      "  _warn_prf(average, modifier, msg_start, len(result))\n",
      "/opt/conda/lib/python3.7/site-packages/sklearn/metrics/_classification.py:846: RuntimeWarning: invalid value encountered in double_scalars\n",
      "  mcc = cov_ytyp / np.sqrt(cov_ytyt * cov_ypyp)\n",
      "/opt/conda/lib/python3.7/site-packages/sklearn/metrics/_classification.py:1221: UndefinedMetricWarning: Precision is ill-defined and being set to 0.0 due to no predicted samples. Use `zero_division` parameter to control this behavior.\n",
      "  _warn_prf(average, modifier, msg_start, len(result))\n",
      "/opt/conda/lib/python3.7/site-packages/sklearn/metrics/_classification.py:846: RuntimeWarning: invalid value encountered in double_scalars\n",
      "  mcc = cov_ytyp / np.sqrt(cov_ytyt * cov_ypyp)\n",
      "/opt/conda/lib/python3.7/site-packages/sklearn/metrics/_classification.py:1221: UndefinedMetricWarning: Precision is ill-defined and being set to 0.0 due to no predicted samples. Use `zero_division` parameter to control this behavior.\n",
      "  _warn_prf(average, modifier, msg_start, len(result))\n",
      "/opt/conda/lib/python3.7/site-packages/sklearn/metrics/_classification.py:846: RuntimeWarning: invalid value encountered in double_scalars\n",
      "  mcc = cov_ytyp / np.sqrt(cov_ytyt * cov_ypyp)\n",
      "/opt/conda/lib/python3.7/site-packages/sklearn/metrics/_classification.py:1221: UndefinedMetricWarning: Precision is ill-defined and being set to 0.0 due to no predicted samples. Use `zero_division` parameter to control this behavior.\n",
      "  _warn_prf(average, modifier, msg_start, len(result))\n",
      "/opt/conda/lib/python3.7/site-packages/sklearn/metrics/_classification.py:846: RuntimeWarning: invalid value encountered in double_scalars\n",
      "  mcc = cov_ytyp / np.sqrt(cov_ytyt * cov_ypyp)\n",
      "/opt/conda/lib/python3.7/site-packages/sklearn/metrics/_classification.py:1221: UndefinedMetricWarning: Precision is ill-defined and being set to 0.0 due to no predicted samples. Use `zero_division` parameter to control this behavior.\n",
      "  _warn_prf(average, modifier, msg_start, len(result))\n",
      "/opt/conda/lib/python3.7/site-packages/sklearn/metrics/_classification.py:846: RuntimeWarning: invalid value encountered in double_scalars\n",
      "  mcc = cov_ytyp / np.sqrt(cov_ytyt * cov_ypyp)\n",
      "/opt/conda/lib/python3.7/site-packages/sklearn/metrics/_classification.py:1221: UndefinedMetricWarning: Precision is ill-defined and being set to 0.0 due to no predicted samples. Use `zero_division` parameter to control this behavior.\n",
      "  _warn_prf(average, modifier, msg_start, len(result))\n",
      "/opt/conda/lib/python3.7/site-packages/sklearn/metrics/_classification.py:846: RuntimeWarning: invalid value encountered in double_scalars\n",
      "  mcc = cov_ytyp / np.sqrt(cov_ytyt * cov_ypyp)\n",
      "/opt/conda/lib/python3.7/site-packages/sklearn/metrics/_classification.py:1221: UndefinedMetricWarning: Precision is ill-defined and being set to 0.0 due to no predicted samples. Use `zero_division` parameter to control this behavior.\n",
      "  _warn_prf(average, modifier, msg_start, len(result))\n",
      "/opt/conda/lib/python3.7/site-packages/sklearn/metrics/_classification.py:846: RuntimeWarning: invalid value encountered in double_scalars\n",
      "  mcc = cov_ytyp / np.sqrt(cov_ytyt * cov_ypyp)\n",
      "/opt/conda/lib/python3.7/site-packages/sklearn/metrics/_classification.py:1221: UndefinedMetricWarning: Precision is ill-defined and being set to 0.0 due to no predicted samples. Use `zero_division` parameter to control this behavior.\n",
      "  _warn_prf(average, modifier, msg_start, len(result))\n",
      "/opt/conda/lib/python3.7/site-packages/sklearn/metrics/_classification.py:846: RuntimeWarning: invalid value encountered in double_scalars\n",
      "  mcc = cov_ytyp / np.sqrt(cov_ytyt * cov_ypyp)\n",
      "/opt/conda/lib/python3.7/site-packages/sklearn/metrics/_classification.py:1221: UndefinedMetricWarning: Precision is ill-defined and being set to 0.0 due to no predicted samples. Use `zero_division` parameter to control this behavior.\n",
      "  _warn_prf(average, modifier, msg_start, len(result))\n",
      "/opt/conda/lib/python3.7/site-packages/sklearn/metrics/_classification.py:846: RuntimeWarning: invalid value encountered in double_scalars\n",
      "  mcc = cov_ytyp / np.sqrt(cov_ytyt * cov_ypyp)\n",
      "/opt/conda/lib/python3.7/site-packages/sklearn/metrics/_classification.py:1221: UndefinedMetricWarning: Precision is ill-defined and being set to 0.0 due to no predicted samples. Use `zero_division` parameter to control this behavior.\n",
      "  _warn_prf(average, modifier, msg_start, len(result))\n",
      "/opt/conda/lib/python3.7/site-packages/sklearn/metrics/_classification.py:846: RuntimeWarning: invalid value encountered in double_scalars\n",
      "  mcc = cov_ytyp / np.sqrt(cov_ytyt * cov_ypyp)\n",
      "/opt/conda/lib/python3.7/site-packages/sklearn/metrics/_classification.py:1221: UndefinedMetricWarning: Precision is ill-defined and being set to 0.0 due to no predicted samples. Use `zero_division` parameter to control this behavior.\n",
      "  _warn_prf(average, modifier, msg_start, len(result))\n",
      "/opt/conda/lib/python3.7/site-packages/sklearn/metrics/_classification.py:846: RuntimeWarning: invalid value encountered in double_scalars\n",
      "  mcc = cov_ytyp / np.sqrt(cov_ytyt * cov_ypyp)\n",
      "/opt/conda/lib/python3.7/site-packages/sklearn/metrics/_classification.py:1221: UndefinedMetricWarning: Precision is ill-defined and being set to 0.0 due to no predicted samples. Use `zero_division` parameter to control this behavior.\n",
      "  _warn_prf(average, modifier, msg_start, len(result))\n",
      "/opt/conda/lib/python3.7/site-packages/sklearn/metrics/_classification.py:846: RuntimeWarning: invalid value encountered in double_scalars\n",
      "  mcc = cov_ytyp / np.sqrt(cov_ytyt * cov_ypyp)\n",
      "/opt/conda/lib/python3.7/site-packages/sklearn/metrics/_classification.py:1221: UndefinedMetricWarning: Precision is ill-defined and being set to 0.0 due to no predicted samples. Use `zero_division` parameter to control this behavior.\n",
      "  _warn_prf(average, modifier, msg_start, len(result))\n",
      "/opt/conda/lib/python3.7/site-packages/sklearn/metrics/_classification.py:846: RuntimeWarning: invalid value encountered in double_scalars\n",
      "  mcc = cov_ytyp / np.sqrt(cov_ytyt * cov_ypyp)\n",
      "/opt/conda/lib/python3.7/site-packages/sklearn/metrics/_classification.py:1221: UndefinedMetricWarning: Precision is ill-defined and being set to 0.0 due to no predicted samples. Use `zero_division` parameter to control this behavior.\n",
      "  _warn_prf(average, modifier, msg_start, len(result))\n",
      "/opt/conda/lib/python3.7/site-packages/sklearn/metrics/_classification.py:846: RuntimeWarning: invalid value encountered in double_scalars\n",
      "  mcc = cov_ytyp / np.sqrt(cov_ytyt * cov_ypyp)\n",
      "/opt/conda/lib/python3.7/site-packages/sklearn/metrics/_classification.py:1221: UndefinedMetricWarning: Precision is ill-defined and being set to 0.0 due to no predicted samples. Use `zero_division` parameter to control this behavior.\n",
      "  _warn_prf(average, modifier, msg_start, len(result))\n",
      "/opt/conda/lib/python3.7/site-packages/sklearn/metrics/_classification.py:846: RuntimeWarning: invalid value encountered in double_scalars\n",
      "  mcc = cov_ytyp / np.sqrt(cov_ytyt * cov_ypyp)\n"
     ]
    },
    {
     "name": "stdout",
     "output_type": "stream",
     "text": [
      "* AdaBoostClassifier\n"
     ]
    },
    {
     "name": "stderr",
     "output_type": "stream",
     "text": [
      "/opt/conda/lib/python3.7/site-packages/sklearn/metrics/_classification.py:1221: UndefinedMetricWarning: Precision is ill-defined and being set to 0.0 due to no predicted samples. Use `zero_division` parameter to control this behavior.\n",
      "  _warn_prf(average, modifier, msg_start, len(result))\n",
      "/opt/conda/lib/python3.7/site-packages/sklearn/metrics/_classification.py:846: RuntimeWarning: invalid value encountered in double_scalars\n",
      "  mcc = cov_ytyp / np.sqrt(cov_ytyt * cov_ypyp)\n",
      "/opt/conda/lib/python3.7/site-packages/sklearn/metrics/_classification.py:1221: UndefinedMetricWarning: Precision is ill-defined and being set to 0.0 due to no predicted samples. Use `zero_division` parameter to control this behavior.\n",
      "  _warn_prf(average, modifier, msg_start, len(result))\n",
      "/opt/conda/lib/python3.7/site-packages/sklearn/metrics/_classification.py:846: RuntimeWarning: invalid value encountered in double_scalars\n",
      "  mcc = cov_ytyp / np.sqrt(cov_ytyt * cov_ypyp)\n",
      "/opt/conda/lib/python3.7/site-packages/sklearn/metrics/_classification.py:1221: UndefinedMetricWarning: Precision is ill-defined and being set to 0.0 due to no predicted samples. Use `zero_division` parameter to control this behavior.\n",
      "  _warn_prf(average, modifier, msg_start, len(result))\n",
      "/opt/conda/lib/python3.7/site-packages/sklearn/metrics/_classification.py:846: RuntimeWarning: invalid value encountered in double_scalars\n",
      "  mcc = cov_ytyp / np.sqrt(cov_ytyt * cov_ypyp)\n",
      "/opt/conda/lib/python3.7/site-packages/sklearn/metrics/_classification.py:1221: UndefinedMetricWarning: Precision is ill-defined and being set to 0.0 due to no predicted samples. Use `zero_division` parameter to control this behavior.\n",
      "  _warn_prf(average, modifier, msg_start, len(result))\n",
      "/opt/conda/lib/python3.7/site-packages/sklearn/metrics/_classification.py:846: RuntimeWarning: invalid value encountered in double_scalars\n",
      "  mcc = cov_ytyp / np.sqrt(cov_ytyt * cov_ypyp)\n",
      "/opt/conda/lib/python3.7/site-packages/sklearn/metrics/_classification.py:1221: UndefinedMetricWarning: Precision is ill-defined and being set to 0.0 due to no predicted samples. Use `zero_division` parameter to control this behavior.\n",
      "  _warn_prf(average, modifier, msg_start, len(result))\n",
      "/opt/conda/lib/python3.7/site-packages/sklearn/metrics/_classification.py:846: RuntimeWarning: invalid value encountered in double_scalars\n",
      "  mcc = cov_ytyp / np.sqrt(cov_ytyt * cov_ypyp)\n"
     ]
    },
    {
     "name": "stdout",
     "output_type": "stream",
     "text": [
      "* XGBClassifier\n"
     ]
    }
   ],
   "source": [
    "df_models_smote = pd.DataFrame(columns = ['model', \n",
    "                                    'run_time', \n",
    "                                    'avg_accy',\n",
    "                                    'avg_accy_std',  \n",
    "                                    'avg_recall',\n",
    "                                    'avg_recall_std',\n",
    "                                    'avg_precision',\n",
    "                                    'avg_precision_std',\n",
    "                                    'avg_f1',\n",
    "                                    'avg_f1_std',\n",
    "                                    'avg_matthew_corcoef',\n",
    "                                    'avg_matthew_corcoef_std',\n",
    "                                    'avg_roc_auc',\n",
    "                                    'avg_roc_auc_std', \n",
    "                                     ])\n",
    "\n",
    "\n",
    "scorer = {'accuracy_score':metrics.make_scorer(metrics.accuracy_score),\n",
    "          'f1_score':metrics.make_scorer(metrics.f1_score),\n",
    "          'recall_score':metrics.make_scorer(metrics.recall_score),\n",
    "          'precision_score':metrics.make_scorer(metrics.precision_score),\n",
    "          'matthew_corrcoef':metrics.make_scorer(metrics.matthews_corrcoef),\n",
    "          'roc_auc_score':metrics.make_scorer(metrics.roc_auc_score) \n",
    "         }\n",
    "\n",
    "for key in classifiers:\n",
    "    print('*', key)\n",
    "    start_time = time.time()\n",
    "    classifier = classifiers[key]\n",
    "    model = classifier.fit(X_train_res,y_train_res)     #<--- pass the SMOTE generate training data set\n",
    "    #scorer = metrics.make_scorer(metrics.recall_score)\n",
    "    #cv_scores = cross_val_score(model, X_test, y_test, cv=5, scoring=scorer)\n",
    "    cvs = RepeatedStratifiedKFold(n_splits=10, n_repeats=3, random_state=42)\n",
    "    cv_scores = cross_validate(model, X_test, y_test, cv=cvs, scoring = scorer)   #<--- tested the SMOTE trained model on original testing data\n",
    "    y_pred = model.predict(X_test)\n",
    "    \n",
    "    #print(model.get_params())\n",
    "    \n",
    "    row = {\n",
    "        'model': key,\n",
    "        'run_time': format(round((time.time() - start_time)/60,2)),\n",
    "        'avg_accy': cv_scores['test_accuracy_score'].mean(),\n",
    "        'avg_accy_std': cv_scores['test_accuracy_score'].std(),\n",
    "        'avg_recall': cv_scores['test_recall_score'].mean(),\n",
    "        'avg_recall_std': cv_scores['test_recall_score'].std(),\n",
    "        'avg_precision': cv_scores['test_precision_score'].mean(),\n",
    "        'avg_precision_std': cv_scores['test_precision_score'].std(),\n",
    "        'avg_f1': cv_scores['test_f1_score'].mean(),\n",
    "        'avg_f1_std': cv_scores['test_f1_score'].std(),\n",
    "        'avg_matthew_corcoef': cv_scores['test_matthew_corrcoef'].mean(),\n",
    "        'avg_matthew_corcoef_std': cv_scores['test_matthew_corrcoef'].std(),\n",
    "        'avg_roc_auc': cv_scores['test_roc_auc_score'].mean(),\n",
    "        'avg_roc_auc_std': cv_scores['test_roc_auc_score'].std(),\n",
    "    }\n",
    "    \n",
    "    df_models_smote = df_models_smote.append(row, ignore_index=True)"
   ]
  },
  {
   "cell_type": "code",
   "execution_count": 55,
   "id": "93690a5c",
   "metadata": {
    "execution": {
     "iopub.execute_input": "2022-01-18T00:19:57.070212Z",
     "iopub.status.busy": "2022-01-18T00:19:57.069166Z",
     "iopub.status.idle": "2022-01-18T00:19:57.085723Z",
     "shell.execute_reply": "2022-01-18T00:19:57.085131Z",
     "shell.execute_reply.started": "2022-01-17T22:42:14.701388Z"
    },
    "papermill": {
     "duration": 0.159018,
     "end_time": "2022-01-18T00:19:57.085996",
     "exception": false,
     "start_time": "2022-01-18T00:19:56.926978",
     "status": "completed"
    },
    "tags": []
   },
   "outputs": [
    {
     "data": {
      "text/html": [
       "<div>\n",
       "<style scoped>\n",
       "    .dataframe tbody tr th:only-of-type {\n",
       "        vertical-align: middle;\n",
       "    }\n",
       "\n",
       "    .dataframe tbody tr th {\n",
       "        vertical-align: top;\n",
       "    }\n",
       "\n",
       "    .dataframe thead th {\n",
       "        text-align: right;\n",
       "    }\n",
       "</style>\n",
       "<table border=\"1\" class=\"dataframe\">\n",
       "  <thead>\n",
       "    <tr style=\"text-align: right;\">\n",
       "      <th></th>\n",
       "      <th>model</th>\n",
       "      <th>run_time</th>\n",
       "      <th>avg_accy</th>\n",
       "      <th>avg_accy_std</th>\n",
       "      <th>avg_recall</th>\n",
       "      <th>avg_recall_std</th>\n",
       "      <th>avg_precision</th>\n",
       "      <th>avg_precision_std</th>\n",
       "      <th>avg_f1</th>\n",
       "      <th>avg_f1_std</th>\n",
       "      <th>avg_matthew_corcoef</th>\n",
       "      <th>avg_matthew_corcoef_std</th>\n",
       "      <th>avg_roc_auc</th>\n",
       "      <th>avg_roc_auc_std</th>\n",
       "    </tr>\n",
       "  </thead>\n",
       "  <tbody>\n",
       "    <tr>\n",
       "      <th>0</th>\n",
       "      <td>DecisionTreeClassifier</td>\n",
       "      <td>0.02</td>\n",
       "      <td>0.893557</td>\n",
       "      <td>0.011889</td>\n",
       "      <td>0.216184</td>\n",
       "      <td>0.097994</td>\n",
       "      <td>0.092206</td>\n",
       "      <td>0.027460</td>\n",
       "      <td>0.194163</td>\n",
       "      <td>0.082508</td>\n",
       "      <td>0.139234</td>\n",
       "      <td>0.088457</td>\n",
       "      <td>0.576450</td>\n",
       "      <td>0.049921</td>\n",
       "    </tr>\n",
       "    <tr>\n",
       "      <th>1</th>\n",
       "      <td>RandomForestClassifier</td>\n",
       "      <td>0.27</td>\n",
       "      <td>0.940078</td>\n",
       "      <td>0.000755</td>\n",
       "      <td>0.000000</td>\n",
       "      <td>0.000000</td>\n",
       "      <td>0.059922</td>\n",
       "      <td>0.000755</td>\n",
       "      <td>0.000000</td>\n",
       "      <td>0.000000</td>\n",
       "      <td>0.000000</td>\n",
       "      <td>0.000000</td>\n",
       "      <td>0.500000</td>\n",
       "      <td>0.000000</td>\n",
       "    </tr>\n",
       "    <tr>\n",
       "      <th>2</th>\n",
       "      <td>AdaBoostClassifier</td>\n",
       "      <td>0.17</td>\n",
       "      <td>0.937225</td>\n",
       "      <td>0.003497</td>\n",
       "      <td>0.011594</td>\n",
       "      <td>0.022264</td>\n",
       "      <td>0.066355</td>\n",
       "      <td>0.016455</td>\n",
       "      <td>0.021042</td>\n",
       "      <td>0.040572</td>\n",
       "      <td>0.024889</td>\n",
       "      <td>0.076083</td>\n",
       "      <td>0.503911</td>\n",
       "      <td>0.011418</td>\n",
       "    </tr>\n",
       "    <tr>\n",
       "      <th>3</th>\n",
       "      <td>XGBClassifier</td>\n",
       "      <td>0.42</td>\n",
       "      <td>0.942843</td>\n",
       "      <td>0.006800</td>\n",
       "      <td>0.149940</td>\n",
       "      <td>0.076236</td>\n",
       "      <td>0.151013</td>\n",
       "      <td>0.064634</td>\n",
       "      <td>0.234856</td>\n",
       "      <td>0.106642</td>\n",
       "      <td>0.274324</td>\n",
       "      <td>0.120731</td>\n",
       "      <td>0.571658</td>\n",
       "      <td>0.038723</td>\n",
       "    </tr>\n",
       "  </tbody>\n",
       "</table>\n",
       "</div>"
      ],
      "text/plain": [
       "                    model run_time  avg_accy  avg_accy_std  avg_recall  \\\n",
       "0  DecisionTreeClassifier     0.02  0.893557      0.011889    0.216184   \n",
       "1  RandomForestClassifier     0.27  0.940078      0.000755    0.000000   \n",
       "2      AdaBoostClassifier     0.17  0.937225      0.003497    0.011594   \n",
       "3           XGBClassifier     0.42  0.942843      0.006800    0.149940   \n",
       "\n",
       "   avg_recall_std  avg_precision  avg_precision_std    avg_f1  avg_f1_std  \\\n",
       "0        0.097994       0.092206           0.027460  0.194163    0.082508   \n",
       "1        0.000000       0.059922           0.000755  0.000000    0.000000   \n",
       "2        0.022264       0.066355           0.016455  0.021042    0.040572   \n",
       "3        0.076236       0.151013           0.064634  0.234856    0.106642   \n",
       "\n",
       "   avg_matthew_corcoef  avg_matthew_corcoef_std  avg_roc_auc  avg_roc_auc_std  \n",
       "0             0.139234                 0.088457     0.576450         0.049921  \n",
       "1             0.000000                 0.000000     0.500000         0.000000  \n",
       "2             0.024889                 0.076083     0.503911         0.011418  \n",
       "3             0.274324                 0.120731     0.571658         0.038723  "
      ]
     },
     "execution_count": 55,
     "metadata": {},
     "output_type": "execute_result"
    }
   ],
   "source": [
    "df_models.head()\n"
   ]
  },
  {
   "cell_type": "code",
   "execution_count": 56,
   "id": "21182d82",
   "metadata": {
    "execution": {
     "iopub.execute_input": "2022-01-18T00:19:57.371975Z",
     "iopub.status.busy": "2022-01-18T00:19:57.371280Z",
     "iopub.status.idle": "2022-01-18T00:19:57.380926Z",
     "shell.execute_reply": "2022-01-18T00:19:57.381428Z",
     "shell.execute_reply.started": "2022-01-17T22:42:14.723422Z"
    },
    "papermill": {
     "duration": 0.157921,
     "end_time": "2022-01-18T00:19:57.381598",
     "exception": false,
     "start_time": "2022-01-18T00:19:57.223677",
     "status": "completed"
    },
    "tags": []
   },
   "outputs": [
    {
     "data": {
      "text/html": [
       "<div>\n",
       "<style scoped>\n",
       "    .dataframe tbody tr th:only-of-type {\n",
       "        vertical-align: middle;\n",
       "    }\n",
       "\n",
       "    .dataframe tbody tr th {\n",
       "        vertical-align: top;\n",
       "    }\n",
       "\n",
       "    .dataframe thead th {\n",
       "        text-align: right;\n",
       "    }\n",
       "</style>\n",
       "<table border=\"1\" class=\"dataframe\">\n",
       "  <thead>\n",
       "    <tr style=\"text-align: right;\">\n",
       "      <th></th>\n",
       "      <th>model</th>\n",
       "      <th>run_time</th>\n",
       "      <th>avg_accy</th>\n",
       "      <th>avg_accy_std</th>\n",
       "      <th>avg_recall</th>\n",
       "      <th>avg_recall_std</th>\n",
       "      <th>avg_precision</th>\n",
       "      <th>avg_precision_std</th>\n",
       "      <th>avg_f1</th>\n",
       "      <th>avg_f1_std</th>\n",
       "      <th>avg_matthew_corcoef</th>\n",
       "      <th>avg_matthew_corcoef_std</th>\n",
       "      <th>avg_roc_auc</th>\n",
       "      <th>avg_roc_auc_std</th>\n",
       "    </tr>\n",
       "  </thead>\n",
       "  <tbody>\n",
       "    <tr>\n",
       "      <th>0</th>\n",
       "      <td>DecisionTreeClassifier</td>\n",
       "      <td>0.02</td>\n",
       "      <td>0.893814</td>\n",
       "      <td>0.014769</td>\n",
       "      <td>0.198792</td>\n",
       "      <td>0.103173</td>\n",
       "      <td>0.170826</td>\n",
       "      <td>0.088191</td>\n",
       "      <td>0.182240</td>\n",
       "      <td>0.092894</td>\n",
       "      <td>0.127302</td>\n",
       "      <td>0.099135</td>\n",
       "      <td>0.568445</td>\n",
       "      <td>0.053253</td>\n",
       "    </tr>\n",
       "    <tr>\n",
       "      <th>1</th>\n",
       "      <td>RandomForestClassifier</td>\n",
       "      <td>0.29</td>\n",
       "      <td>0.940078</td>\n",
       "      <td>0.000755</td>\n",
       "      <td>0.000000</td>\n",
       "      <td>0.000000</td>\n",
       "      <td>0.000000</td>\n",
       "      <td>0.000000</td>\n",
       "      <td>0.000000</td>\n",
       "      <td>0.000000</td>\n",
       "      <td>0.000000</td>\n",
       "      <td>0.000000</td>\n",
       "      <td>0.500000</td>\n",
       "      <td>0.000000</td>\n",
       "    </tr>\n",
       "    <tr>\n",
       "      <th>2</th>\n",
       "      <td>AdaBoostClassifier</td>\n",
       "      <td>0.18</td>\n",
       "      <td>0.937225</td>\n",
       "      <td>0.003497</td>\n",
       "      <td>0.011594</td>\n",
       "      <td>0.022264</td>\n",
       "      <td>0.130556</td>\n",
       "      <td>0.275280</td>\n",
       "      <td>0.021042</td>\n",
       "      <td>0.040572</td>\n",
       "      <td>0.024889</td>\n",
       "      <td>0.076083</td>\n",
       "      <td>0.503911</td>\n",
       "      <td>0.011418</td>\n",
       "    </tr>\n",
       "    <tr>\n",
       "      <th>3</th>\n",
       "      <td>XGBClassifier</td>\n",
       "      <td>0.46</td>\n",
       "      <td>0.942843</td>\n",
       "      <td>0.006800</td>\n",
       "      <td>0.149940</td>\n",
       "      <td>0.076236</td>\n",
       "      <td>0.591532</td>\n",
       "      <td>0.216708</td>\n",
       "      <td>0.234856</td>\n",
       "      <td>0.106642</td>\n",
       "      <td>0.274324</td>\n",
       "      <td>0.120731</td>\n",
       "      <td>0.571658</td>\n",
       "      <td>0.038723</td>\n",
       "    </tr>\n",
       "  </tbody>\n",
       "</table>\n",
       "</div>"
      ],
      "text/plain": [
       "                    model run_time  avg_accy  avg_accy_std  avg_recall  \\\n",
       "0  DecisionTreeClassifier     0.02  0.893814      0.014769    0.198792   \n",
       "1  RandomForestClassifier     0.29  0.940078      0.000755    0.000000   \n",
       "2      AdaBoostClassifier     0.18  0.937225      0.003497    0.011594   \n",
       "3           XGBClassifier     0.46  0.942843      0.006800    0.149940   \n",
       "\n",
       "   avg_recall_std  avg_precision  avg_precision_std    avg_f1  avg_f1_std  \\\n",
       "0        0.103173       0.170826           0.088191  0.182240    0.092894   \n",
       "1        0.000000       0.000000           0.000000  0.000000    0.000000   \n",
       "2        0.022264       0.130556           0.275280  0.021042    0.040572   \n",
       "3        0.076236       0.591532           0.216708  0.234856    0.106642   \n",
       "\n",
       "   avg_matthew_corcoef  avg_matthew_corcoef_std  avg_roc_auc  avg_roc_auc_std  \n",
       "0             0.127302                 0.099135     0.568445         0.053253  \n",
       "1             0.000000                 0.000000     0.500000         0.000000  \n",
       "2             0.024889                 0.076083     0.503911         0.011418  \n",
       "3             0.274324                 0.120731     0.571658         0.038723  "
      ]
     },
     "execution_count": 56,
     "metadata": {},
     "output_type": "execute_result"
    }
   ],
   "source": [
    "df_models_smote.head()"
   ]
  },
  {
   "cell_type": "markdown",
   "id": "cf6aef22",
   "metadata": {
    "papermill": {
     "duration": 0.137705,
     "end_time": "2022-01-18T00:19:57.660345",
     "exception": false,
     "start_time": "2022-01-18T00:19:57.522640",
     "status": "completed"
    },
    "tags": []
   },
   "source": [
    "Looking over the two results, we can see that using SMOTE with the DecisionTreeClassifier resulted in a similar F1 score as to the non-SMOTE model (during testing I have seen both a slight increase and decrease in performance, which is expected since we randomly selecting the dataset during the cross-validation process). The ensemble methods showed no change in the F1 score or Matthew Correlation Coefficient. This is where I decided to continue bulding a model using the XGBClassifier because of the consistency of the F1 score and Matthew Correlation Coefficient."
   ]
  },
  {
   "cell_type": "markdown",
   "id": "745044e1",
   "metadata": {
    "papermill": {
     "duration": 0.145423,
     "end_time": "2022-01-18T00:19:57.946617",
     "exception": false,
     "start_time": "2022-01-18T00:19:57.801194",
     "status": "completed"
    },
    "tags": []
   },
   "source": [
    "# **PART 11:** Tuning the hyperparameters of XGBoost"
   ]
  },
  {
   "cell_type": "markdown",
   "id": "5528b928",
   "metadata": {
    "papermill": {
     "duration": 0.13908,
     "end_time": "2022-01-18T00:19:58.238261",
     "exception": false,
     "start_time": "2022-01-18T00:19:58.099181",
     "status": "completed"
    },
    "tags": []
   },
   "source": [
    "The process of getting the hyperparameters tuned was a long fight for me. I found lots of blog posts and code that 'demonstrated' how to do it, but either part of the code or all of the code didn't work or made no sense. I am firm believer that there are no magic bullets, so if I find code that 'works' but makes no sense in how it generates the results I assume it is useless. \n",
    "\n",
    "My first attempt I used GridSearchCV to work the parameter space but took a god-awful amount of time (based on https://machinelearningmastery.com/hyperparameters-for-classification-machine-learning-algorithms/). I very quickly abandonded that idea and went search for a better/faster method. I came across the following article, (https://blog.cambridgespark.com/hyperparameter-tuning-in-xgboost-4ff9100a3b2f), and the method actually work very fast, but I didn't understand why/how it worked and when I went to compare the results to the previous methods I had difficulty extracting the optimal parameters for a separate verification using XGBClassifier (as opposed to using dmatrix and xgb). \n",
    "\n",
    "After further searching and reading I came across two articles which lead me to Hyperopt and is what the following code is based on. The first being the most helpful, strongly recommend anyone interested to read through it.\n",
    "* https://www.kaggle.com/prashant111/a-guide-on-xgboost-hyperparameters-tuning \n",
    "* https://machinelearningmastery.com/hyperopt-for-automated-machine-learning-with-scikit-learn/\n",
    "\n",
    "Below I created the parameter space for my XGBClassifier. There were inconsistencies in results so I opted to explicitly define all the parameters that XGBClassifier takes.\n"
   ]
  },
  {
   "cell_type": "code",
   "execution_count": 57,
   "id": "ad8693f4",
   "metadata": {
    "execution": {
     "iopub.execute_input": "2022-01-18T00:19:58.518552Z",
     "iopub.status.busy": "2022-01-18T00:19:58.517886Z",
     "iopub.status.idle": "2022-01-18T00:19:58.528225Z",
     "shell.execute_reply": "2022-01-18T00:19:58.527668Z",
     "shell.execute_reply.started": "2022-01-17T22:42:14.744403Z"
    },
    "papermill": {
     "duration": 0.15217,
     "end_time": "2022-01-18T00:19:58.528371",
     "exception": false,
     "start_time": "2022-01-18T00:19:58.376201",
     "status": "completed"
    },
    "tags": []
   },
   "outputs": [],
   "source": [
    "space={\n",
    "    'objective': 'binary:logistic',\n",
    "    #objective= 'binary:logistic', \n",
    "    'use_label_encoder': False,\n",
    "    #use_label_encoder= False, \n",
    "    'base_score': 0.5,\n",
    "    #base_score= 0.5, \n",
    "    'booster': 'gbtree',\n",
    "    #booster= 'gbtree', \n",
    "    'colsample_bylevel' : 1,\n",
    "    #colsample_bylevel= 1, \n",
    "    'colsample_bynode' : 1,\n",
    "    #colsample_bynode= 1, \n",
    "    'colsample_bytree' : 1,\n",
    "    #colsample_bytree= 1, \n",
    "    'enable_categorical': False,\n",
    "    #enable_categorical= False, \n",
    "    'gamma': hp.uniform('gamma', 0,10),\n",
    "    #gamma= 0, \n",
    "    'gpu_id': -1,\n",
    "    #gpu_id= -1,\n",
    "    'importance_type': None,\n",
    "    #importance_type= None, \n",
    "    'interaction_constraints': '',\n",
    "    #interaction_constraints= '', \n",
    "    'learning_rate': 0.300000012,\n",
    "    #learning_rate= 0.300000012, \n",
    "    'max_delta_step': 0,\n",
    "    #max_delta_step= 0, \n",
    "    'max_depth': hp.randint(\"max_depth\", 10)+3,\n",
    "    #max_depth= 6, \n",
    "    'min_child_weight' : hp.randint('min_child_weight', 4)+1,\n",
    "    #min_child_weight= 1, \n",
    "    #missing= 'nan', \n",
    "    'monotone_constraints': '()',\n",
    "    #monotone_constraints= '()',\n",
    "    'n_estimators': hp.randint('n_estimators', 150)+50,\n",
    "    #n_estimators= 100, \n",
    "    'n_jobs': 4,\n",
    "    #n_jobs= 4, \n",
    "    'num_parallel_tree':1,\n",
    "    #num_parallel_tree= 1, \n",
    "    'predictor':'auto',\n",
    "    #predictor= 'auto', \n",
    "    'random_state': 0,\n",
    "    #random_state= 0, \n",
    "    'reg_alpha' : hp.randint('reg_alpha', 10),\n",
    "    #reg_alpha= 0, \n",
    "    'reg_lambda' : hp.randint('reg_lambda', 10),\n",
    "    #reg_lambda= 1, \n",
    "    'scale_pos_weight': 1,\n",
    "    #scale_pos_weight= 1, \n",
    "    'subsample': 1,\n",
    "    #subsample= 1, \n",
    "    'tree_method': 'exact',\n",
    "    #tree_method= 'exact', \n",
    "    'validate_parameters':1,\n",
    "    #validate_parameters= 1, \n",
    "    'verbosity': None,\n",
    "    #verbosity= None, \n",
    "    'eval_metric': 'aucpr'\n",
    "    #eval_metric= 'aucpr'\n",
    "    }\n"
   ]
  },
  {
   "cell_type": "code",
   "execution_count": 58,
   "id": "aa0750ce",
   "metadata": {
    "execution": {
     "iopub.execute_input": "2022-01-18T00:19:58.809802Z",
     "iopub.status.busy": "2022-01-18T00:19:58.809083Z",
     "iopub.status.idle": "2022-01-18T00:19:58.820940Z",
     "shell.execute_reply": "2022-01-18T00:19:58.821454Z",
     "shell.execute_reply.started": "2022-01-17T22:42:14.758292Z"
    },
    "papermill": {
     "duration": 0.155331,
     "end_time": "2022-01-18T00:19:58.821627",
     "exception": false,
     "start_time": "2022-01-18T00:19:58.666296",
     "status": "completed"
    },
    "tags": []
   },
   "outputs": [],
   "source": [
    "high_roc_scores = {}\n",
    "#model_num = 0\n",
    "\n",
    "def objective(space):\n",
    "    #model_num +=1\n",
    "    clf_model=XGBClassifier(**space)\n",
    "    fitted_model=clf_model.fit(X_train, y_train)\n",
    "    pred = fitted_model.predict(X_test)\n",
    "    \n",
    "    tn, fp, fn, tp = metrics.confusion_matrix(y_test, pred).ravel()\n",
    "    accuracy = metrics.accuracy_score(y_test, pred)\n",
    "    precision = metrics.precision_score(y_test, pred)\n",
    "    recall = metrics.recall_score(y_test, pred)\n",
    "    f1 = metrics.f1_score(y_test,pred)\n",
    "    matthew_corrcoef = metrics.matthews_corrcoef(y_test,pred),\n",
    "    roc_auc = metrics.roc_auc_score(y_test,pred)\n",
    "    avg_precision = metrics.average_precision_score(y_test, pred)\n",
    "    \n",
    "    rows = {'model': ' XGBClassifier',\n",
    "        'tp': [tp],\n",
    "        'tn': [tn],\n",
    "        'fp': [fp],\n",
    "        'fn': [fn],\n",
    "        'accuracy': [round(accuracy,3)],\n",
    "        'precision': [round(precision,3)],\n",
    "        'recall':[ round(recall,3)],\n",
    "        'f1': [round(f1,3)],\n",
    "        'matthews_coef': [round(matthew_corrcoef[0],3)],\n",
    "        'roc_auc': [round(roc_auc,3)],\n",
    "        'avg_pre': [round(avg_precision,3)],\n",
    "    }\n",
    "     \n",
    "    score_vals = pd.DataFrame(rows)\n",
    "    print(tabulate(score_vals, headers=score_vals.columns))\n",
    "    print(' ')\n",
    "    if round(roc_auc,3)>0.7:\n",
    "        high_roc_scores['Trial_model_{}'.format(time.time())]= [fitted_model.get_params(), score_vals]\n",
    "        print(' ')\n",
    "        print(fitted_model.get_params())\n",
    "        print(' ')\n",
    "        print(' ')\n",
    "        print(' ')\n",
    "    \n",
    "    return {'loss': -roc_auc, 'status': STATUS_OK }"
   ]
  },
  {
   "cell_type": "code",
   "execution_count": 59,
   "id": "10962332",
   "metadata": {
    "execution": {
     "iopub.execute_input": "2022-01-18T00:19:59.104589Z",
     "iopub.status.busy": "2022-01-18T00:19:59.103933Z",
     "iopub.status.idle": "2022-01-18T00:25:16.369052Z",
     "shell.execute_reply": "2022-01-18T00:25:16.363449Z",
     "shell.execute_reply.started": "2022-01-17T22:42:14.777148Z"
    },
    "papermill": {
     "duration": 317.408362,
     "end_time": "2022-01-18T00:25:16.369251",
     "exception": false,
     "start_time": "2022-01-18T00:19:58.960889",
     "status": "completed"
    },
    "tags": []
   },
   "outputs": [
    {
     "name": "stdout",
     "output_type": "stream",
     "text": [
      "    model            tp    tn    fp    fn    accuracy    precision    recall     f1    matthews_coef    roc_auc    avg_pre\n",
      "--  -------------  ----  ----  ----  ----  ----------  -----------  --------  -----  ---------------  ---------  ---------\n",
      " 0  XGBClassifier     6  3624     0   225       0.942            1     0.026  0.051            0.156      0.513      0.084\n",
      "    model            tp    tn    fp    fn    accuracy    precision    recall     f1    matthews_coef    roc_auc    avg_pre\n",
      "--  -------------  ----  ----  ----  ----  ----------  -----------  --------  -----  ---------------  ---------  ---------\n",
      " 0  XGBClassifier    25  3615     9   206       0.944        0.735     0.108  0.189            0.268      0.553      0.133\n",
      "    model            tp    tn    fp    fn    accuracy    precision    recall     f1    matthews_coef    roc_auc    avg_pre\n",
      "--  -------------  ----  ----  ----  ----  ----------  -----------  --------  -----  ---------------  ---------  ---------\n",
      " 0  XGBClassifier    70  3596    28   161       0.951        0.714     0.303  0.426            0.445      0.648      0.258\n",
      "    model            tp    tn    fp    fn    accuracy    precision    recall     f1    matthews_coef    roc_auc    avg_pre\n",
      "--  -------------  ----  ----  ----  ----  ----------  -----------  --------  -----  ---------------  ---------  ---------\n",
      " 0  XGBClassifier    26  3615     9   205       0.944        0.743     0.113  0.195            0.275      0.555      0.137\n",
      "    model            tp    tn    fp    fn    accuracy    precision    recall     f1    matthews_coef    roc_auc    avg_pre\n",
      "--  -------------  ----  ----  ----  ----  ----------  -----------  --------  -----  ---------------  ---------  ---------\n",
      " 0  XGBClassifier    12  3623     1   219       0.943        0.923     0.052  0.098            0.212      0.526      0.105\n",
      "    model            tp    tn    fp    fn    accuracy    precision    recall     f1    matthews_coef    roc_auc    avg_pre\n",
      "--  -------------  ----  ----  ----  ----  ----------  -----------  --------  -----  ---------------  ---------  ---------\n",
      " 0  XGBClassifier    55  3602    22   176       0.949        0.714     0.238  0.357            0.394      0.616      0.216\n",
      "    model            tp    tn    fp    fn    accuracy    precision    recall    f1    matthews_coef    roc_auc    avg_pre\n",
      "--  -------------  ----  ----  ----  ----  ----------  -----------  --------  ----  ---------------  ---------  ---------\n",
      " 0  XGBClassifier    22  3618     6   209       0.944        0.786     0.095  0.17            0.262      0.547      0.129\n",
      "    model            tp    tn    fp    fn    accuracy    precision    recall     f1    matthews_coef    roc_auc    avg_pre\n",
      "--  -------------  ----  ----  ----  ----  ----------  -----------  --------  -----  ---------------  ---------  ---------\n",
      " 0  XGBClassifier    82  3594    30   149       0.954        0.732     0.355  0.478             0.49      0.673      0.299\n",
      "    model            tp    tn    fp    fn    accuracy    precision    recall     f1    matthews_coef    roc_auc    avg_pre\n",
      "--  -------------  ----  ----  ----  ----  ----------  -----------  --------  -----  ---------------  ---------  ---------\n",
      " 0  XGBClassifier    59  3608    16   172       0.951        0.787     0.255  0.386            0.431      0.625      0.246\n",
      "    model            tp    tn    fp    fn    accuracy    precision    recall     f1    matthews_coef    roc_auc    avg_pre\n",
      "--  -------------  ----  ----  ----  ----  ----------  -----------  --------  -----  ---------------  ---------  ---------\n",
      " 0  XGBClassifier    90  3593    31   141       0.955        0.744      0.39  0.511            0.519      0.691      0.326\n",
      "    model            tp    tn    fp    fn    accuracy    precision    recall     f1    matthews_coef    roc_auc    avg_pre\n",
      "--  -------------  ----  ----  ----  ----  ----------  -----------  --------  -----  ---------------  ---------  ---------\n",
      " 0  XGBClassifier    45  3609    15   186       0.948         0.75     0.195  0.309            0.366      0.595      0.194\n",
      "    model            tp    tn    fp    fn    accuracy    precision    recall     f1    matthews_coef    roc_auc    avg_pre\n",
      "--  -------------  ----  ----  ----  ----  ----------  -----------  --------  -----  ---------------  ---------  ---------\n",
      " 0  XGBClassifier    90  3594    30   141       0.956         0.75      0.39  0.513            0.521      0.691      0.329\n",
      "    model            tp    tn    fp    fn    accuracy    precision    recall    f1    matthews_coef    roc_auc    avg_pre\n",
      "--  -------------  ----  ----  ----  ----  ----------  -----------  --------  ----  ---------------  ---------  ---------\n",
      " 0  XGBClassifier     0  3624     0   231        0.94            0         0     0                0        0.5       0.06\n",
      " 13%|█▎        | 13/100 [00:39<04:54,  3.38s/trial, best loss: -0.6906661219575126]"
     ]
    },
    {
     "name": "stderr",
     "output_type": "stream",
     "text": [
      "/opt/conda/lib/python3.7/site-packages/sklearn/metrics/_classification.py:1221: UndefinedMetricWarning: Precision is ill-defined and being set to 0.0 due to no predicted samples. Use `zero_division` parameter to control this behavior.\n",
      "  _warn_prf(average, modifier, msg_start, len(result))\n",
      "\n",
      "/opt/conda/lib/python3.7/site-packages/sklearn/metrics/_classification.py:846: RuntimeWarning: invalid value encountered in double_scalars\n",
      "  mcc = cov_ytyp / np.sqrt(cov_ytyt * cov_ypyp)\n",
      "\n"
     ]
    },
    {
     "name": "stdout",
     "output_type": "stream",
     "text": [
      "    model            tp    tn    fp    fn    accuracy    precision    recall     f1    matthews_coef    roc_auc    avg_pre\n",
      "--  -------------  ----  ----  ----  ----  ----------  -----------  --------  -----  ---------------  ---------  ---------\n",
      " 0  XGBClassifier    62  3610    14   169       0.953        0.816     0.268  0.404            0.452      0.632      0.263\n",
      "    model            tp    tn    fp    fn    accuracy    precision    recall    f1    matthews_coef    roc_auc    avg_pre\n",
      "--  -------------  ----  ----  ----  ----  ----------  -----------  --------  ----  ---------------  ---------  ---------\n",
      " 0  XGBClassifier     0  3624     0   231        0.94            0         0     0                0        0.5       0.06\n",
      " 15%|█▌        | 15/100 [00:43<03:48,  2.68s/trial, best loss: -0.6906661219575126]"
     ]
    },
    {
     "name": "stderr",
     "output_type": "stream",
     "text": [
      "/opt/conda/lib/python3.7/site-packages/sklearn/metrics/_classification.py:1221: UndefinedMetricWarning: Precision is ill-defined and being set to 0.0 due to no predicted samples. Use `zero_division` parameter to control this behavior.\n",
      "  _warn_prf(average, modifier, msg_start, len(result))\n",
      "\n",
      "/opt/conda/lib/python3.7/site-packages/sklearn/metrics/_classification.py:846: RuntimeWarning: invalid value encountered in double_scalars\n",
      "  mcc = cov_ytyp / np.sqrt(cov_ytyt * cov_ypyp)\n",
      "\n"
     ]
    },
    {
     "name": "stdout",
     "output_type": "stream",
     "text": [
      "    model            tp    tn    fp    fn    accuracy    precision    recall     f1    matthews_coef    roc_auc    avg_pre\n",
      "--  -------------  ----  ----  ----  ----  ----------  -----------  --------  -----  ---------------  ---------  ---------\n",
      " 0  XGBClassifier     6  3624     0   225       0.942            1     0.026  0.051            0.156      0.513      0.084\n",
      "    model            tp    tn    fp    fn    accuracy    precision    recall    f1    matthews_coef    roc_auc    avg_pre\n",
      "--  -------------  ----  ----  ----  ----  ----------  -----------  --------  ----  ---------------  ---------  ---------\n",
      " 0  XGBClassifier     0  3624     0   231        0.94            0         0     0                0        0.5       0.06\n",
      " 17%|█▋        | 17/100 [00:50<04:20,  3.13s/trial, best loss: -0.6906661219575126]"
     ]
    },
    {
     "name": "stderr",
     "output_type": "stream",
     "text": [
      "/opt/conda/lib/python3.7/site-packages/sklearn/metrics/_classification.py:1221: UndefinedMetricWarning: Precision is ill-defined and being set to 0.0 due to no predicted samples. Use `zero_division` parameter to control this behavior.\n",
      "  _warn_prf(average, modifier, msg_start, len(result))\n",
      "\n",
      "/opt/conda/lib/python3.7/site-packages/sklearn/metrics/_classification.py:846: RuntimeWarning: invalid value encountered in double_scalars\n",
      "  mcc = cov_ytyp / np.sqrt(cov_ytyt * cov_ypyp)\n",
      "\n"
     ]
    },
    {
     "name": "stdout",
     "output_type": "stream",
     "text": [
      "    model            tp    tn    fp    fn    accuracy    precision    recall     f1    matthews_coef    roc_auc    avg_pre\n",
      "--  -------------  ----  ----  ----  ----  ----------  -----------  --------  -----  ---------------  ---------  ---------\n",
      " 0  XGBClassifier     5  3624     0   226       0.941            1     0.022  0.042            0.143      0.511       0.08\n",
      "    model            tp    tn    fp    fn    accuracy    precision    recall     f1    matthews_coef    roc_auc    avg_pre\n",
      "--  -------------  ----  ----  ----  ----  ----------  -----------  --------  -----  ---------------  ---------  ---------\n",
      " 0  XGBClassifier     6  3624     0   225       0.942            1     0.026  0.051            0.156      0.513      0.084\n",
      "    model            tp    tn    fp    fn    accuracy    precision    recall     f1    matthews_coef    roc_auc    avg_pre\n",
      "--  -------------  ----  ----  ----  ----  ----------  -----------  --------  -----  ---------------  ---------  ---------\n",
      " 0  XGBClassifier    19  3616     8   212       0.943        0.704     0.082  0.147            0.228       0.54      0.113\n",
      "    model            tp    tn    fp    fn    accuracy    precision    recall     f1    matthews_coef    roc_auc    avg_pre\n",
      "--  -------------  ----  ----  ----  ----  ----------  -----------  --------  -----  ---------------  ---------  ---------\n",
      " 0  XGBClassifier    49  3603    21   182       0.947          0.7     0.212  0.326            0.367      0.603      0.196\n",
      "    model            tp    tn    fp    fn    accuracy    precision    recall    f1    matthews_coef    roc_auc    avg_pre\n",
      "--  -------------  ----  ----  ----  ----  ----------  -----------  --------  ----  ---------------  ---------  ---------\n",
      " 0  XGBClassifier    26  3607    17   205       0.942        0.605     0.113  0.19            0.244      0.554      0.121\n",
      "    model            tp    tn    fp    fn    accuracy    precision    recall     f1    matthews_coef    roc_auc    avg_pre\n",
      "--  -------------  ----  ----  ----  ----  ----------  -----------  --------  -----  ---------------  ---------  ---------\n",
      " 0  XGBClassifier   102  3598    26   129        0.96        0.797     0.442  0.568            0.575      0.717      0.385\n",
      "{'objective': 'binary:logistic', 'use_label_encoder': False, 'base_score': 0.5, 'booster': 'gbtree', 'colsample_bylevel': 1, 'colsample_bynode': 1, 'colsample_bytree': 1, 'enable_categorical': False, 'gamma': 0.0942164121471718, 'gpu_id': -1, 'importance_type': None, 'interaction_constraints': '', 'learning_rate': 0.300000012, 'max_delta_step': 0, 'max_depth': 11, 'min_child_weight': 2, 'missing': nan, 'monotone_constraints': '()', 'n_estimators': 131, 'n_jobs': 4, 'num_parallel_tree': 1, 'predictor': 'auto', 'random_state': 0, 'reg_alpha': 0, 'reg_lambda': 6, 'scale_pos_weight': 1, 'subsample': 1, 'tree_method': 'exact', 'validate_parameters': 1, 'verbosity': None, 'eval_metric': 'aucpr'}\n",
      "    model            tp    tn    fp    fn    accuracy    precision    recall     f1    matthews_coef    roc_auc    avg_pre\n",
      "--  -------------  ----  ----  ----  ----  ----------  -----------  --------  -----  ---------------  ---------  ---------\n",
      " 0  XGBClassifier    92  3589    35   139       0.955        0.724     0.398  0.514            0.517      0.694      0.325\n",
      "    model            tp    tn    fp    fn    accuracy    precision    recall     f1    matthews_coef    roc_auc    avg_pre\n",
      "--  -------------  ----  ----  ----  ----  ----------  -----------  --------  -----  ---------------  ---------  ---------\n",
      " 0  XGBClassifier    81  3601    23   150       0.955        0.779     0.351  0.484            0.504      0.672      0.312\n",
      "    model            tp    tn    fp    fn    accuracy    precision    recall     f1    matthews_coef    roc_auc    avg_pre\n",
      "--  -------------  ----  ----  ----  ----  ----------  -----------  --------  -----  ---------------  ---------  ---------\n",
      " 0  XGBClassifier    49  3603    21   182       0.947          0.7     0.212  0.326            0.367      0.603      0.196\n",
      "    model            tp    tn    fp    fn    accuracy    precision    recall     f1    matthews_coef    roc_auc    avg_pre\n",
      "--  -------------  ----  ----  ----  ----  ----------  -----------  --------  -----  ---------------  ---------  ---------\n",
      " 0  XGBClassifier    57  3606    18   174        0.95         0.76     0.247  0.373            0.415      0.621      0.233\n",
      "    model            tp    tn    fp    fn    accuracy    precision    recall     f1    matthews_coef    roc_auc    avg_pre\n",
      "--  -------------  ----  ----  ----  ----  ----------  -----------  --------  -----  ---------------  ---------  ---------\n",
      " 0  XGBClassifier    83  3589    35   148       0.953        0.703     0.359  0.476            0.482      0.675      0.291\n",
      "    model            tp    tn    fp    fn    accuracy    precision    recall     f1    matthews_coef    roc_auc    avg_pre\n",
      "--  -------------  ----  ----  ----  ----  ----------  -----------  --------  -----  ---------------  ---------  ---------\n",
      " 0  XGBClassifier    57  3605    19   174        0.95         0.75     0.247  0.371            0.412      0.621       0.23\n",
      "    model            tp    tn    fp    fn    accuracy    precision    recall    f1    matthews_coef    roc_auc    avg_pre\n",
      "--  -------------  ----  ----  ----  ----  ----------  -----------  --------  ----  ---------------  ---------  ---------\n",
      " 0  XGBClassifier     6  3622     2   225       0.941         0.75     0.026  0.05            0.133      0.513      0.078\n",
      "    model            tp    tn    fp    fn    accuracy    precision    recall    f1    matthews_coef    roc_auc    avg_pre\n",
      "--  -------------  ----  ----  ----  ----  ----------  -----------  --------  ----  ---------------  ---------  ---------\n",
      " 0  XGBClassifier    67  3595    29   164        0.95        0.698      0.29  0.41             0.43      0.641      0.245\n",
      "    model            tp    tn    fp    fn    accuracy    precision    recall     f1    matthews_coef    roc_auc    avg_pre\n",
      "--  -------------  ----  ----  ----  ----  ----------  -----------  --------  -----  ---------------  ---------  ---------\n",
      " 0  XGBClassifier    82  3601    23   149       0.955        0.781     0.355  0.488            0.508      0.674      0.316\n",
      "    model            tp    tn    fp    fn    accuracy    precision    recall     f1    matthews_coef    roc_auc    avg_pre\n",
      "--  -------------  ----  ----  ----  ----  ----------  -----------  --------  -----  ---------------  ---------  ---------\n",
      " 0  XGBClassifier    54  3605    19   177       0.949         0.74     0.234  0.355            0.398      0.614      0.219\n",
      "    model            tp    tn    fp    fn    accuracy    precision    recall     f1    matthews_coef    roc_auc    avg_pre\n",
      "--  -------------  ----  ----  ----  ----  ----------  -----------  --------  -----  ---------------  ---------  ---------\n",
      " 0  XGBClassifier     7  3624     0   224       0.942            1      0.03  0.059            0.169      0.515      0.088\n",
      "    model            tp    tn    fp    fn    accuracy    precision    recall     f1    matthews_coef    roc_auc    avg_pre\n",
      "--  -------------  ----  ----  ----  ----  ----------  -----------  --------  -----  ---------------  ---------  ---------\n",
      " 0  XGBClassifier    75  3599    25   156       0.953         0.75     0.325  0.453            0.474      0.659      0.284\n",
      "    model            tp    tn    fp    fn    accuracy    precision    recall     f1    matthews_coef    roc_auc    avg_pre\n",
      "--  -------------  ----  ----  ----  ----  ----------  -----------  --------  -----  ---------------  ---------  ---------\n",
      " 0  XGBClassifier    89  3599    25   142       0.957        0.781     0.385  0.516             0.53      0.689      0.338\n",
      "    model            tp    tn    fp    fn    accuracy    precision    recall     f1    matthews_coef    roc_auc    avg_pre\n",
      "--  -------------  ----  ----  ----  ----  ----------  -----------  --------  -----  ---------------  ---------  ---------\n",
      " 0  XGBClassifier     6  3624     0   225       0.942            1     0.026  0.051            0.156      0.513      0.084\n",
      "    model            tp    tn    fp    fn    accuracy    precision    recall    f1    matthews_coef    roc_auc    avg_pre\n",
      "--  -------------  ----  ----  ----  ----  ----------  -----------  --------  ----  ---------------  ---------  ---------\n",
      " 0  XGBClassifier    15  3621     3   216       0.943        0.833     0.065  0.12            0.223      0.532       0.11\n",
      "    model            tp    tn    fp    fn    accuracy    precision    recall     f1    matthews_coef    roc_auc    avg_pre\n",
      "--  -------------  ----  ----  ----  ----  ----------  -----------  --------  -----  ---------------  ---------  ---------\n",
      " 0  XGBClassifier    31  3611    13   200       0.945        0.705     0.134  0.225            0.292      0.565      0.146\n",
      "    model            tp    tn    fp    fn    accuracy    precision    recall    f1    matthews_coef    roc_auc    avg_pre\n",
      "--  -------------  ----  ----  ----  ----  ----------  -----------  --------  ----  ---------------  ---------  ---------\n",
      " 0  XGBClassifier    67  3595    29   164        0.95        0.698      0.29  0.41             0.43      0.641      0.245\n",
      "    model            tp    tn    fp    fn    accuracy    precision    recall     f1    matthews_coef    roc_auc    avg_pre\n",
      "--  -------------  ----  ----  ----  ----  ----------  -----------  --------  -----  ---------------  ---------  ---------\n",
      " 0  XGBClassifier    24  3616     8   207       0.944         0.75     0.104  0.183            0.266      0.551      0.132\n",
      "    model            tp    tn    fp    fn    accuracy    precision    recall     f1    matthews_coef    roc_auc    avg_pre\n",
      "--  -------------  ----  ----  ----  ----  ----------  -----------  --------  -----  ---------------  ---------  ---------\n",
      " 0  XGBClassifier    73  3602    22   158       0.953        0.768     0.316  0.448            0.474      0.655      0.284\n",
      "    model            tp    tn    fp    fn    accuracy    precision    recall     f1    matthews_coef    roc_auc    avg_pre\n",
      "--  -------------  ----  ----  ----  ----  ----------  -----------  --------  -----  ---------------  ---------  ---------\n",
      " 0  XGBClassifier    34  3613    11   197       0.946        0.756     0.147  0.246            0.319      0.572      0.162\n",
      "    model            tp    tn    fp    fn    accuracy    precision    recall     f1    matthews_coef    roc_auc    avg_pre\n",
      "--  -------------  ----  ----  ----  ----  ----------  -----------  --------  -----  ---------------  ---------  ---------\n",
      " 0  XGBClassifier     7  3624     0   224       0.942            1      0.03  0.059            0.169      0.515      0.088\n",
      "    model            tp    tn    fp    fn    accuracy    precision    recall    f1    matthews_coef    roc_auc    avg_pre\n",
      "--  -------------  ----  ----  ----  ----  ----------  -----------  --------  ----  ---------------  ---------  ---------\n",
      " 0  XGBClassifier     0  3624     0   231        0.94            0         0     0                0        0.5       0.06\n",
      " 45%|████▌     | 45/100 [02:19<03:01,  3.31s/trial, best loss: -0.7171920243112295]"
     ]
    },
    {
     "name": "stderr",
     "output_type": "stream",
     "text": [
      "/opt/conda/lib/python3.7/site-packages/sklearn/metrics/_classification.py:1221: UndefinedMetricWarning: Precision is ill-defined and being set to 0.0 due to no predicted samples. Use `zero_division` parameter to control this behavior.\n",
      "  _warn_prf(average, modifier, msg_start, len(result))\n",
      "\n",
      "/opt/conda/lib/python3.7/site-packages/sklearn/metrics/_classification.py:846: RuntimeWarning: invalid value encountered in double_scalars\n",
      "  mcc = cov_ytyp / np.sqrt(cov_ytyt * cov_ypyp)\n",
      "\n"
     ]
    },
    {
     "name": "stdout",
     "output_type": "stream",
     "text": [
      "    model            tp    tn    fp    fn    accuracy    precision    recall    f1    matthews_coef    roc_auc    avg_pre\n",
      "--  -------------  ----  ----  ----  ----  ----------  -----------  --------  ----  ---------------  ---------  ---------\n",
      " 0  XGBClassifier     6  3623     1   225       0.941        0.857     0.026  0.05            0.143      0.513      0.081\n",
      "    model            tp    tn    fp    fn    accuracy    precision    recall     f1    matthews_coef    roc_auc    avg_pre\n",
      "--  -------------  ----  ----  ----  ----  ----------  -----------  --------  -----  ---------------  ---------  ---------\n",
      " 0  XGBClassifier    32  3616     8   199       0.946          0.8     0.139  0.236            0.319      0.568      0.162\n",
      "    model            tp    tn    fp    fn    accuracy    precision    recall     f1    matthews_coef    roc_auc    avg_pre\n",
      "--  -------------  ----  ----  ----  ----  ----------  -----------  --------  -----  ---------------  ---------  ---------\n",
      " 0  XGBClassifier    82  3593    31   149       0.953        0.726     0.355  0.477            0.487      0.673      0.296\n",
      "    model            tp    tn    fp    fn    accuracy    precision    recall     f1    matthews_coef    roc_auc    avg_pre\n",
      "--  -------------  ----  ----  ----  ----  ----------  -----------  --------  -----  ---------------  ---------  ---------\n",
      " 0  XGBClassifier    72  3594    30   159       0.951        0.706     0.312  0.432            0.449      0.652      0.261\n",
      "    model            tp    tn    fp    fn    accuracy    precision    recall     f1    matthews_coef    roc_auc    avg_pre\n",
      "--  -------------  ----  ----  ----  ----  ----------  -----------  --------  -----  ---------------  ---------  ---------\n",
      " 0  XGBClassifier    18  3619     5   213       0.943        0.783     0.078  0.142            0.236      0.538      0.116\n",
      "    model            tp    tn    fp    fn    accuracy    precision    recall     f1    matthews_coef    roc_auc    avg_pre\n",
      "--  -------------  ----  ----  ----  ----  ----------  -----------  --------  -----  ---------------  ---------  ---------\n",
      " 0  XGBClassifier     2  3624     0   229       0.941            1     0.009  0.017             0.09      0.504      0.068\n",
      "    model            tp    tn    fp    fn    accuracy    precision    recall     f1    matthews_coef    roc_auc    avg_pre\n",
      "--  -------------  ----  ----  ----  ----  ----------  -----------  --------  -----  ---------------  ---------  ---------\n",
      " 0  XGBClassifier    10  3623     1   221       0.942        0.909     0.043  0.083            0.191      0.522      0.097\n",
      "    model            tp    tn    fp    fn    accuracy    precision    recall     f1    matthews_coef    roc_auc    avg_pre\n",
      "--  -------------  ----  ----  ----  ----  ----------  -----------  --------  -----  ---------------  ---------  ---------\n",
      " 0  XGBClassifier    49  3599    25   182       0.946        0.662     0.212  0.321            0.355      0.603      0.188\n",
      "    model            tp    tn    fp    fn    accuracy    precision    recall     f1    matthews_coef    roc_auc    avg_pre\n",
      "--  -------------  ----  ----  ----  ----  ----------  -----------  --------  -----  ---------------  ---------  ---------\n",
      " 0  XGBClassifier     6  3624     0   225       0.942            1     0.026  0.051            0.156      0.513      0.084\n",
      "    model            tp    tn    fp    fn    accuracy    precision    recall     f1    matthews_coef    roc_auc    avg_pre\n",
      "--  -------------  ----  ----  ----  ----  ----------  -----------  --------  -----  ---------------  ---------  ---------\n",
      " 0  XGBClassifier     6  3624     0   225       0.942            1     0.026  0.051            0.156      0.513      0.084\n",
      "    model            tp    tn    fp    fn    accuracy    precision    recall     f1    matthews_coef    roc_auc    avg_pre\n",
      "--  -------------  ----  ----  ----  ----  ----------  -----------  --------  -----  ---------------  ---------  ---------\n",
      " 0  XGBClassifier    58  3610    14   173       0.951        0.806     0.251  0.383            0.433      0.624      0.247\n",
      "    model            tp    tn    fp    fn    accuracy    precision    recall     f1    matthews_coef    roc_auc    avg_pre\n",
      "--  -------------  ----  ----  ----  ----  ----------  -----------  --------  -----  ---------------  ---------  ---------\n",
      " 0  XGBClassifier     9  3623     1   222       0.942          0.9     0.039  0.075            0.181      0.519      0.093\n",
      "    model            tp    tn    fp    fn    accuracy    precision    recall     f1    matthews_coef    roc_auc    avg_pre\n",
      "--  -------------  ----  ----  ----  ----  ----------  -----------  --------  -----  ---------------  ---------  ---------\n",
      " 0  XGBClassifier     6  3624     0   225       0.942            1     0.026  0.051            0.156      0.513      0.084\n",
      "    model            tp    tn    fp    fn    accuracy    precision    recall     f1    matthews_coef    roc_auc    avg_pre\n",
      "--  -------------  ----  ----  ----  ----  ----------  -----------  --------  -----  ---------------  ---------  ---------\n",
      " 0  XGBClassifier    89  3589    35   142       0.954        0.718     0.385  0.501            0.505      0.688      0.313\n",
      "    model            tp    tn    fp    fn    accuracy    precision    recall     f1    matthews_coef    roc_auc    avg_pre\n",
      "--  -------------  ----  ----  ----  ----  ----------  -----------  --------  -----  ---------------  ---------  ---------\n",
      " 0  XGBClassifier     9  3622     2   222       0.942        0.818     0.039  0.074            0.171      0.519      0.089\n",
      "    model            tp    tn    fp    fn    accuracy    precision    recall     f1    matthews_coef    roc_auc    avg_pre\n",
      "--  -------------  ----  ----  ----  ----  ----------  -----------  --------  -----  ---------------  ---------  ---------\n",
      " 0  XGBClassifier    46  3612    12   185       0.949        0.793     0.199  0.318            0.382      0.598      0.206\n",
      "    model            tp    tn    fp    fn    accuracy    precision    recall     f1    matthews_coef    roc_auc    avg_pre\n",
      "--  -------------  ----  ----  ----  ----  ----------  -----------  --------  -----  ---------------  ---------  ---------\n",
      " 0  XGBClassifier     6  3624     0   225       0.942            1     0.026  0.051            0.156      0.513      0.084\n",
      "    model            tp    tn    fp    fn    accuracy    precision    recall     f1    matthews_coef    roc_auc    avg_pre\n",
      "--  -------------  ----  ----  ----  ----  ----------  -----------  --------  -----  ---------------  ---------  ---------\n",
      " 0  XGBClassifier     9  3623     1   222       0.942          0.9     0.039  0.075            0.181      0.519      0.093\n",
      "    model            tp    tn    fp    fn    accuracy    precision    recall     f1    matthews_coef    roc_auc    avg_pre\n",
      "--  -------------  ----  ----  ----  ----  ----------  -----------  --------  -----  ---------------  ---------  ---------\n",
      " 0  XGBClassifier   102  3591    33   129       0.958        0.756     0.442  0.557            0.558      0.716      0.367\n",
      "{'objective': 'binary:logistic', 'use_label_encoder': False, 'base_score': 0.5, 'booster': 'gbtree', 'colsample_bylevel': 1, 'colsample_bynode': 1, 'colsample_bytree': 1, 'enable_categorical': False, 'gamma': 0.30865930509240747, 'gpu_id': -1, 'importance_type': None, 'interaction_constraints': '', 'learning_rate': 0.300000012, 'max_delta_step': 0, 'max_depth': 11, 'min_child_weight': 2, 'missing': nan, 'monotone_constraints': '()', 'n_estimators': 181, 'n_jobs': 4, 'num_parallel_tree': 1, 'predictor': 'auto', 'random_state': 0, 'reg_alpha': 0, 'reg_lambda': 6, 'scale_pos_weight': 1, 'subsample': 1, 'tree_method': 'exact', 'validate_parameters': 1, 'verbosity': None, 'eval_metric': 'aucpr'}\n",
      "    model            tp    tn    fp    fn    accuracy    precision    recall     f1    matthews_coef    roc_auc    avg_pre\n",
      "--  -------------  ----  ----  ----  ----  ----------  -----------  --------  -----  ---------------  ---------  ---------\n",
      " 0  XGBClassifier    73  3593    31   158       0.951        0.702     0.316  0.436             0.45      0.654      0.263\n",
      "    model            tp    tn    fp    fn    accuracy    precision    recall     f1    matthews_coef    roc_auc    avg_pre\n",
      "--  -------------  ----  ----  ----  ----  ----------  -----------  --------  -----  ---------------  ---------  ---------\n",
      " 0  XGBClassifier    96  3586    38   135       0.955        0.716     0.416  0.526            0.525      0.703      0.333\n",
      "{'objective': 'binary:logistic', 'use_label_encoder': False, 'base_score': 0.5, 'booster': 'gbtree', 'colsample_bylevel': 1, 'colsample_bynode': 1, 'colsample_bytree': 1, 'enable_categorical': False, 'gamma': 2.0343381856427127, 'gpu_id': -1, 'importance_type': None, 'interaction_constraints': '', 'learning_rate': 0.300000012, 'max_delta_step': 0, 'max_depth': 11, 'min_child_weight': 2, 'missing': nan, 'monotone_constraints': '()', 'n_estimators': 148, 'n_jobs': 4, 'num_parallel_tree': 1, 'predictor': 'auto', 'random_state': 0, 'reg_alpha': 0, 'reg_lambda': 6, 'scale_pos_weight': 1, 'subsample': 1, 'tree_method': 'exact', 'validate_parameters': 1, 'verbosity': None, 'eval_metric': 'aucpr'}\n",
      "    model            tp    tn    fp    fn    accuracy    precision    recall     f1    matthews_coef    roc_auc    avg_pre\n",
      "--  -------------  ----  ----  ----  ----  ----------  -----------  --------  -----  ---------------  ---------  ---------\n",
      " 0  XGBClassifier    94  3589    35   137       0.955        0.729     0.407  0.522            0.524      0.699      0.332\n",
      "    model            tp    tn    fp    fn    accuracy    precision    recall     f1    matthews_coef    roc_auc    avg_pre\n",
      "--  -------------  ----  ----  ----  ----  ----------  -----------  --------  -----  ---------------  ---------  ---------\n",
      " 0  XGBClassifier    98  3592    32   133       0.957        0.754     0.424  0.543            0.546      0.708      0.354\n",
      "{'objective': 'binary:logistic', 'use_label_encoder': False, 'base_score': 0.5, 'booster': 'gbtree', 'colsample_bylevel': 1, 'colsample_bynode': 1, 'colsample_bytree': 1, 'enable_categorical': False, 'gamma': 1.1637538875379132, 'gpu_id': -1, 'importance_type': None, 'interaction_constraints': '', 'learning_rate': 0.300000012, 'max_delta_step': 0, 'max_depth': 11, 'min_child_weight': 2, 'missing': nan, 'monotone_constraints': '()', 'n_estimators': 189, 'n_jobs': 4, 'num_parallel_tree': 1, 'predictor': 'auto', 'random_state': 0, 'reg_alpha': 0, 'reg_lambda': 6, 'scale_pos_weight': 1, 'subsample': 1, 'tree_method': 'exact', 'validate_parameters': 1, 'verbosity': None, 'eval_metric': 'aucpr'}\n",
      "    model            tp    tn    fp    fn    accuracy    precision    recall     f1    matthews_coef    roc_auc    avg_pre\n",
      "--  -------------  ----  ----  ----  ----  ----------  -----------  --------  -----  ---------------  ---------  ---------\n",
      " 0  XGBClassifier    97  3589    35   134       0.956        0.735      0.42  0.534            0.535      0.705      0.343\n",
      "{'objective': 'binary:logistic', 'use_label_encoder': False, 'base_score': 0.5, 'booster': 'gbtree', 'colsample_bylevel': 1, 'colsample_bynode': 1, 'colsample_bytree': 1, 'enable_categorical': False, 'gamma': 1.1542358134672155, 'gpu_id': -1, 'importance_type': None, 'interaction_constraints': '', 'learning_rate': 0.300000012, 'max_delta_step': 0, 'max_depth': 11, 'min_child_weight': 2, 'missing': nan, 'monotone_constraints': '()', 'n_estimators': 70, 'n_jobs': 4, 'num_parallel_tree': 1, 'predictor': 'auto', 'random_state': 0, 'reg_alpha': 0, 'reg_lambda': 6, 'scale_pos_weight': 1, 'subsample': 1, 'tree_method': 'exact', 'validate_parameters': 1, 'verbosity': None, 'eval_metric': 'aucpr'}\n",
      "    model            tp    tn    fp    fn    accuracy    precision    recall     f1    matthews_coef    roc_auc    avg_pre\n",
      "--  -------------  ----  ----  ----  ----  ----------  -----------  --------  -----  ---------------  ---------  ---------\n",
      " 0  XGBClassifier    96  3593    31   135       0.957        0.756     0.416  0.536            0.541      0.704      0.349\n",
      "{'objective': 'binary:logistic', 'use_label_encoder': False, 'base_score': 0.5, 'booster': 'gbtree', 'colsample_bylevel': 1, 'colsample_bynode': 1, 'colsample_bytree': 1, 'enable_categorical': False, 'gamma': 0.689987071512665, 'gpu_id': -1, 'importance_type': None, 'interaction_constraints': '', 'learning_rate': 0.300000012, 'max_delta_step': 0, 'max_depth': 11, 'min_child_weight': 2, 'missing': nan, 'monotone_constraints': '()', 'n_estimators': 181, 'n_jobs': 4, 'num_parallel_tree': 1, 'predictor': 'auto', 'random_state': 0, 'reg_alpha': 0, 'reg_lambda': 6, 'scale_pos_weight': 1, 'subsample': 1, 'tree_method': 'exact', 'validate_parameters': 1, 'verbosity': None, 'eval_metric': 'aucpr'}\n",
      "    model            tp    tn    fp    fn    accuracy    precision    recall     f1    matthews_coef    roc_auc    avg_pre\n",
      "--  -------------  ----  ----  ----  ----  ----------  -----------  --------  -----  ---------------  ---------  ---------\n",
      " 0  XGBClassifier    96  3595    29   135       0.957        0.768     0.416  0.539            0.546      0.704      0.354\n",
      "{'objective': 'binary:logistic', 'use_label_encoder': False, 'base_score': 0.5, 'booster': 'gbtree', 'colsample_bylevel': 1, 'colsample_bynode': 1, 'colsample_bytree': 1, 'enable_categorical': False, 'gamma': 0.19903105117620157, 'gpu_id': -1, 'importance_type': None, 'interaction_constraints': '', 'learning_rate': 0.300000012, 'max_delta_step': 0, 'max_depth': 9, 'min_child_weight': 2, 'missing': nan, 'monotone_constraints': '()', 'n_estimators': 189, 'n_jobs': 4, 'num_parallel_tree': 1, 'predictor': 'auto', 'random_state': 0, 'reg_alpha': 2, 'reg_lambda': 6, 'scale_pos_weight': 1, 'subsample': 1, 'tree_method': 'exact', 'validate_parameters': 1, 'verbosity': None, 'eval_metric': 'aucpr'}\n",
      "    model            tp    tn    fp    fn    accuracy    precision    recall     f1    matthews_coef    roc_auc    avg_pre\n",
      "--  -------------  ----  ----  ----  ----  ----------  -----------  --------  -----  ---------------  ---------  ---------\n",
      " 0  XGBClassifier    95  3593    31   136       0.957        0.754     0.411  0.532            0.538      0.701      0.345\n",
      "{'objective': 'binary:logistic', 'use_label_encoder': False, 'base_score': 0.5, 'booster': 'gbtree', 'colsample_bylevel': 1, 'colsample_bynode': 1, 'colsample_bytree': 1, 'enable_categorical': False, 'gamma': 1.7454988673420573, 'gpu_id': -1, 'importance_type': None, 'interaction_constraints': '', 'learning_rate': 0.300000012, 'max_delta_step': 0, 'max_depth': 11, 'min_child_weight': 2, 'missing': nan, 'monotone_constraints': '()', 'n_estimators': 134, 'n_jobs': 4, 'num_parallel_tree': 1, 'predictor': 'auto', 'random_state': 0, 'reg_alpha': 0, 'reg_lambda': 6, 'scale_pos_weight': 1, 'subsample': 1, 'tree_method': 'exact', 'validate_parameters': 1, 'verbosity': None, 'eval_metric': 'aucpr'}\n",
      "    model            tp    tn    fp    fn    accuracy    precision    recall     f1    matthews_coef    roc_auc    avg_pre\n",
      "--  -------------  ----  ----  ----  ----  ----------  -----------  --------  -----  ---------------  ---------  ---------\n",
      " 0  XGBClassifier    13  3622     2   218       0.943        0.867     0.056  0.106            0.212      0.528      0.105\n",
      "    model            tp    tn    fp    fn    accuracy    precision    recall     f1    matthews_coef    roc_auc    avg_pre\n",
      "--  -------------  ----  ----  ----  ----  ----------  -----------  --------  -----  ---------------  ---------  ---------\n",
      " 0  XGBClassifier    50  3601    23   181       0.947        0.685     0.216  0.329            0.366      0.605      0.195\n",
      "    model            tp    tn    fp    fn    accuracy    precision    recall     f1    matthews_coef    roc_auc    avg_pre\n",
      "--  -------------  ----  ----  ----  ----  ----------  -----------  --------  -----  ---------------  ---------  ---------\n",
      " 0  XGBClassifier    36  3609    15   195       0.946        0.706     0.156  0.255            0.315      0.576      0.161\n",
      "    model            tp    tn    fp    fn    accuracy    precision    recall     f1    matthews_coef    roc_auc    avg_pre\n",
      "--  -------------  ----  ----  ----  ----  ----------  -----------  --------  -----  ---------------  ---------  ---------\n",
      " 0  XGBClassifier    39  3613    11   192       0.947         0.78     0.169  0.278            0.348      0.583      0.181\n",
      "    model            tp    tn    fp    fn    accuracy    precision    recall     f1    matthews_coef    roc_auc    avg_pre\n",
      "--  -------------  ----  ----  ----  ----  ----------  -----------  --------  -----  ---------------  ---------  ---------\n",
      " 0  XGBClassifier    91  3587    37   140       0.954        0.711     0.394  0.507            0.508      0.692      0.316\n",
      "    model            tp    tn    fp    fn    accuracy    precision    recall     f1    matthews_coef    roc_auc    avg_pre\n",
      "--  -------------  ----  ----  ----  ----  ----------  -----------  --------  -----  ---------------  ---------  ---------\n",
      " 0  XGBClassifier     6  3624     0   225       0.942            1     0.026  0.051            0.156      0.513      0.084\n",
      "    model            tp    tn    fp    fn    accuracy    precision    recall     f1    matthews_coef    roc_auc    avg_pre\n",
      "--  -------------  ----  ----  ----  ----  ----------  -----------  --------  -----  ---------------  ---------  ---------\n",
      " 0  XGBClassifier    95  3591    33   136       0.956        0.742     0.411  0.529            0.533      0.701      0.341\n",
      "{'objective': 'binary:logistic', 'use_label_encoder': False, 'base_score': 0.5, 'booster': 'gbtree', 'colsample_bylevel': 1, 'colsample_bynode': 1, 'colsample_bytree': 1, 'enable_categorical': False, 'gamma': 1.4766586408084073, 'gpu_id': -1, 'importance_type': None, 'interaction_constraints': '', 'learning_rate': 0.300000012, 'max_delta_step': 0, 'max_depth': 11, 'min_child_weight': 2, 'missing': nan, 'monotone_constraints': '()', 'n_estimators': 129, 'n_jobs': 4, 'num_parallel_tree': 1, 'predictor': 'auto', 'random_state': 0, 'reg_alpha': 1, 'reg_lambda': 6, 'scale_pos_weight': 1, 'subsample': 1, 'tree_method': 'exact', 'validate_parameters': 1, 'verbosity': None, 'eval_metric': 'aucpr'}\n",
      "    model            tp    tn    fp    fn    accuracy    precision    recall     f1    matthews_coef    roc_auc    avg_pre\n",
      "--  -------------  ----  ----  ----  ----  ----------  -----------  --------  -----  ---------------  ---------  ---------\n",
      " 0  XGBClassifier    83  3590    34   148       0.953        0.709     0.359  0.477            0.484      0.675      0.293\n",
      "    model            tp    tn    fp    fn    accuracy    precision    recall     f1    matthews_coef    roc_auc    avg_pre\n",
      "--  -------------  ----  ----  ----  ----  ----------  -----------  --------  -----  ---------------  ---------  ---------\n",
      " 0  XGBClassifier    82  3599    25   149       0.955        0.766     0.355  0.485            0.503      0.674      0.311\n",
      "    model            tp    tn    fp    fn    accuracy    precision    recall    f1    matthews_coef    roc_auc    avg_pre\n",
      "--  -------------  ----  ----  ----  ----  ----------  -----------  --------  ----  ---------------  ---------  ---------\n",
      " 0  XGBClassifier     0  3624     0   231        0.94            0         0     0                0        0.5       0.06\n",
      " 82%|████████▏ | 82/100 [04:22<01:00,  3.38s/trial, best loss: -0.7171920243112295]"
     ]
    },
    {
     "name": "stderr",
     "output_type": "stream",
     "text": [
      "/opt/conda/lib/python3.7/site-packages/sklearn/metrics/_classification.py:1221: UndefinedMetricWarning: Precision is ill-defined and being set to 0.0 due to no predicted samples. Use `zero_division` parameter to control this behavior.\n",
      "  _warn_prf(average, modifier, msg_start, len(result))\n",
      "\n",
      "/opt/conda/lib/python3.7/site-packages/sklearn/metrics/_classification.py:846: RuntimeWarning: invalid value encountered in double_scalars\n",
      "  mcc = cov_ytyp / np.sqrt(cov_ytyt * cov_ypyp)\n",
      "\n"
     ]
    },
    {
     "name": "stdout",
     "output_type": "stream",
     "text": [
      "    model            tp    tn    fp    fn    accuracy    precision    recall     f1    matthews_coef    roc_auc    avg_pre\n",
      "--  -------------  ----  ----  ----  ----  ----------  -----------  --------  -----  ---------------  ---------  ---------\n",
      " 0  XGBClassifier     7  3623     1   224       0.942        0.875      0.03  0.059            0.157      0.515      0.085\n",
      "    model            tp    tn    fp    fn    accuracy    precision    recall     f1    matthews_coef    roc_auc    avg_pre\n",
      "--  -------------  ----  ----  ----  ----  ----------  -----------  --------  -----  ---------------  ---------  ---------\n",
      " 0  XGBClassifier    17  3620     4   214       0.943         0.81     0.074  0.135            0.234      0.536      0.115\n",
      "    model            tp    tn    fp    fn    accuracy    precision    recall     f1    matthews_coef    roc_auc    avg_pre\n",
      "--  -------------  ----  ----  ----  ----  ----------  -----------  --------  -----  ---------------  ---------  ---------\n",
      " 0  XGBClassifier    50  3610    14   181       0.949        0.781     0.216  0.339            0.395      0.606      0.216\n",
      "    model            tp    tn    fp    fn    accuracy    precision    recall     f1    matthews_coef    roc_auc    avg_pre\n",
      "--  -------------  ----  ----  ----  ----  ----------  -----------  --------  -----  ---------------  ---------  ---------\n",
      " 0  XGBClassifier    34  3611    13   197       0.946        0.723     0.147  0.245            0.311      0.572      0.158\n",
      "    model            tp    tn    fp    fn    accuracy    precision    recall     f1    matthews_coef    roc_auc    avg_pre\n",
      "--  -------------  ----  ----  ----  ----  ----------  -----------  --------  -----  ---------------  ---------  ---------\n",
      " 0  XGBClassifier    17  3617     7   214       0.943        0.708     0.074  0.133            0.216      0.536      0.108\n",
      "    model            tp    tn    fp    fn    accuracy    precision    recall     f1    matthews_coef    roc_auc    avg_pre\n",
      "--  -------------  ----  ----  ----  ----  ----------  -----------  --------  -----  ---------------  ---------  ---------\n",
      " 0  XGBClassifier    96  3588    36   135       0.956        0.727     0.416  0.529            0.529      0.703      0.337\n",
      "{'objective': 'binary:logistic', 'use_label_encoder': False, 'base_score': 0.5, 'booster': 'gbtree', 'colsample_bylevel': 1, 'colsample_bynode': 1, 'colsample_bytree': 1, 'enable_categorical': False, 'gamma': 0.7364561330370645, 'gpu_id': -1, 'importance_type': None, 'interaction_constraints': '', 'learning_rate': 0.300000012, 'max_delta_step': 0, 'max_depth': 8, 'min_child_weight': 4, 'missing': nan, 'monotone_constraints': '()', 'n_estimators': 71, 'n_jobs': 4, 'num_parallel_tree': 1, 'predictor': 'auto', 'random_state': 0, 'reg_alpha': 0, 'reg_lambda': 0, 'scale_pos_weight': 1, 'subsample': 1, 'tree_method': 'exact', 'validate_parameters': 1, 'verbosity': None, 'eval_metric': 'aucpr'}\n",
      "    model            tp    tn    fp    fn    accuracy    precision    recall     f1    matthews_coef    roc_auc    avg_pre\n",
      "--  -------------  ----  ----  ----  ----  ----------  -----------  --------  -----  ---------------  ---------  ---------\n",
      " 0  XGBClassifier     6  3624     0   225       0.942            1     0.026  0.051            0.156      0.513      0.084\n",
      "    model            tp    tn    fp    fn    accuracy    precision    recall     f1    matthews_coef    roc_auc    avg_pre\n",
      "--  -------------  ----  ----  ----  ----  ----------  -----------  --------  -----  ---------------  ---------  ---------\n",
      " 0  XGBClassifier    90  3596    28   141       0.956        0.763      0.39  0.516            0.526      0.691      0.334\n",
      "    model            tp    tn    fp    fn    accuracy    precision    recall     f1    matthews_coef    roc_auc    avg_pre\n",
      "--  -------------  ----  ----  ----  ----  ----------  -----------  --------  -----  ---------------  ---------  ---------\n",
      " 0  XGBClassifier    17  3621     3   214       0.944         0.85     0.074  0.135             0.24      0.536      0.118\n",
      "    model            tp    tn    fp    fn    accuracy    precision    recall     f1    matthews_coef    roc_auc    avg_pre\n",
      "--  -------------  ----  ----  ----  ----  ----------  -----------  --------  -----  ---------------  ---------  ---------\n",
      " 0  XGBClassifier    50  3601    23   181       0.947        0.685     0.216  0.329            0.366      0.605      0.195\n",
      "    model            tp    tn    fp    fn    accuracy    precision    recall     f1    matthews_coef    roc_auc    avg_pre\n",
      "--  -------------  ----  ----  ----  ----  ----------  -----------  --------  -----  ---------------  ---------  ---------\n",
      " 0  XGBClassifier     6  3624     0   225       0.942            1     0.026  0.051            0.156      0.513      0.084\n",
      "    model            tp    tn    fp    fn    accuracy    precision    recall     f1    matthews_coef    roc_auc    avg_pre\n",
      "--  -------------  ----  ----  ----  ----  ----------  -----------  --------  -----  ---------------  ---------  ---------\n",
      " 0  XGBClassifier    98  3589    35   133       0.956        0.737     0.424  0.538            0.539      0.707      0.347\n",
      "{'objective': 'binary:logistic', 'use_label_encoder': False, 'base_score': 0.5, 'booster': 'gbtree', 'colsample_bylevel': 1, 'colsample_bynode': 1, 'colsample_bytree': 1, 'enable_categorical': False, 'gamma': 0.4125828097934804, 'gpu_id': -1, 'importance_type': None, 'interaction_constraints': '', 'learning_rate': 0.300000012, 'max_delta_step': 0, 'max_depth': 12, 'min_child_weight': 2, 'missing': nan, 'monotone_constraints': '()', 'n_estimators': 106, 'n_jobs': 4, 'num_parallel_tree': 1, 'predictor': 'auto', 'random_state': 0, 'reg_alpha': 1, 'reg_lambda': 6, 'scale_pos_weight': 1, 'subsample': 1, 'tree_method': 'exact', 'validate_parameters': 1, 'verbosity': None, 'eval_metric': 'aucpr'}\n",
      "    model            tp    tn    fp    fn    accuracy    precision    recall     f1    matthews_coef    roc_auc    avg_pre\n",
      "--  -------------  ----  ----  ----  ----  ----------  -----------  --------  -----  ---------------  ---------  ---------\n",
      " 0  XGBClassifier    62  3601    23   169        0.95        0.729     0.268  0.392            0.424      0.631       0.24\n",
      "    model            tp    tn    fp    fn    accuracy    precision    recall     f1    matthews_coef    roc_auc    avg_pre\n",
      "--  -------------  ----  ----  ----  ----  ----------  -----------  --------  -----  ---------------  ---------  ---------\n",
      " 0  XGBClassifier    40  3610    14   191       0.947        0.741     0.173  0.281            0.342      0.585      0.178\n",
      "    model            tp    tn    fp    fn    accuracy    precision    recall     f1    matthews_coef    roc_auc    avg_pre\n",
      "--  -------------  ----  ----  ----  ----  ----------  -----------  --------  -----  ---------------  ---------  ---------\n",
      " 0  XGBClassifier    15  3623     1   216       0.944        0.938     0.065  0.121            0.239      0.532      0.117\n",
      "    model            tp    tn    fp    fn    accuracy    precision    recall     f1    matthews_coef    roc_auc    avg_pre\n",
      "--  -------------  ----  ----  ----  ----  ----------  -----------  --------  -----  ---------------  ---------  ---------\n",
      " 0  XGBClassifier     6  3624     0   225       0.942            1     0.026  0.051            0.156      0.513      0.084\n",
      "    model            tp    tn    fp    fn    accuracy    precision    recall    f1    matthews_coef    roc_auc    avg_pre\n",
      "--  -------------  ----  ----  ----  ----  ----------  -----------  --------  ----  ---------------  ---------  ---------\n",
      " 0  XGBClassifier     0  3624     0   231        0.94            0         0     0                0        0.5       0.06\n",
      " 99%|█████████▉| 99/100 [05:11<00:02,  2.76s/trial, best loss: -0.7171920243112295]"
     ]
    },
    {
     "name": "stderr",
     "output_type": "stream",
     "text": [
      "/opt/conda/lib/python3.7/site-packages/sklearn/metrics/_classification.py:1221: UndefinedMetricWarning: Precision is ill-defined and being set to 0.0 due to no predicted samples. Use `zero_division` parameter to control this behavior.\n",
      "  _warn_prf(average, modifier, msg_start, len(result))\n",
      "\n",
      "/opt/conda/lib/python3.7/site-packages/sklearn/metrics/_classification.py:846: RuntimeWarning: invalid value encountered in double_scalars\n",
      "  mcc = cov_ytyp / np.sqrt(cov_ytyt * cov_ypyp)\n",
      "\n"
     ]
    },
    {
     "name": "stdout",
     "output_type": "stream",
     "text": [
      "    model            tp    tn    fp    fn    accuracy    precision    recall     f1    matthews_coef    roc_auc    avg_pre\n",
      "--  -------------  ----  ----  ----  ----  ----------  -----------  --------  -----  ---------------  ---------  ---------\n",
      " 0  XGBClassifier     8  3624     0   223       0.942            1     0.035  0.067            0.181      0.517      0.092\n",
      "100%|██████████| 100/100 [05:16<00:00,  3.17s/trial, best loss: -0.7171920243112295]\n"
     ]
    }
   ],
   "source": [
    "trials=Trials()\n",
    "best_hyperparams = fmin(fn = objective,\n",
    "                        space = space,\n",
    "                        algo = tpe.suggest,\n",
    "                        max_evals = 100,\n",
    "                       trials=trials)"
   ]
  },
  {
   "cell_type": "markdown",
   "id": "86c92e68",
   "metadata": {
    "papermill": {
     "duration": 0.280043,
     "end_time": "2022-01-18T00:25:16.926523",
     "exception": false,
     "start_time": "2022-01-18T00:25:16.646480",
     "status": "completed"
    },
    "tags": []
   },
   "source": [
    "During testing I noticed that the method isn't actually pulling the optimal parameters. Or at least what I would judge the optimal parameters to be, based on the output of the function (see below). I have looked that the documentation (http://hyperopt.github.io/hyperopt/) to try and find how to change the metric fmin is judging the best result by, but was unsucceful. So I created the dictionary to store the parameters of all sample runs which had a roc_auc score greater than 0.70 and printed to screen the parameters of those test runs. This would allow for visual verification/ comparision of the \"optimal\" values."
   ]
  },
  {
   "cell_type": "code",
   "execution_count": 60,
   "id": "41276e64",
   "metadata": {
    "execution": {
     "iopub.execute_input": "2022-01-18T00:25:17.536915Z",
     "iopub.status.busy": "2022-01-18T00:25:17.536191Z",
     "iopub.status.idle": "2022-01-18T00:25:17.590938Z",
     "shell.execute_reply": "2022-01-18T00:25:17.590029Z",
     "shell.execute_reply.started": "2022-01-17T22:46:58.704034Z"
    },
    "papermill": {
     "duration": 0.350846,
     "end_time": "2022-01-18T00:25:17.591130",
     "exception": false,
     "start_time": "2022-01-18T00:25:17.240284",
     "status": "completed"
    },
    "tags": []
   },
   "outputs": [
    {
     "name": "stdout",
     "output_type": "stream",
     "text": [
      "The best hyperparameters are :  \n",
      "\n",
      "{'gamma': 0.0942164121471718, 'max_depth': 8, 'min_child_weight': 1, 'n_estimators': 81, 'reg_alpha': 0, 'reg_lambda': 6}\n",
      "Record best are: \n",
      "\n",
      "{'Trial_model_1642465269.0170848': [{'objective': 'binary:logistic', 'use_label_encoder': False, 'base_score': 0.5, 'booster': 'gbtree', 'colsample_bylevel': 1, 'colsample_bynode': 1, 'colsample_bytree': 1, 'enable_categorical': False, 'gamma': 0.0942164121471718, 'gpu_id': -1, 'importance_type': None, 'interaction_constraints': '', 'learning_rate': 0.300000012, 'max_delta_step': 0, 'max_depth': 11, 'min_child_weight': 2, 'missing': nan, 'monotone_constraints': '()', 'n_estimators': 131, 'n_jobs': 4, 'num_parallel_tree': 1, 'predictor': 'auto', 'random_state': 0, 'reg_alpha': 0, 'reg_lambda': 6, 'scale_pos_weight': 1, 'subsample': 1, 'tree_method': 'exact', 'validate_parameters': 1, 'verbosity': None, 'eval_metric': 'aucpr'},             model   tp    tn  fp   fn  accuracy  precision  recall     f1  \\\n",
      "0   XGBClassifier  102  3598  26  129      0.96      0.797   0.442  0.568   \n",
      "\n",
      "   matthews_coef  roc_auc  avg_pre  \n",
      "0          0.575    0.717    0.385  ], 'Trial_model_1642465395.3808904': [{'objective': 'binary:logistic', 'use_label_encoder': False, 'base_score': 0.5, 'booster': 'gbtree', 'colsample_bylevel': 1, 'colsample_bynode': 1, 'colsample_bytree': 1, 'enable_categorical': False, 'gamma': 0.30865930509240747, 'gpu_id': -1, 'importance_type': None, 'interaction_constraints': '', 'learning_rate': 0.300000012, 'max_delta_step': 0, 'max_depth': 11, 'min_child_weight': 2, 'missing': nan, 'monotone_constraints': '()', 'n_estimators': 181, 'n_jobs': 4, 'num_parallel_tree': 1, 'predictor': 'auto', 'random_state': 0, 'reg_alpha': 0, 'reg_lambda': 6, 'scale_pos_weight': 1, 'subsample': 1, 'tree_method': 'exact', 'validate_parameters': 1, 'verbosity': None, 'eval_metric': 'aucpr'},             model   tp    tn  fp   fn  accuracy  precision  recall     f1  \\\n",
      "0   XGBClassifier  102  3591  33  129     0.958      0.756   0.442  0.557   \n",
      "\n",
      "   matthews_coef  roc_auc  avg_pre  \n",
      "0          0.558    0.716    0.367  ], 'Trial_model_1642465401.699146': [{'objective': 'binary:logistic', 'use_label_encoder': False, 'base_score': 0.5, 'booster': 'gbtree', 'colsample_bylevel': 1, 'colsample_bynode': 1, 'colsample_bytree': 1, 'enable_categorical': False, 'gamma': 2.0343381856427127, 'gpu_id': -1, 'importance_type': None, 'interaction_constraints': '', 'learning_rate': 0.300000012, 'max_delta_step': 0, 'max_depth': 11, 'min_child_weight': 2, 'missing': nan, 'monotone_constraints': '()', 'n_estimators': 148, 'n_jobs': 4, 'num_parallel_tree': 1, 'predictor': 'auto', 'random_state': 0, 'reg_alpha': 0, 'reg_lambda': 6, 'scale_pos_weight': 1, 'subsample': 1, 'tree_method': 'exact', 'validate_parameters': 1, 'verbosity': None, 'eval_metric': 'aucpr'},             model  tp    tn  fp   fn  accuracy  precision  recall     f1  \\\n",
      "0   XGBClassifier  96  3586  38  135     0.955      0.716   0.416  0.526   \n",
      "\n",
      "   matthews_coef  roc_auc  avg_pre  \n",
      "0          0.525    0.703    0.333  ], 'Trial_model_1642465413.6886709': [{'objective': 'binary:logistic', 'use_label_encoder': False, 'base_score': 0.5, 'booster': 'gbtree', 'colsample_bylevel': 1, 'colsample_bynode': 1, 'colsample_bytree': 1, 'enable_categorical': False, 'gamma': 1.1637538875379132, 'gpu_id': -1, 'importance_type': None, 'interaction_constraints': '', 'learning_rate': 0.300000012, 'max_delta_step': 0, 'max_depth': 11, 'min_child_weight': 2, 'missing': nan, 'monotone_constraints': '()', 'n_estimators': 189, 'n_jobs': 4, 'num_parallel_tree': 1, 'predictor': 'auto', 'random_state': 0, 'reg_alpha': 0, 'reg_lambda': 6, 'scale_pos_weight': 1, 'subsample': 1, 'tree_method': 'exact', 'validate_parameters': 1, 'verbosity': None, 'eval_metric': 'aucpr'},             model  tp    tn  fp   fn  accuracy  precision  recall     f1  \\\n",
      "0   XGBClassifier  98  3592  32  133     0.957      0.754   0.424  0.543   \n",
      "\n",
      "   matthews_coef  roc_auc  avg_pre  \n",
      "0          0.546    0.708    0.354  ], 'Trial_model_1642465415.912032': [{'objective': 'binary:logistic', 'use_label_encoder': False, 'base_score': 0.5, 'booster': 'gbtree', 'colsample_bylevel': 1, 'colsample_bynode': 1, 'colsample_bytree': 1, 'enable_categorical': False, 'gamma': 1.1542358134672155, 'gpu_id': -1, 'importance_type': None, 'interaction_constraints': '', 'learning_rate': 0.300000012, 'max_delta_step': 0, 'max_depth': 11, 'min_child_weight': 2, 'missing': nan, 'monotone_constraints': '()', 'n_estimators': 70, 'n_jobs': 4, 'num_parallel_tree': 1, 'predictor': 'auto', 'random_state': 0, 'reg_alpha': 0, 'reg_lambda': 6, 'scale_pos_weight': 1, 'subsample': 1, 'tree_method': 'exact', 'validate_parameters': 1, 'verbosity': None, 'eval_metric': 'aucpr'},             model  tp    tn  fp   fn  accuracy  precision  recall     f1  \\\n",
      "0   XGBClassifier  97  3589  35  134     0.956      0.735    0.42  0.534   \n",
      "\n",
      "   matthews_coef  roc_auc  avg_pre  \n",
      "0          0.535    0.705    0.343  ], 'Trial_model_1642465421.5725408': [{'objective': 'binary:logistic', 'use_label_encoder': False, 'base_score': 0.5, 'booster': 'gbtree', 'colsample_bylevel': 1, 'colsample_bynode': 1, 'colsample_bytree': 1, 'enable_categorical': False, 'gamma': 0.689987071512665, 'gpu_id': -1, 'importance_type': None, 'interaction_constraints': '', 'learning_rate': 0.300000012, 'max_delta_step': 0, 'max_depth': 11, 'min_child_weight': 2, 'missing': nan, 'monotone_constraints': '()', 'n_estimators': 181, 'n_jobs': 4, 'num_parallel_tree': 1, 'predictor': 'auto', 'random_state': 0, 'reg_alpha': 0, 'reg_lambda': 6, 'scale_pos_weight': 1, 'subsample': 1, 'tree_method': 'exact', 'validate_parameters': 1, 'verbosity': None, 'eval_metric': 'aucpr'},             model  tp    tn  fp   fn  accuracy  precision  recall     f1  \\\n",
      "0   XGBClassifier  96  3593  31  135     0.957      0.756   0.416  0.536   \n",
      "\n",
      "   matthews_coef  roc_auc  avg_pre  \n",
      "0          0.541    0.704    0.349  ], 'Trial_model_1642465426.6038632': [{'objective': 'binary:logistic', 'use_label_encoder': False, 'base_score': 0.5, 'booster': 'gbtree', 'colsample_bylevel': 1, 'colsample_bynode': 1, 'colsample_bytree': 1, 'enable_categorical': False, 'gamma': 0.19903105117620157, 'gpu_id': -1, 'importance_type': None, 'interaction_constraints': '', 'learning_rate': 0.300000012, 'max_delta_step': 0, 'max_depth': 9, 'min_child_weight': 2, 'missing': nan, 'monotone_constraints': '()', 'n_estimators': 189, 'n_jobs': 4, 'num_parallel_tree': 1, 'predictor': 'auto', 'random_state': 0, 'reg_alpha': 2, 'reg_lambda': 6, 'scale_pos_weight': 1, 'subsample': 1, 'tree_method': 'exact', 'validate_parameters': 1, 'verbosity': None, 'eval_metric': 'aucpr'},             model  tp    tn  fp   fn  accuracy  precision  recall     f1  \\\n",
      "0   XGBClassifier  96  3595  29  135     0.957      0.768   0.416  0.539   \n",
      "\n",
      "   matthews_coef  roc_auc  avg_pre  \n",
      "0          0.546    0.704    0.354  ], 'Trial_model_1642465430.8581939': [{'objective': 'binary:logistic', 'use_label_encoder': False, 'base_score': 0.5, 'booster': 'gbtree', 'colsample_bylevel': 1, 'colsample_bynode': 1, 'colsample_bytree': 1, 'enable_categorical': False, 'gamma': 1.7454988673420573, 'gpu_id': -1, 'importance_type': None, 'interaction_constraints': '', 'learning_rate': 0.300000012, 'max_delta_step': 0, 'max_depth': 11, 'min_child_weight': 2, 'missing': nan, 'monotone_constraints': '()', 'n_estimators': 134, 'n_jobs': 4, 'num_parallel_tree': 1, 'predictor': 'auto', 'random_state': 0, 'reg_alpha': 0, 'reg_lambda': 6, 'scale_pos_weight': 1, 'subsample': 1, 'tree_method': 'exact', 'validate_parameters': 1, 'verbosity': None, 'eval_metric': 'aucpr'},             model  tp    tn  fp   fn  accuracy  precision  recall     f1  \\\n",
      "0   XGBClassifier  95  3593  31  136     0.957      0.754   0.411  0.532   \n",
      "\n",
      "   matthews_coef  roc_auc  avg_pre  \n",
      "0          0.538    0.701    0.345  ], 'Trial_model_1642465451.5882406': [{'objective': 'binary:logistic', 'use_label_encoder': False, 'base_score': 0.5, 'booster': 'gbtree', 'colsample_bylevel': 1, 'colsample_bynode': 1, 'colsample_bytree': 1, 'enable_categorical': False, 'gamma': 1.4766586408084073, 'gpu_id': -1, 'importance_type': None, 'interaction_constraints': '', 'learning_rate': 0.300000012, 'max_delta_step': 0, 'max_depth': 11, 'min_child_weight': 2, 'missing': nan, 'monotone_constraints': '()', 'n_estimators': 129, 'n_jobs': 4, 'num_parallel_tree': 1, 'predictor': 'auto', 'random_state': 0, 'reg_alpha': 1, 'reg_lambda': 6, 'scale_pos_weight': 1, 'subsample': 1, 'tree_method': 'exact', 'validate_parameters': 1, 'verbosity': None, 'eval_metric': 'aucpr'},             model  tp    tn  fp   fn  accuracy  precision  recall     f1  \\\n",
      "0   XGBClassifier  95  3591  33  136     0.956      0.742   0.411  0.529   \n",
      "\n",
      "   matthews_coef  roc_auc  avg_pre  \n",
      "0          0.533    0.701    0.341  ], 'Trial_model_1642465480.0803869': [{'objective': 'binary:logistic', 'use_label_encoder': False, 'base_score': 0.5, 'booster': 'gbtree', 'colsample_bylevel': 1, 'colsample_bynode': 1, 'colsample_bytree': 1, 'enable_categorical': False, 'gamma': 0.7364561330370645, 'gpu_id': -1, 'importance_type': None, 'interaction_constraints': '', 'learning_rate': 0.300000012, 'max_delta_step': 0, 'max_depth': 8, 'min_child_weight': 4, 'missing': nan, 'monotone_constraints': '()', 'n_estimators': 71, 'n_jobs': 4, 'num_parallel_tree': 1, 'predictor': 'auto', 'random_state': 0, 'reg_alpha': 0, 'reg_lambda': 0, 'scale_pos_weight': 1, 'subsample': 1, 'tree_method': 'exact', 'validate_parameters': 1, 'verbosity': None, 'eval_metric': 'aucpr'},             model  tp    tn  fp   fn  accuracy  precision  recall     f1  \\\n",
      "0   XGBClassifier  96  3588  36  135     0.956      0.727   0.416  0.529   \n",
      "\n",
      "   matthews_coef  roc_auc  avg_pre  \n",
      "0          0.529    0.703    0.337  ], 'Trial_model_1642465496.7646115': [{'objective': 'binary:logistic', 'use_label_encoder': False, 'base_score': 0.5, 'booster': 'gbtree', 'colsample_bylevel': 1, 'colsample_bynode': 1, 'colsample_bytree': 1, 'enable_categorical': False, 'gamma': 0.4125828097934804, 'gpu_id': -1, 'importance_type': None, 'interaction_constraints': '', 'learning_rate': 0.300000012, 'max_delta_step': 0, 'max_depth': 12, 'min_child_weight': 2, 'missing': nan, 'monotone_constraints': '()', 'n_estimators': 106, 'n_jobs': 4, 'num_parallel_tree': 1, 'predictor': 'auto', 'random_state': 0, 'reg_alpha': 1, 'reg_lambda': 6, 'scale_pos_weight': 1, 'subsample': 1, 'tree_method': 'exact', 'validate_parameters': 1, 'verbosity': None, 'eval_metric': 'aucpr'},             model  tp    tn  fp   fn  accuracy  precision  recall     f1  \\\n",
      "0   XGBClassifier  98  3589  35  133     0.956      0.737   0.424  0.538   \n",
      "\n",
      "   matthews_coef  roc_auc  avg_pre  \n",
      "0          0.539    0.707    0.347  ]}\n"
     ]
    }
   ],
   "source": [
    "print(\"The best hyperparameters are : \",\"\\n\")\n",
    "print(best_hyperparams)\n",
    "\n",
    "print(\"Record best are:\", \"\\n\")\n",
    "print(high_roc_scores)"
   ]
  },
  {
   "cell_type": "code",
   "execution_count": 61,
   "id": "2dc7b08c",
   "metadata": {
    "execution": {
     "iopub.execute_input": "2022-01-18T00:25:18.251789Z",
     "iopub.status.busy": "2022-01-18T00:25:18.250771Z",
     "iopub.status.idle": "2022-01-18T00:25:18.258944Z",
     "shell.execute_reply": "2022-01-18T00:25:18.259500Z",
     "shell.execute_reply.started": "2022-01-17T22:46:58.721549Z"
    },
    "papermill": {
     "duration": 0.376783,
     "end_time": "2022-01-18T00:25:18.259696",
     "exception": false,
     "start_time": "2022-01-18T00:25:17.882913",
     "status": "completed"
    },
    "tags": []
   },
   "outputs": [],
   "source": [
    "clf_optimal = XGBClassifier(\n",
    "    objective= 'binary:logistic', \n",
    "    use_label_encoder= False, \n",
    "    base_score= 0.5, \n",
    "    booster= 'gbtree', \n",
    "    colsample_bylevel= 1, \n",
    "    colsample_bynode= 1, \n",
    "    colsample_bytree= 1, \n",
    "    enable_categorical= False, \n",
    "    gamma= best_hyperparams['gamma'], \n",
    "    gpu_id= -1, \n",
    "    importance_type= None, \n",
    "    interaction_constraints= '', \n",
    "    learning_rate= 0.300000012, \n",
    "    max_delta_step= 0, \n",
    "    max_depth= best_hyperparams['max_depth'], \n",
    "    min_child_weight= best_hyperparams['min_child_weight'], \n",
    "   # missing= 'nan', \n",
    "    monotone_constraints= '()',\n",
    "    n_estimators= best_hyperparams['n_estimators'], \n",
    "    n_jobs= 4, \n",
    "    num_parallel_tree= 1, \n",
    "    predictor= 'auto', \n",
    "    random_state= 0, \n",
    "    reg_alpha= best_hyperparams['reg_alpha'], \n",
    "    reg_lambda= best_hyperparams['reg_lambda'], \n",
    "    scale_pos_weight= 1, \n",
    "    subsample= 1, \n",
    "    tree_method= 'exact', \n",
    "    validate_parameters= 1, \n",
    "    verbosity= None, \n",
    "    eval_metric= 'aucpr'\n",
    ")"
   ]
  },
  {
   "cell_type": "code",
   "execution_count": 62,
   "id": "27fe0662",
   "metadata": {
    "execution": {
     "iopub.execute_input": "2022-01-18T00:25:18.825528Z",
     "iopub.status.busy": "2022-01-18T00:25:18.824610Z",
     "iopub.status.idle": "2022-01-18T00:25:18.828493Z",
     "shell.execute_reply": "2022-01-18T00:25:18.829143Z",
     "shell.execute_reply.started": "2022-01-17T22:46:58.736864Z"
    },
    "papermill": {
     "duration": 0.293923,
     "end_time": "2022-01-18T00:25:18.829353",
     "exception": false,
     "start_time": "2022-01-18T00:25:18.535430",
     "status": "completed"
    },
    "tags": []
   },
   "outputs": [
    {
     "name": "stdout",
     "output_type": "stream",
     "text": [
      "{'objective': 'binary:logistic', 'use_label_encoder': False, 'base_score': 0.5, 'booster': 'gbtree', 'colsample_bylevel': 1, 'colsample_bynode': 1, 'colsample_bytree': 1, 'enable_categorical': False, 'gamma': 0.0942164121471718, 'gpu_id': -1, 'importance_type': None, 'interaction_constraints': '', 'learning_rate': 0.300000012, 'max_delta_step': 0, 'max_depth': 8, 'min_child_weight': 1, 'missing': nan, 'monotone_constraints': '()', 'n_estimators': 81, 'n_jobs': 4, 'num_parallel_tree': 1, 'predictor': 'auto', 'random_state': 0, 'reg_alpha': 0, 'reg_lambda': 6, 'scale_pos_weight': 1, 'subsample': 1, 'tree_method': 'exact', 'validate_parameters': 1, 'verbosity': None, 'eval_metric': 'aucpr'}\n"
     ]
    }
   ],
   "source": [
    "print(clf_optimal.get_params())"
   ]
  },
  {
   "cell_type": "code",
   "execution_count": 63,
   "id": "d6fb6147",
   "metadata": {
    "execution": {
     "iopub.execute_input": "2022-01-18T00:25:19.399581Z",
     "iopub.status.busy": "2022-01-18T00:25:19.398782Z",
     "iopub.status.idle": "2022-01-18T00:25:46.361976Z",
     "shell.execute_reply": "2022-01-18T00:25:46.362850Z",
     "shell.execute_reply.started": "2022-01-17T22:46:58.755780Z"
    },
    "papermill": {
     "duration": 27.251887,
     "end_time": "2022-01-18T00:25:46.363128",
     "exception": false,
     "start_time": "2022-01-18T00:25:19.111241",
     "status": "completed"
    },
    "tags": []
   },
   "outputs": [
    {
     "name": "stdout",
     "output_type": "stream",
     "text": [
      "    model                      run_time    avg_accy    avg_recall    avg_precision    avg_f1    avg_matthew_corcoef    avg_roc_auc\n",
      "--  -----------------------  ----------  ----------  ------------  ---------------  --------  ---------------------  -------------\n",
      " 0  Optimized XGBClassifier        0.45    0.940856     0.0952295         0.589854  0.158697               0.211844       0.544993\n"
     ]
    }
   ],
   "source": [
    "\n",
    "start_time = time.time()\n",
    "optimal_model = clf_optimal.fit(X_train,y_train)\n",
    "\n",
    "# set random_state = 42\n",
    "#The idea was, if I have the optimal parameters, then using the same cross-validation state as during my initial testing\n",
    "#should produce far better results.... it didn't   :**(\n",
    "\n",
    "cvs = RepeatedStratifiedKFold(n_splits=10, n_repeats=3, random_state=42)\n",
    "cv_scores = cross_validate(optimal_model, X_test, y_test, cv=cvs, scoring = scorer)\n",
    "y_pred_optimal = optimal_model.predict(X_test)\n",
    "\n",
    "row2 = {'model': ['Optimized XGBClassifier'],\n",
    "       'run_time': [format(round((time.time() - start_time)/60,2))],\n",
    "       'avg_accy': [cv_scores['test_accuracy_score'].mean()],\n",
    "       #'avg_accy_std': cv_scores['test_accuracy_score'].std(),\n",
    "       'avg_recall': [cv_scores['test_recall_score'].mean()],\n",
    "       #'avg_recall_std': cv_scores['test_recall_score'].std(),\n",
    "       'avg_precision': [cv_scores['test_precision_score'].mean()],\n",
    "       #'avg_precision_std': cv_scores['test_precision_score'].std(),\n",
    "       'avg_f1': [cv_scores['test_f1_score'].mean()],\n",
    "       #'avg_f1_std': cv_scores['test_f1_score'].std(),\n",
    "       'avg_matthew_corcoef': [cv_scores['test_matthew_corrcoef'].mean()],\n",
    "       #'avg_matthew_corcoef_std': cv_scores['test_matthew_corrcoef'].std(),\n",
    "       'avg_roc_auc':[ cv_scores['test_roc_auc_score'].mean()],\n",
    "       #'avg_roc_auc_std': cv_scores['test_roc_auc_score'].std(),\n",
    "      }\n",
    " \n",
    "scores2 = pd.DataFrame(row2)\n",
    "print(tabulate(scores2, headers=scores2.columns))\n",
    "#df_models = df_models.append(row, ignore_index=True)"
   ]
  },
  {
   "cell_type": "markdown",
   "id": "8efbc818",
   "metadata": {
    "papermill": {
     "duration": 0.298346,
     "end_time": "2022-01-18T00:25:46.948551",
     "exception": false,
     "start_time": "2022-01-18T00:25:46.650205",
     "status": "completed"
    },
    "tags": []
   },
   "source": [
    "This is where I noticed there was an issue. Comparing the results of using the optimal parameters to our previous results we notice a difference in the metric values. I set the cross_validation random state to be the same as our original cross-validation, so we can test the optimal parameters against the original. We would expect better results from using the optimized values or at least similar, since we are training on the same cross-validation random_state. I did not see this behavior in any of my runs."
   ]
  },
  {
   "cell_type": "code",
   "execution_count": 64,
   "id": "2dbdbdcf",
   "metadata": {
    "execution": {
     "iopub.execute_input": "2022-01-18T00:25:47.544457Z",
     "iopub.status.busy": "2022-01-18T00:25:47.543765Z",
     "iopub.status.idle": "2022-01-18T00:25:47.560740Z",
     "shell.execute_reply": "2022-01-18T00:25:47.561226Z",
     "shell.execute_reply.started": "2022-01-17T22:47:32.146941Z"
    },
    "papermill": {
     "duration": 0.324868,
     "end_time": "2022-01-18T00:25:47.561427",
     "exception": false,
     "start_time": "2022-01-18T00:25:47.236559",
     "status": "completed"
    },
    "tags": []
   },
   "outputs": [
    {
     "data": {
      "text/html": [
       "<div>\n",
       "<style scoped>\n",
       "    .dataframe tbody tr th:only-of-type {\n",
       "        vertical-align: middle;\n",
       "    }\n",
       "\n",
       "    .dataframe tbody tr th {\n",
       "        vertical-align: top;\n",
       "    }\n",
       "\n",
       "    .dataframe thead th {\n",
       "        text-align: right;\n",
       "    }\n",
       "</style>\n",
       "<table border=\"1\" class=\"dataframe\">\n",
       "  <thead>\n",
       "    <tr style=\"text-align: right;\">\n",
       "      <th></th>\n",
       "      <th>model</th>\n",
       "      <th>run_time</th>\n",
       "      <th>avg_accy</th>\n",
       "      <th>avg_recall</th>\n",
       "      <th>avg_precision</th>\n",
       "      <th>avg_f1</th>\n",
       "      <th>avg_matthew_corcoef</th>\n",
       "      <th>avg_roc_auc</th>\n",
       "    </tr>\n",
       "  </thead>\n",
       "  <tbody>\n",
       "    <tr>\n",
       "      <th>0</th>\n",
       "      <td>Optimized XGBClassifier</td>\n",
       "      <td>0.45</td>\n",
       "      <td>0.940856</td>\n",
       "      <td>0.095229</td>\n",
       "      <td>0.589854</td>\n",
       "      <td>0.158697</td>\n",
       "      <td>0.211844</td>\n",
       "      <td>0.544993</td>\n",
       "    </tr>\n",
       "    <tr>\n",
       "      <th>3</th>\n",
       "      <td>XGBClassifier</td>\n",
       "      <td>0.42</td>\n",
       "      <td>0.942843</td>\n",
       "      <td>0.149940</td>\n",
       "      <td>0.151013</td>\n",
       "      <td>0.234856</td>\n",
       "      <td>0.274324</td>\n",
       "      <td>0.571658</td>\n",
       "    </tr>\n",
       "  </tbody>\n",
       "</table>\n",
       "</div>"
      ],
      "text/plain": [
       "                     model run_time  avg_accy  avg_recall  avg_precision  \\\n",
       "0  Optimized XGBClassifier     0.45  0.940856    0.095229       0.589854   \n",
       "3            XGBClassifier     0.42  0.942843    0.149940       0.151013   \n",
       "\n",
       "     avg_f1  avg_matthew_corcoef  avg_roc_auc  \n",
       "0  0.158697             0.211844     0.544993  \n",
       "3  0.234856             0.274324     0.571658  "
      ]
     },
     "execution_count": 64,
     "metadata": {},
     "output_type": "execute_result"
    }
   ],
   "source": [
    "scores3 = scores2.copy()\n",
    "r_idx = df_models.loc[df_models['model'] =='XGBClassifier']\n",
    "scores3.append(r_idx[scores2.columns])\n",
    "#r_idx2 = df_models_smote.loc[df_models['model'] =='XGBClassifier']\n",
    "#scores3.append(r_idx2[scores2.columns])\n"
   ]
  },
  {
   "cell_type": "markdown",
   "id": "d9266ba5",
   "metadata": {
    "papermill": {
     "duration": 0.288621,
     "end_time": "2022-01-18T00:25:48.133335",
     "exception": false,
     "start_time": "2022-01-18T00:25:47.844714",
     "status": "completed"
    },
    "tags": []
   },
   "source": [
    "When I used the optimized parameters I received an average F1 score, Matthew Correlation Coefficient and ROC AUC different from those printed during the testing. So we need to investigate. My first thought was that since I am taking the mean of the scores, perhaps I have some values that are pulling the score down. After print the scores from the cross-validation runs (see below) it is clear that is not the case, something else is going on. "
   ]
  },
  {
   "cell_type": "code",
   "execution_count": 65,
   "id": "81d72f71",
   "metadata": {
    "execution": {
     "iopub.execute_input": "2022-01-18T00:25:48.725037Z",
     "iopub.status.busy": "2022-01-18T00:25:48.716847Z",
     "iopub.status.idle": "2022-01-18T00:25:48.727471Z",
     "shell.execute_reply": "2022-01-18T00:25:48.728007Z",
     "shell.execute_reply.started": "2022-01-17T22:47:32.167738Z"
    },
    "papermill": {
     "duration": 0.308661,
     "end_time": "2022-01-18T00:25:48.728242",
     "exception": false,
     "start_time": "2022-01-18T00:25:48.419581",
     "status": "completed"
    },
    "tags": []
   },
   "outputs": [
    {
     "data": {
      "text/plain": [
       "{'fit_time': array([0.76134562, 0.74387908, 0.77540183, 0.7617805 , 0.75785089,\n",
       "        0.76825666, 0.76365781, 0.7578454 , 0.86241484, 0.76081252,\n",
       "        0.752918  , 0.76675248, 0.76340985, 0.75840664, 0.79266953,\n",
       "        0.80310035, 0.80878782, 0.81155968, 0.79501486, 0.79659176,\n",
       "        0.80396271, 1.72508836, 0.80319023, 0.78534317, 0.7872653 ,\n",
       "        0.81281185, 0.80459332, 0.79637337, 0.78948116, 0.79651999]),\n",
       " 'score_time': array([0.01803255, 0.01358199, 0.01450109, 0.01415539, 0.01429558,\n",
       "        0.01397038, 0.01373053, 0.01402664, 0.01420522, 0.01380014,\n",
       "        0.01397848, 0.01398182, 0.01392651, 0.01395416, 0.01408768,\n",
       "        0.01433396, 0.0160141 , 0.01456308, 0.01449227, 0.01421642,\n",
       "        0.01526713, 0.01515985, 0.01456213, 0.01549053, 0.01498842,\n",
       "        0.01434207, 0.01505804, 0.01451945, 0.01522875, 0.01685238]),\n",
       " 'test_accuracy_score': array([0.94818653, 0.94300518, 0.93782383, 0.94041451, 0.93523316,\n",
       "        0.94285714, 0.94025974, 0.94285714, 0.94025974, 0.94285714,\n",
       "        0.94300518, 0.94041451, 0.94559585, 0.93782383, 0.93264249,\n",
       "        0.92727273, 0.94025974, 0.94545455, 0.94545455, 0.93246753,\n",
       "        0.94041451, 0.93523316, 0.94300518, 0.94300518, 0.94300518,\n",
       "        0.94285714, 0.94285714, 0.94805195, 0.94285714, 0.94025974]),\n",
       " 'test_f1_score': array([0.23076923, 0.15384615, 0.07692308, 0.08      , 0.13793103,\n",
       "        0.3125    , 0.20689655, 0.15384615, 0.14814815, 0.08333333,\n",
       "        0.08333333, 0.14814815, 0.22222222, 0.07692308, 0.1875    ,\n",
       "        0.06666667, 0.08      , 0.22222222, 0.22222222, 0.07142857,\n",
       "        0.14814815, 0.07407407, 0.21428571, 0.3125    , 0.15384615,\n",
       "        0.21428571, 0.21428571, 0.23076923, 0.15384615, 0.08      ]),\n",
       " 'test_recall_score': array([0.13043478, 0.08695652, 0.04347826, 0.04347826, 0.08333333,\n",
       "        0.2173913 , 0.13043478, 0.08695652, 0.08695652, 0.04347826,\n",
       "        0.04347826, 0.08695652, 0.13043478, 0.04347826, 0.125     ,\n",
       "        0.04347826, 0.04347826, 0.13043478, 0.13043478, 0.04347826,\n",
       "        0.08695652, 0.04347826, 0.13043478, 0.2173913 , 0.08333333,\n",
       "        0.13043478, 0.13043478, 0.13043478, 0.08695652, 0.04347826]),\n",
       " 'test_precision_score': array([1.        , 0.66666667, 0.33333333, 0.5       , 0.4       ,\n",
       "        0.55555556, 0.5       , 0.66666667, 0.5       , 1.        ,\n",
       "        1.        , 0.5       , 0.75      , 0.33333333, 0.375     ,\n",
       "        0.14285714, 0.5       , 0.75      , 0.75      , 0.2       ,\n",
       "        0.5       , 0.25      , 0.6       , 0.55555556, 1.        ,\n",
       "        0.6       , 0.6       , 1.        , 0.66666667, 0.5       ]),\n",
       " 'test_matthew_corrcoef': array([0.35160143, 0.22697503, 0.10234863, 0.13427065, 0.16026556,\n",
       "        0.32366056, 0.23372627, 0.22693815, 0.19033515, 0.20245325,\n",
       "        0.20246923, 0.19038381, 0.29845461, 0.10234863, 0.1884631 ,\n",
       "        0.04772379, 0.13423542, 0.29841633, 0.29841633, 0.06788421,\n",
       "        0.19038381, 0.082313  , 0.26152884, 0.32372491, 0.28028383,\n",
       "        0.26147992, 0.26147992, 0.35157607, 0.22693815, 0.13423542]),\n",
       " 'test_roc_auc_score': array([0.56521739, 0.54210085, 0.51898431, 0.52036172, 0.53752302,\n",
       "        0.60317079, 0.56107374, 0.54209705, 0.54071583, 0.52173913,\n",
       "        0.52173913, 0.54072344, 0.56383998, 0.51898431, 0.55559392,\n",
       "        0.51345184, 0.52035791, 0.56383618, 0.56383618, 0.51621427,\n",
       "        0.54072344, 0.5176069 , 0.56246257, 0.60318601, 0.54166667,\n",
       "        0.56245496, 0.56245496, 0.56521739, 0.54209705, 0.52035791])}"
      ]
     },
     "execution_count": 65,
     "metadata": {},
     "output_type": "execute_result"
    }
   ],
   "source": [
    "cv_scores"
   ]
  },
  {
   "cell_type": "code",
   "execution_count": 66,
   "id": "314727b6",
   "metadata": {
    "execution": {
     "iopub.execute_input": "2022-01-18T00:25:49.326410Z",
     "iopub.status.busy": "2022-01-18T00:25:49.325737Z",
     "iopub.status.idle": "2022-01-18T00:25:49.633323Z",
     "shell.execute_reply": "2022-01-18T00:25:49.634206Z",
     "shell.execute_reply.started": "2022-01-17T22:47:32.186232Z"
    },
    "papermill": {
     "duration": 0.607189,
     "end_time": "2022-01-18T00:25:49.634452",
     "exception": false,
     "start_time": "2022-01-18T00:25:49.027263",
     "status": "completed"
    },
    "tags": []
   },
   "outputs": [
    {
     "data": {
      "text/plain": [
       "<matplotlib.legend.Legend at 0x7f25144fdc10>"
      ]
     },
     "execution_count": 66,
     "metadata": {},
     "output_type": "execute_result"
    },
    {
     "data": {
      "image/png": "[encoded data removed]",
      "text/plain": [
       "<Figure size 1080x432 with 1 Axes>"
      ]
     },
     "metadata": {
      "needs_background": "light"
     },
     "output_type": "display_data"
    }
   ],
   "source": [
    "cv_idx =list(range(len(cv_scores['fit_time'])))\n",
    "\n",
    "fig = plt.figure()\n",
    "fig.set_figwidth(15)\n",
    "fig.set_figheight(6)\n",
    "for test_score in cv_scores.keys():\n",
    "    if (test_score !='fit_time') & (test_score !='score_time'):\n",
    "        plt.plot(cv_idx, cv_scores[test_score], label='{}'.format(test_score))\n",
    "    \n",
    "plt.legend(loc='upper right')"
   ]
  },
  {
   "cell_type": "markdown",
   "id": "bad5343f",
   "metadata": {
    "papermill": {
     "duration": 0.314288,
     "end_time": "2022-01-18T00:25:50.261313",
     "exception": false,
     "start_time": "2022-01-18T00:25:49.947025",
     "status": "completed"
    },
    "tags": []
   },
   "source": [
    "In graph you can see the different scores across all of the cross-validation runs. It was clear that for no single run did we achieve a score compariable to the best observed during the optimization process. This tells us the fmin function isn't optimizing the same metric we were looking at. So either we figure out how to change the metric or we come up with a different. I chose the later since reading through the documentation proved fruitless (if you know how to change the metric I would appreciate the secret)."
   ]
  },
  {
   "cell_type": "code",
   "execution_count": 67,
   "id": "2127ebd6",
   "metadata": {
    "execution": {
     "iopub.execute_input": "2022-01-18T00:25:50.852510Z",
     "iopub.status.busy": "2022-01-18T00:25:50.851782Z",
     "iopub.status.idle": "2022-01-18T00:25:50.884640Z",
     "shell.execute_reply": "2022-01-18T00:25:50.884035Z",
     "shell.execute_reply.started": "2022-01-17T22:47:32.496805Z"
    },
    "papermill": {
     "duration": 0.333853,
     "end_time": "2022-01-18T00:25:50.884825",
     "exception": false,
     "start_time": "2022-01-18T00:25:50.550972",
     "status": "completed"
    },
    "tags": []
   },
   "outputs": [
    {
     "name": "stdout",
     "output_type": "stream",
     "text": [
      "    model                     tp    tn    fp    fn    correct    incorrect    accuracy    precision    recall     f1    matthews_coef    roc_auc    avg_pre\n",
      "--  ----------------------  ----  ----  ----  ----  ---------  -----------  ----------  -----------  --------  -----  ---------------  ---------  ---------\n",
      " 0  Optimized XGB-No SMOTE    97  3590    34   134       3687          168       0.956         0.74      0.42  0.536            0.538      0.705      0.346\n"
     ]
    }
   ],
   "source": [
    "tn, fp, fn, tp = metrics.confusion_matrix(y_test, y_pred_optimal).ravel()\n",
    "accuracy = metrics.accuracy_score(y_test, y_pred_optimal)\n",
    "precision = metrics.precision_score(y_test, y_pred_optimal)\n",
    "recall = metrics.recall_score(y_test, y_pred_optimal)\n",
    "f1 = metrics.f1_score(y_test,y_pred_optimal)\n",
    "matthew_corrcoef = metrics.matthews_corrcoef(y_test,y_pred_optimal),\n",
    "roc_auc = metrics.roc_auc_score(y_test,y_pred_optimal)\n",
    "avg_precision = metrics.average_precision_score(y_test, y_pred_optimal)\n",
    "\n",
    "row3 = {'model': 'Optimized XGB-No SMOTE',\n",
    "        'tp': [tp],\n",
    "        'tn': [tn],\n",
    "        'fp': [fp],\n",
    "        'fn': [fn],\n",
    "        'correct': [tp+tn],\n",
    "        'incorrect': [fp+fn],\n",
    "        'accuracy': [round(accuracy,3)],\n",
    "        'precision': [round(precision,3)],\n",
    "        'recall': [round(recall,3)],\n",
    "        'f1': [round(f1,3)],\n",
    "        'matthews_coef': [round(matthew_corrcoef[0],3)],\n",
    "        'roc_auc': [round(roc_auc,3)],\n",
    "        'avg_pre': [round(avg_precision,3)],\n",
    "    }\n",
    "\n",
    "scores3 = pd.DataFrame(row3)\n",
    "print(tabulate(scores3, headers=scores3.columns))\n",
    "\n"
   ]
  },
  {
   "cell_type": "markdown",
   "id": "920ddee0",
   "metadata": {
    "papermill": {
     "duration": 0.292283,
     "end_time": "2022-01-18T00:25:51.475832",
     "exception": false,
     "start_time": "2022-01-18T00:25:51.183549",
     "status": "completed"
    },
    "tags": []
   },
   "source": [
    "Next I checked the metrics based on the comparison of the y_test data set and the predicted results (y_pred_optimal). The y_pred_optimal should have been the last prediction from the cross-validation run and match the last entries in cv_cores. Looking below, it is clear they are not.\n",
    "\n",
    "Need to look further into why this is happening, there is likely a random state that isn't set properly that needs to be adjusted to attain consistency."
   ]
  },
  {
   "cell_type": "code",
   "execution_count": 68,
   "id": "e92f6800",
   "metadata": {
    "execution": {
     "iopub.execute_input": "2022-01-18T00:25:52.075957Z",
     "iopub.status.busy": "2022-01-18T00:25:52.073705Z",
     "iopub.status.idle": "2022-01-18T00:25:52.081436Z",
     "shell.execute_reply": "2022-01-18T00:25:52.081967Z",
     "shell.execute_reply.started": "2022-01-17T22:47:32.536470Z"
    },
    "papermill": {
     "duration": 0.312776,
     "end_time": "2022-01-18T00:25:52.082163",
     "exception": false,
     "start_time": "2022-01-18T00:25:51.769387",
     "status": "completed"
    },
    "tags": []
   },
   "outputs": [
    {
     "name": "stdout",
     "output_type": "stream",
     "text": [
      "key fit_time:score 0.7965199947357178\n",
      "key score_time:score 0.016852378845214844\n",
      "key test_accuracy_score:score 0.9402597402597402\n",
      "key test_f1_score:score 0.08\n",
      "key test_recall_score:score 0.043478260869565216\n",
      "key test_precision_score:score 0.5\n",
      "key test_matthew_corrcoef:score 0.13423541509712972\n",
      "key test_roc_auc_score:score 0.5203579149651693\n"
     ]
    }
   ],
   "source": [
    "for key in cv_scores.keys():\n",
    "    print('key {}:score {}'.format(key,cv_scores[key][-1] ))"
   ]
  },
  {
   "cell_type": "markdown",
   "id": "c4c71678",
   "metadata": {
    "papermill": {
     "duration": 0.303707,
     "end_time": "2022-01-18T00:25:52.692950",
     "exception": false,
     "start_time": "2022-01-18T00:25:52.389243",
     "status": "completed"
    },
    "tags": []
   },
   "source": [
    "# **PART 12:** Building, evaluating, drawing, and interpretation of final classification model"
   ]
  },
  {
   "cell_type": "markdown",
   "id": "fc303930",
   "metadata": {
    "papermill": {
     "duration": 0.294973,
     "end_time": "2022-01-18T00:25:53.282020",
     "exception": false,
     "start_time": "2022-01-18T00:25:52.987047",
     "status": "completed"
    },
    "tags": []
   },
   "source": [
    "I established that hyperopt wasn't optimizing on  our desired metric, and I was unable to sort out how to change that metric. So I decided to store all parameters from the hyperopt search where the calculated roc_auc was greater than 0.7. From here the thought was, if I can get these values that are satsifying the threshold value then I can pull the parameters that generated the largest roc_auc (or whatever your desired metric is). All of these values were saved to the dictionary high_roc_scores."
   ]
  },
  {
   "cell_type": "code",
   "execution_count": 69,
   "id": "070b9e9b",
   "metadata": {
    "execution": {
     "iopub.execute_input": "2022-01-18T00:25:53.879707Z",
     "iopub.status.busy": "2022-01-18T00:25:53.874241Z",
     "iopub.status.idle": "2022-01-18T00:25:53.921844Z",
     "shell.execute_reply": "2022-01-18T00:25:53.921285Z",
     "shell.execute_reply.started": "2022-01-17T22:47:32.544181Z"
    },
    "papermill": {
     "duration": 0.357622,
     "end_time": "2022-01-18T00:25:53.921994",
     "exception": false,
     "start_time": "2022-01-18T00:25:53.564372",
     "status": "completed"
    },
    "tags": []
   },
   "outputs": [
    {
     "data": {
      "text/plain": [
       "{'Trial_model_1642465269.0170848': [{'objective': 'binary:logistic',\n",
       "   'use_label_encoder': False,\n",
       "   'base_score': 0.5,\n",
       "   'booster': 'gbtree',\n",
       "   'colsample_bylevel': 1,\n",
       "   'colsample_bynode': 1,\n",
       "   'colsample_bytree': 1,\n",
       "   'enable_categorical': False,\n",
       "   'gamma': 0.0942164121471718,\n",
       "   'gpu_id': -1,\n",
       "   'importance_type': None,\n",
       "   'interaction_constraints': '',\n",
       "   'learning_rate': 0.300000012,\n",
       "   'max_delta_step': 0,\n",
       "   'max_depth': 11,\n",
       "   'min_child_weight': 2,\n",
       "   'missing': nan,\n",
       "   'monotone_constraints': '()',\n",
       "   'n_estimators': 131,\n",
       "   'n_jobs': 4,\n",
       "   'num_parallel_tree': 1,\n",
       "   'predictor': 'auto',\n",
       "   'random_state': 0,\n",
       "   'reg_alpha': 0,\n",
       "   'reg_lambda': 6,\n",
       "   'scale_pos_weight': 1,\n",
       "   'subsample': 1,\n",
       "   'tree_method': 'exact',\n",
       "   'validate_parameters': 1,\n",
       "   'verbosity': None,\n",
       "   'eval_metric': 'aucpr'},\n",
       "              model   tp    tn  fp   fn  accuracy  precision  recall     f1  \\\n",
       "  0   XGBClassifier  102  3598  26  129      0.96      0.797   0.442  0.568   \n",
       "  \n",
       "     matthews_coef  roc_auc  avg_pre  \n",
       "  0          0.575    0.717    0.385  ],\n",
       " 'Trial_model_1642465395.3808904': [{'objective': 'binary:logistic',\n",
       "   'use_label_encoder': False,\n",
       "   'base_score': 0.5,\n",
       "   'booster': 'gbtree',\n",
       "   'colsample_bylevel': 1,\n",
       "   'colsample_bynode': 1,\n",
       "   'colsample_bytree': 1,\n",
       "   'enable_categorical': False,\n",
       "   'gamma': 0.30865930509240747,\n",
       "   'gpu_id': -1,\n",
       "   'importance_type': None,\n",
       "   'interaction_constraints': '',\n",
       "   'learning_rate': 0.300000012,\n",
       "   'max_delta_step': 0,\n",
       "   'max_depth': 11,\n",
       "   'min_child_weight': 2,\n",
       "   'missing': nan,\n",
       "   'monotone_constraints': '()',\n",
       "   'n_estimators': 181,\n",
       "   'n_jobs': 4,\n",
       "   'num_parallel_tree': 1,\n",
       "   'predictor': 'auto',\n",
       "   'random_state': 0,\n",
       "   'reg_alpha': 0,\n",
       "   'reg_lambda': 6,\n",
       "   'scale_pos_weight': 1,\n",
       "   'subsample': 1,\n",
       "   'tree_method': 'exact',\n",
       "   'validate_parameters': 1,\n",
       "   'verbosity': None,\n",
       "   'eval_metric': 'aucpr'},\n",
       "              model   tp    tn  fp   fn  accuracy  precision  recall     f1  \\\n",
       "  0   XGBClassifier  102  3591  33  129     0.958      0.756   0.442  0.557   \n",
       "  \n",
       "     matthews_coef  roc_auc  avg_pre  \n",
       "  0          0.558    0.716    0.367  ],\n",
       " 'Trial_model_1642465401.699146': [{'objective': 'binary:logistic',\n",
       "   'use_label_encoder': False,\n",
       "   'base_score': 0.5,\n",
       "   'booster': 'gbtree',\n",
       "   'colsample_bylevel': 1,\n",
       "   'colsample_bynode': 1,\n",
       "   'colsample_bytree': 1,\n",
       "   'enable_categorical': False,\n",
       "   'gamma': 2.0343381856427127,\n",
       "   'gpu_id': -1,\n",
       "   'importance_type': None,\n",
       "   'interaction_constraints': '',\n",
       "   'learning_rate': 0.300000012,\n",
       "   'max_delta_step': 0,\n",
       "   'max_depth': 11,\n",
       "   'min_child_weight': 2,\n",
       "   'missing': nan,\n",
       "   'monotone_constraints': '()',\n",
       "   'n_estimators': 148,\n",
       "   'n_jobs': 4,\n",
       "   'num_parallel_tree': 1,\n",
       "   'predictor': 'auto',\n",
       "   'random_state': 0,\n",
       "   'reg_alpha': 0,\n",
       "   'reg_lambda': 6,\n",
       "   'scale_pos_weight': 1,\n",
       "   'subsample': 1,\n",
       "   'tree_method': 'exact',\n",
       "   'validate_parameters': 1,\n",
       "   'verbosity': None,\n",
       "   'eval_metric': 'aucpr'},\n",
       "              model  tp    tn  fp   fn  accuracy  precision  recall     f1  \\\n",
       "  0   XGBClassifier  96  3586  38  135     0.955      0.716   0.416  0.526   \n",
       "  \n",
       "     matthews_coef  roc_auc  avg_pre  \n",
       "  0          0.525    0.703    0.333  ],\n",
       " 'Trial_model_1642465413.6886709': [{'objective': 'binary:logistic',\n",
       "   'use_label_encoder': False,\n",
       "   'base_score': 0.5,\n",
       "   'booster': 'gbtree',\n",
       "   'colsample_bylevel': 1,\n",
       "   'colsample_bynode': 1,\n",
       "   'colsample_bytree': 1,\n",
       "   'enable_categorical': False,\n",
       "   'gamma': 1.1637538875379132,\n",
       "   'gpu_id': -1,\n",
       "   'importance_type': None,\n",
       "   'interaction_constraints': '',\n",
       "   'learning_rate': 0.300000012,\n",
       "   'max_delta_step': 0,\n",
       "   'max_depth': 11,\n",
       "   'min_child_weight': 2,\n",
       "   'missing': nan,\n",
       "   'monotone_constraints': '()',\n",
       "   'n_estimators': 189,\n",
       "   'n_jobs': 4,\n",
       "   'num_parallel_tree': 1,\n",
       "   'predictor': 'auto',\n",
       "   'random_state': 0,\n",
       "   'reg_alpha': 0,\n",
       "   'reg_lambda': 6,\n",
       "   'scale_pos_weight': 1,\n",
       "   'subsample': 1,\n",
       "   'tree_method': 'exact',\n",
       "   'validate_parameters': 1,\n",
       "   'verbosity': None,\n",
       "   'eval_metric': 'aucpr'},\n",
       "              model  tp    tn  fp   fn  accuracy  precision  recall     f1  \\\n",
       "  0   XGBClassifier  98  3592  32  133     0.957      0.754   0.424  0.543   \n",
       "  \n",
       "     matthews_coef  roc_auc  avg_pre  \n",
       "  0          0.546    0.708    0.354  ],\n",
       " 'Trial_model_1642465415.912032': [{'objective': 'binary:logistic',\n",
       "   'use_label_encoder': False,\n",
       "   'base_score': 0.5,\n",
       "   'booster': 'gbtree',\n",
       "   'colsample_bylevel': 1,\n",
       "   'colsample_bynode': 1,\n",
       "   'colsample_bytree': 1,\n",
       "   'enable_categorical': False,\n",
       "   'gamma': 1.1542358134672155,\n",
       "   'gpu_id': -1,\n",
       "   'importance_type': None,\n",
       "   'interaction_constraints': '',\n",
       "   'learning_rate': 0.300000012,\n",
       "   'max_delta_step': 0,\n",
       "   'max_depth': 11,\n",
       "   'min_child_weight': 2,\n",
       "   'missing': nan,\n",
       "   'monotone_constraints': '()',\n",
       "   'n_estimators': 70,\n",
       "   'n_jobs': 4,\n",
       "   'num_parallel_tree': 1,\n",
       "   'predictor': 'auto',\n",
       "   'random_state': 0,\n",
       "   'reg_alpha': 0,\n",
       "   'reg_lambda': 6,\n",
       "   'scale_pos_weight': 1,\n",
       "   'subsample': 1,\n",
       "   'tree_method': 'exact',\n",
       "   'validate_parameters': 1,\n",
       "   'verbosity': None,\n",
       "   'eval_metric': 'aucpr'},\n",
       "              model  tp    tn  fp   fn  accuracy  precision  recall     f1  \\\n",
       "  0   XGBClassifier  97  3589  35  134     0.956      0.735    0.42  0.534   \n",
       "  \n",
       "     matthews_coef  roc_auc  avg_pre  \n",
       "  0          0.535    0.705    0.343  ],\n",
       " 'Trial_model_1642465421.5725408': [{'objective': 'binary:logistic',\n",
       "   'use_label_encoder': False,\n",
       "   'base_score': 0.5,\n",
       "   'booster': 'gbtree',\n",
       "   'colsample_bylevel': 1,\n",
       "   'colsample_bynode': 1,\n",
       "   'colsample_bytree': 1,\n",
       "   'enable_categorical': False,\n",
       "   'gamma': 0.689987071512665,\n",
       "   'gpu_id': -1,\n",
       "   'importance_type': None,\n",
       "   'interaction_constraints': '',\n",
       "   'learning_rate': 0.300000012,\n",
       "   'max_delta_step': 0,\n",
       "   'max_depth': 11,\n",
       "   'min_child_weight': 2,\n",
       "   'missing': nan,\n",
       "   'monotone_constraints': '()',\n",
       "   'n_estimators': 181,\n",
       "   'n_jobs': 4,\n",
       "   'num_parallel_tree': 1,\n",
       "   'predictor': 'auto',\n",
       "   'random_state': 0,\n",
       "   'reg_alpha': 0,\n",
       "   'reg_lambda': 6,\n",
       "   'scale_pos_weight': 1,\n",
       "   'subsample': 1,\n",
       "   'tree_method': 'exact',\n",
       "   'validate_parameters': 1,\n",
       "   'verbosity': None,\n",
       "   'eval_metric': 'aucpr'},\n",
       "              model  tp    tn  fp   fn  accuracy  precision  recall     f1  \\\n",
       "  0   XGBClassifier  96  3593  31  135     0.957      0.756   0.416  0.536   \n",
       "  \n",
       "     matthews_coef  roc_auc  avg_pre  \n",
       "  0          0.541    0.704    0.349  ],\n",
       " 'Trial_model_1642465426.6038632': [{'objective': 'binary:logistic',\n",
       "   'use_label_encoder': False,\n",
       "   'base_score': 0.5,\n",
       "   'booster': 'gbtree',\n",
       "   'colsample_bylevel': 1,\n",
       "   'colsample_bynode': 1,\n",
       "   'colsample_bytree': 1,\n",
       "   'enable_categorical': False,\n",
       "   'gamma': 0.19903105117620157,\n",
       "   'gpu_id': -1,\n",
       "   'importance_type': None,\n",
       "   'interaction_constraints': '',\n",
       "   'learning_rate': 0.300000012,\n",
       "   'max_delta_step': 0,\n",
       "   'max_depth': 9,\n",
       "   'min_child_weight': 2,\n",
       "   'missing': nan,\n",
       "   'monotone_constraints': '()',\n",
       "   'n_estimators': 189,\n",
       "   'n_jobs': 4,\n",
       "   'num_parallel_tree': 1,\n",
       "   'predictor': 'auto',\n",
       "   'random_state': 0,\n",
       "   'reg_alpha': 2,\n",
       "   'reg_lambda': 6,\n",
       "   'scale_pos_weight': 1,\n",
       "   'subsample': 1,\n",
       "   'tree_method': 'exact',\n",
       "   'validate_parameters': 1,\n",
       "   'verbosity': None,\n",
       "   'eval_metric': 'aucpr'},\n",
       "              model  tp    tn  fp   fn  accuracy  precision  recall     f1  \\\n",
       "  0   XGBClassifier  96  3595  29  135     0.957      0.768   0.416  0.539   \n",
       "  \n",
       "     matthews_coef  roc_auc  avg_pre  \n",
       "  0          0.546    0.704    0.354  ],\n",
       " 'Trial_model_1642465430.8581939': [{'objective': 'binary:logistic',\n",
       "   'use_label_encoder': False,\n",
       "   'base_score': 0.5,\n",
       "   'booster': 'gbtree',\n",
       "   'colsample_bylevel': 1,\n",
       "   'colsample_bynode': 1,\n",
       "   'colsample_bytree': 1,\n",
       "   'enable_categorical': False,\n",
       "   'gamma': 1.7454988673420573,\n",
       "   'gpu_id': -1,\n",
       "   'importance_type': None,\n",
       "   'interaction_constraints': '',\n",
       "   'learning_rate': 0.300000012,\n",
       "   'max_delta_step': 0,\n",
       "   'max_depth': 11,\n",
       "   'min_child_weight': 2,\n",
       "   'missing': nan,\n",
       "   'monotone_constraints': '()',\n",
       "   'n_estimators': 134,\n",
       "   'n_jobs': 4,\n",
       "   'num_parallel_tree': 1,\n",
       "   'predictor': 'auto',\n",
       "   'random_state': 0,\n",
       "   'reg_alpha': 0,\n",
       "   'reg_lambda': 6,\n",
       "   'scale_pos_weight': 1,\n",
       "   'subsample': 1,\n",
       "   'tree_method': 'exact',\n",
       "   'validate_parameters': 1,\n",
       "   'verbosity': None,\n",
       "   'eval_metric': 'aucpr'},\n",
       "              model  tp    tn  fp   fn  accuracy  precision  recall     f1  \\\n",
       "  0   XGBClassifier  95  3593  31  136     0.957      0.754   0.411  0.532   \n",
       "  \n",
       "     matthews_coef  roc_auc  avg_pre  \n",
       "  0          0.538    0.701    0.345  ],\n",
       " 'Trial_model_1642465451.5882406': [{'objective': 'binary:logistic',\n",
       "   'use_label_encoder': False,\n",
       "   'base_score': 0.5,\n",
       "   'booster': 'gbtree',\n",
       "   'colsample_bylevel': 1,\n",
       "   'colsample_bynode': 1,\n",
       "   'colsample_bytree': 1,\n",
       "   'enable_categorical': False,\n",
       "   'gamma': 1.4766586408084073,\n",
       "   'gpu_id': -1,\n",
       "   'importance_type': None,\n",
       "   'interaction_constraints': '',\n",
       "   'learning_rate': 0.300000012,\n",
       "   'max_delta_step': 0,\n",
       "   'max_depth': 11,\n",
       "   'min_child_weight': 2,\n",
       "   'missing': nan,\n",
       "   'monotone_constraints': '()',\n",
       "   'n_estimators': 129,\n",
       "   'n_jobs': 4,\n",
       "   'num_parallel_tree': 1,\n",
       "   'predictor': 'auto',\n",
       "   'random_state': 0,\n",
       "   'reg_alpha': 1,\n",
       "   'reg_lambda': 6,\n",
       "   'scale_pos_weight': 1,\n",
       "   'subsample': 1,\n",
       "   'tree_method': 'exact',\n",
       "   'validate_parameters': 1,\n",
       "   'verbosity': None,\n",
       "   'eval_metric': 'aucpr'},\n",
       "              model  tp    tn  fp   fn  accuracy  precision  recall     f1  \\\n",
       "  0   XGBClassifier  95  3591  33  136     0.956      0.742   0.411  0.529   \n",
       "  \n",
       "     matthews_coef  roc_auc  avg_pre  \n",
       "  0          0.533    0.701    0.341  ],\n",
       " 'Trial_model_1642465480.0803869': [{'objective': 'binary:logistic',\n",
       "   'use_label_encoder': False,\n",
       "   'base_score': 0.5,\n",
       "   'booster': 'gbtree',\n",
       "   'colsample_bylevel': 1,\n",
       "   'colsample_bynode': 1,\n",
       "   'colsample_bytree': 1,\n",
       "   'enable_categorical': False,\n",
       "   'gamma': 0.7364561330370645,\n",
       "   'gpu_id': -1,\n",
       "   'importance_type': None,\n",
       "   'interaction_constraints': '',\n",
       "   'learning_rate': 0.300000012,\n",
       "   'max_delta_step': 0,\n",
       "   'max_depth': 8,\n",
       "   'min_child_weight': 4,\n",
       "   'missing': nan,\n",
       "   'monotone_constraints': '()',\n",
       "   'n_estimators': 71,\n",
       "   'n_jobs': 4,\n",
       "   'num_parallel_tree': 1,\n",
       "   'predictor': 'auto',\n",
       "   'random_state': 0,\n",
       "   'reg_alpha': 0,\n",
       "   'reg_lambda': 0,\n",
       "   'scale_pos_weight': 1,\n",
       "   'subsample': 1,\n",
       "   'tree_method': 'exact',\n",
       "   'validate_parameters': 1,\n",
       "   'verbosity': None,\n",
       "   'eval_metric': 'aucpr'},\n",
       "              model  tp    tn  fp   fn  accuracy  precision  recall     f1  \\\n",
       "  0   XGBClassifier  96  3588  36  135     0.956      0.727   0.416  0.529   \n",
       "  \n",
       "     matthews_coef  roc_auc  avg_pre  \n",
       "  0          0.529    0.703    0.337  ],\n",
       " 'Trial_model_1642465496.7646115': [{'objective': 'binary:logistic',\n",
       "   'use_label_encoder': False,\n",
       "   'base_score': 0.5,\n",
       "   'booster': 'gbtree',\n",
       "   'colsample_bylevel': 1,\n",
       "   'colsample_bynode': 1,\n",
       "   'colsample_bytree': 1,\n",
       "   'enable_categorical': False,\n",
       "   'gamma': 0.4125828097934804,\n",
       "   'gpu_id': -1,\n",
       "   'importance_type': None,\n",
       "   'interaction_constraints': '',\n",
       "   'learning_rate': 0.300000012,\n",
       "   'max_delta_step': 0,\n",
       "   'max_depth': 12,\n",
       "   'min_child_weight': 2,\n",
       "   'missing': nan,\n",
       "   'monotone_constraints': '()',\n",
       "   'n_estimators': 106,\n",
       "   'n_jobs': 4,\n",
       "   'num_parallel_tree': 1,\n",
       "   'predictor': 'auto',\n",
       "   'random_state': 0,\n",
       "   'reg_alpha': 1,\n",
       "   'reg_lambda': 6,\n",
       "   'scale_pos_weight': 1,\n",
       "   'subsample': 1,\n",
       "   'tree_method': 'exact',\n",
       "   'validate_parameters': 1,\n",
       "   'verbosity': None,\n",
       "   'eval_metric': 'aucpr'},\n",
       "              model  tp    tn  fp   fn  accuracy  precision  recall     f1  \\\n",
       "  0   XGBClassifier  98  3589  35  133     0.956      0.737   0.424  0.538   \n",
       "  \n",
       "     matthews_coef  roc_auc  avg_pre  \n",
       "  0          0.539    0.707    0.347  ]}"
      ]
     },
     "execution_count": 69,
     "metadata": {},
     "output_type": "execute_result"
    }
   ],
   "source": [
    "high_roc_scores"
   ]
  },
  {
   "cell_type": "code",
   "execution_count": 70,
   "id": "72cac4a6",
   "metadata": {
    "execution": {
     "iopub.execute_input": "2022-01-18T00:25:54.502192Z",
     "iopub.status.busy": "2022-01-18T00:25:54.501109Z",
     "iopub.status.idle": "2022-01-18T00:25:54.545063Z",
     "shell.execute_reply": "2022-01-18T00:25:54.545819Z",
     "shell.execute_reply.started": "2022-01-17T22:47:32.568068Z"
    },
    "papermill": {
     "duration": 0.335041,
     "end_time": "2022-01-18T00:25:54.546069",
     "exception": false,
     "start_time": "2022-01-18T00:25:54.211028",
     "status": "completed"
    },
    "tags": []
   },
   "outputs": [
    {
     "name": "stdout",
     "output_type": "stream",
     "text": [
      "        gamma    max_depth    min_child_weight    n_estimators    reg_alpha    reg_lambda    precision    recall     f1    matthews_coef    roc_auc\n",
      "--  ---------  -----------  ------------------  --------------  -----------  ------------  -----------  --------  -----  ---------------  ---------\n",
      " 0  0.0942164           11                   2             131            0             6        0.797     0.442  0.568            0.575      0.717\n",
      " 1  0.308659            11                   2             181            0             6        0.756     0.442  0.557            0.558      0.716\n",
      " 2  2.03434             11                   2             148            0             6        0.716     0.416  0.526            0.525      0.703\n",
      " 3  1.16375             11                   2             189            0             6        0.754     0.424  0.543            0.546      0.708\n",
      " 4  1.15424             11                   2              70            0             6        0.735     0.42   0.534            0.535      0.705\n",
      " 5  0.689987            11                   2             181            0             6        0.756     0.416  0.536            0.541      0.704\n",
      " 6  0.199031             9                   2             189            2             6        0.768     0.416  0.539            0.546      0.704\n",
      " 7  1.7455              11                   2             134            0             6        0.754     0.411  0.532            0.538      0.701\n",
      " 8  1.47666             11                   2             129            1             6        0.742     0.411  0.529            0.533      0.701\n",
      " 9  0.736456             8                   4              71            0             0        0.727     0.416  0.529            0.529      0.703\n",
      "10  0.412583            12                   2             106            1             6        0.737     0.424  0.538            0.539      0.707\n"
     ]
    }
   ],
   "source": [
    "potential_opt_params = pd.DataFrame(columns = ['gamma', \n",
    "                                              'max_depth', \n",
    "                                              'min_child_weight',\n",
    "                                              'n_estimators', \n",
    "                                              'reg_alpha', \n",
    "                                              'reg_lambda',\n",
    "                                              'precision',\n",
    "                                              'recall',\n",
    "                                              'f1',\n",
    "                                              'matthews_coef',\n",
    "                                              'roc_auc'])\n",
    "\n",
    "row_idx = 0\n",
    "for key in high_roc_scores.keys():\n",
    "    param_dict = high_roc_scores[key]\n",
    "    #print(key)\n",
    "    \n",
    "    temp1 = param_dict[0]\n",
    "    temp2 = param_dict[1]\n",
    "    for param in potential_opt_params.columns:\n",
    "        if param in temp1.keys():\n",
    "            potential_opt_params.at[row_idx, param] = temp1[param]\n",
    "        elif param in temp2.columns:\n",
    "            potential_opt_params.at[row_idx, param] = temp2[param]\n",
    "    \n",
    "    row_idx = row_idx + 1\n",
    "\n",
    "    \n",
    "#sort value isnt working at the moment returns the following error\n",
    "# \n",
    "#The truth value of a Series is ambiguous. Use a.empty, a.bool(), a.item(), a.any() or a.all().\n",
    "\n",
    "#potential_opt_params.sort_values('roc_auc',axis = 0,ascending=False, inplace=True)\n",
    "print(tabulate(potential_opt_params, headers=potential_opt_params.columns))"
   ]
  },
  {
   "cell_type": "markdown",
   "id": "4baa4263",
   "metadata": {
    "papermill": {
     "duration": 0.286098,
     "end_time": "2022-01-18T00:25:55.114460",
     "exception": false,
     "start_time": "2022-01-18T00:25:54.828362",
     "status": "completed"
    },
    "tags": []
   },
   "source": [
    "Sorting on the desired metric (roc_auc in this case), we can grab the parameters that did generate the largest value."
   ]
  },
  {
   "cell_type": "code",
   "execution_count": 71,
   "id": "41661c65",
   "metadata": {
    "execution": {
     "iopub.execute_input": "2022-01-18T00:25:55.684008Z",
     "iopub.status.busy": "2022-01-18T00:25:55.683321Z",
     "iopub.status.idle": "2022-01-18T00:25:55.685843Z",
     "shell.execute_reply": "2022-01-18T00:25:55.686318Z",
     "shell.execute_reply.started": "2022-01-17T22:47:32.594046Z"
    },
    "papermill": {
     "duration": 0.289523,
     "end_time": "2022-01-18T00:25:55.686491",
     "exception": false,
     "start_time": "2022-01-18T00:25:55.396968",
     "status": "completed"
    },
    "tags": []
   },
   "outputs": [
    {
     "data": {
      "text/plain": [
       "0.0942164121471718"
      ]
     },
     "execution_count": 71,
     "metadata": {},
     "output_type": "execute_result"
    }
   ],
   "source": [
    "#not sortin\n",
    "potential_opt_params.iloc[0]['gamma']"
   ]
  },
  {
   "cell_type": "code",
   "execution_count": 72,
   "id": "d183dca7",
   "metadata": {
    "execution": {
     "iopub.execute_input": "2022-01-18T00:25:56.258662Z",
     "iopub.status.busy": "2022-01-18T00:25:56.258002Z",
     "iopub.status.idle": "2022-01-18T00:25:56.266427Z",
     "shell.execute_reply": "2022-01-18T00:25:56.266962Z",
     "shell.execute_reply.started": "2022-01-17T22:47:32.611742Z"
    },
    "papermill": {
     "duration": 0.296147,
     "end_time": "2022-01-18T00:25:56.267144",
     "exception": false,
     "start_time": "2022-01-18T00:25:55.970997",
     "status": "completed"
    },
    "tags": []
   },
   "outputs": [],
   "source": [
    "clf_optimal2 = XGBClassifier(\n",
    "    objective= 'binary:logistic', \n",
    "    use_label_encoder= False, \n",
    "    base_score= 0.5, \n",
    "    booster= 'gbtree', \n",
    "    colsample_bylevel= 1, \n",
    "    colsample_bynode= 1, \n",
    "    colsample_bytree= 1, \n",
    "    enable_categorical= False, \n",
    "    gamma= potential_opt_params.iloc[0]['gamma'], \n",
    "    gpu_id= -1, \n",
    "    importance_type= None, \n",
    "    interaction_constraints= '', \n",
    "    learning_rate= 0.300000012, \n",
    "    max_delta_step= 0, \n",
    "    max_depth= potential_opt_params.iloc[0]['max_depth'], \n",
    "    min_child_weight= potential_opt_params.iloc[0]['min_child_weight'], \n",
    "   # missing= 'nan', \n",
    "    monotone_constraints= '()',\n",
    "    n_estimators= potential_opt_params.iloc[0]['n_estimators'], \n",
    "    n_jobs= 4, \n",
    "    num_parallel_tree= 1, \n",
    "    predictor= 'auto', \n",
    "    random_state= 0, \n",
    "    reg_alpha= potential_opt_params.iloc[0]['reg_alpha'], \n",
    "    reg_lambda= potential_opt_params.iloc[0]['reg_lambda'], \n",
    "    scale_pos_weight= 1, \n",
    "    subsample= 1, \n",
    "    tree_method= 'exact', \n",
    "    validate_parameters= 1, \n",
    "    verbosity= None, \n",
    "    eval_metric= 'aucpr'\n",
    ")"
   ]
  },
  {
   "cell_type": "markdown",
   "id": "9764ae23",
   "metadata": {
    "papermill": {
     "duration": 0.282695,
     "end_time": "2022-01-18T00:25:56.833051",
     "exception": false,
     "start_time": "2022-01-18T00:25:56.550356",
     "status": "completed"
    },
    "tags": []
   },
   "source": [
    "Now we repeat the tests from before and compare results."
   ]
  },
  {
   "cell_type": "code",
   "execution_count": 73,
   "id": "ea1b6212",
   "metadata": {
    "execution": {
     "iopub.execute_input": "2022-01-18T00:25:57.404550Z",
     "iopub.status.busy": "2022-01-18T00:25:57.403895Z",
     "iopub.status.idle": "2022-01-18T00:26:40.994508Z",
     "shell.execute_reply": "2022-01-18T00:26:40.995047Z",
     "shell.execute_reply.started": "2022-01-17T22:47:32.626501Z"
    },
    "papermill": {
     "duration": 43.877443,
     "end_time": "2022-01-18T00:26:40.995224",
     "exception": false,
     "start_time": "2022-01-18T00:25:57.117781",
     "status": "completed"
    },
    "tags": []
   },
   "outputs": [
    {
     "name": "stdout",
     "output_type": "stream",
     "text": [
      "    model                      run_time    avg_accy    avg_recall    avg_precision    avg_f1    avg_matthew_corcoef    avg_roc_auc\n",
      "--  -----------------------  ----------  ----------  ------------  ---------------  --------  ---------------------  -------------\n",
      " 0  Optimized XGBClassifier        0.72    0.940249      0.106703         0.570863  0.173469               0.219811        0.55004\n"
     ]
    }
   ],
   "source": [
    "\n",
    "start_time = time.time()\n",
    "optimal_model2 = clf_optimal2.fit(X_train,y_train)\n",
    "\n",
    "# set random_state = 42\n",
    "#The idea was, if I have the optimal parameters, then using the same cross-validation state as during my initial testing\n",
    "#should produce far better results.... it didn't   :**(\n",
    "\n",
    "cvs = RepeatedStratifiedKFold(n_splits=10, n_repeats=3, random_state=42)\n",
    "cv_scores2 = cross_validate(optimal_model2, X_test, y_test, cv=cvs, scoring = scorer)\n",
    "y_pred_optimal2 = optimal_model2.predict(X_test)\n",
    "\n",
    "row4 = {'model': ['Optimized XGBClassifier'],\n",
    "       'run_time': [format(round((time.time() - start_time)/60,2))],\n",
    "       'avg_accy': [cv_scores2['test_accuracy_score'].mean()],\n",
    "       #'avg_accy_std': cv_scores2['test_accuracy_score'].std(),\n",
    "       'avg_recall': [cv_scores2['test_recall_score'].mean()],\n",
    "       #'avg_recall_std': cv_scores2['test_recall_score'].std(),\n",
    "       'avg_precision': [cv_scores2['test_precision_score'].mean()],\n",
    "       #'avg_precision_std': cv_scores2['test_precision_score'].std(),\n",
    "       'avg_f1': [cv_scores2['test_f1_score'].mean()],\n",
    "       #'avg_f1_std': cv_scores2['test_f1_score'].std(),\n",
    "       'avg_matthew_corcoef': [cv_scores2['test_matthew_corrcoef'].mean()],\n",
    "       #'avg_matthew_corcoef_std': cv_scores2['test_matthew_corrcoef'].std(),\n",
    "       'avg_roc_auc':[ cv_scores2['test_roc_auc_score'].mean()],\n",
    "       #'avg_roc_auc_std': cv_scores2['test_roc_auc_score'].std(),\n",
    "      }\n",
    " \n",
    "scores4 = pd.DataFrame(row4)\n",
    "print(tabulate(scores4, headers=scores4.columns))\n",
    "#df_models = df_models.append(row, ignore_index=True)"
   ]
  },
  {
   "cell_type": "code",
   "execution_count": 74,
   "id": "61ecbf8e",
   "metadata": {
    "execution": {
     "iopub.execute_input": "2022-01-18T00:26:41.571176Z",
     "iopub.status.busy": "2022-01-18T00:26:41.570466Z",
     "iopub.status.idle": "2022-01-18T00:26:41.598400Z",
     "shell.execute_reply": "2022-01-18T00:26:41.599015Z",
     "shell.execute_reply.started": "2022-01-17T22:48:24.126183Z"
    },
    "papermill": {
     "duration": 0.320048,
     "end_time": "2022-01-18T00:26:41.599193",
     "exception": false,
     "start_time": "2022-01-18T00:26:41.279145",
     "status": "completed"
    },
    "tags": []
   },
   "outputs": [
    {
     "name": "stdout",
     "output_type": "stream",
     "text": [
      "    model                     tp    tn    fp    fn    correct    incorrect    accuracy    precision    recall     f1    matthews_coef    roc_auc    avg_pre\n",
      "--  ----------------------  ----  ----  ----  ----  ---------  -----------  ----------  -----------  --------  -----  ---------------  ---------  ---------\n",
      " 0  Optimized XGB-No SMOTE    97  3590    34   134       3687          168       0.956         0.74      0.42  0.536            0.538      0.705      0.346\n"
     ]
    }
   ],
   "source": [
    "tn, fp, fn, tp = metrics.confusion_matrix(y_test, y_pred_optimal2).ravel()\n",
    "accuracy = metrics.accuracy_score(y_test, y_pred_optimal2)\n",
    "precision = metrics.precision_score(y_test, y_pred_optimal2)\n",
    "recall = metrics.recall_score(y_test, y_pred_optimal2)\n",
    "f1 = metrics.f1_score(y_test,y_pred_optimal2)\n",
    "matthew_corrcoef = metrics.matthews_corrcoef(y_test,y_pred_optimal2),\n",
    "roc_auc = metrics.roc_auc_score(y_test,y_pred_optimal2)\n",
    "avg_precision = metrics.average_precision_score(y_test, y_pred_optimal2)\n",
    "\n",
    "row5 = {'model': 'Optimized XGB-No SMOTE',\n",
    "        'tp': [tp],\n",
    "        'tn': [tn],\n",
    "        'fp': [fp],\n",
    "        'fn': [fn],\n",
    "        'correct': [tp+tn],\n",
    "        'incorrect': [fp+fn],\n",
    "        'accuracy': [round(accuracy,3)],\n",
    "        'precision': [round(precision,3)],\n",
    "        'recall': [round(recall,3)],\n",
    "        'f1': [round(f1,3)],\n",
    "        'matthews_coef': [round(matthew_corrcoef[0],3)],\n",
    "        'roc_auc': [round(roc_auc,3)],\n",
    "        'avg_pre': [round(avg_precision,3)],\n",
    "    }\n",
    "\n",
    "scores5 = pd.DataFrame(row3)\n",
    "print(tabulate(scores5, headers=scores5.columns))"
   ]
  },
  {
   "cell_type": "code",
   "execution_count": 75,
   "id": "189f3ec2",
   "metadata": {
    "execution": {
     "iopub.execute_input": "2022-01-18T00:26:42.176026Z",
     "iopub.status.busy": "2022-01-18T00:26:42.170438Z",
     "iopub.status.idle": "2022-01-18T00:26:42.699796Z",
     "shell.execute_reply": "2022-01-18T00:26:42.699152Z",
     "shell.execute_reply.started": "2022-01-17T22:48:24.168973Z"
    },
    "papermill": {
     "duration": 0.817319,
     "end_time": "2022-01-18T00:26:42.699949",
     "exception": false,
     "start_time": "2022-01-18T00:26:41.882630",
     "status": "completed"
    },
    "tags": []
   },
   "outputs": [
    {
     "data": {
      "text/plain": [
       "Text(0.5, 1.0, 'Precision-Recall curve:')"
      ]
     },
     "execution_count": 75,
     "metadata": {},
     "output_type": "execute_result"
    },
    {
     "data": {
      "image/png": "[encoded data removed]",
      "text/plain": [
       "<Figure size 1080x504 with 3 Axes>"
      ]
     },
     "metadata": {
      "needs_background": "light"
     },
     "output_type": "display_data"
    }
   ],
   "source": [
    "precision_opt2, recall_opt2, thresholds = metrics.precision_recall_curve(y_test, y_pred_optimal2)\n",
    "\n",
    "#this code plots the confusion matrix of our niave implementation of a decision tree\n",
    "fig, (ax1, ax2) = plt.subplots(1, 2, figsize=(15, 7))\n",
    "fig.tight_layout(pad=5.0)\n",
    "metrics.plot_confusion_matrix(optimal_model2, X_test, y_test, display_labels=[\"Not Fraudulent Claim\", \"Fraudulent Claim\"], ax=ax1)\n",
    "tn, fp, fn, tp = metrics.confusion_matrix(y_test, y_pred_optimal2).ravel()\n",
    "\n",
    "ax2.step(recall_opt2, precision_opt2, color='b', alpha=0.2, where='post')\n",
    "ax2.fill_between(recall_opt2, precision_opt2, step='post', alpha=0.2, color='b')\n",
    "ax2.set_xlabel('Recall')\n",
    "ax2.set_ylabel('Precision')\n",
    "ax2.set_ylim([0.0, 1.05])\n",
    "ax2.set_xlim([-0.005, 1.0])\n",
    "ax2.set_title('Precision-Recall curve:')"
   ]
  },
  {
   "cell_type": "code",
   "execution_count": 76,
   "id": "072c41cf",
   "metadata": {
    "execution": {
     "iopub.execute_input": "2022-01-18T00:26:43.280424Z",
     "iopub.status.busy": "2022-01-18T00:26:43.279047Z",
     "iopub.status.idle": "2022-01-18T00:26:43.630249Z",
     "shell.execute_reply": "2022-01-18T00:26:43.629727Z",
     "shell.execute_reply.started": "2022-01-18T00:02:45.612107Z"
    },
    "papermill": {
     "duration": 0.638988,
     "end_time": "2022-01-18T00:26:43.630397",
     "exception": false,
     "start_time": "2022-01-18T00:26:42.991409",
     "status": "completed"
    },
    "tags": []
   },
   "outputs": [
    {
     "data": {
      "text/plain": [
       "<AxesSubplot:title={'center':'Feature importance'}, xlabel='F score', ylabel='Features'>"
      ]
     },
     "execution_count": 76,
     "metadata": {},
     "output_type": "execute_result"
    },
    {
     "data": {
      "image/png": "[encoded data removed]",
      "text/plain": [
       "<Figure size 432x288 with 1 Axes>"
      ]
     },
     "metadata": {
      "needs_background": "light"
     },
     "output_type": "display_data"
    }
   ],
   "source": [
    "plot_importance(optimal_model2, max_num_features=15)\n",
    "\n"
   ]
  },
  {
   "cell_type": "code",
   "execution_count": 77,
   "id": "631c938c",
   "metadata": {
    "execution": {
     "iopub.execute_input": "2022-01-18T00:26:44.210304Z",
     "iopub.status.busy": "2022-01-18T00:26:44.209622Z",
     "iopub.status.idle": "2022-01-18T00:26:44.212671Z",
     "shell.execute_reply": "2022-01-18T00:26:44.212122Z",
     "shell.execute_reply.started": "2022-01-17T22:48:24.689332Z"
    },
    "papermill": {
     "duration": 0.294282,
     "end_time": "2022-01-18T00:26:44.212872",
     "exception": false,
     "start_time": "2022-01-18T00:26:43.918590",
     "status": "completed"
    },
    "tags": []
   },
   "outputs": [],
   "source": [
    "#fig, ax = plt.subplots(figsize=(30, 30))\n",
    "#plot_tree(optimal_model, num_trees=0, ax=ax)\n",
    "#plt.show()"
   ]
  },
  {
   "cell_type": "markdown",
   "id": "aefed4c9",
   "metadata": {
    "papermill": {
     "duration": 0.301014,
     "end_time": "2022-01-18T00:26:44.861372",
     "exception": false,
     "start_time": "2022-01-18T00:26:44.560358",
     "status": "completed"
    },
    "tags": []
   },
   "source": [
    "# **References**\n",
    "* Reference for hyperopt\n",
    "    * http://hyperopt.github.io/hyperopt/\n",
    "* Reference for XGBoost \n",
    "    * https://xgboost.readthedocs.io/en/stable/parameter.html\n",
    "    * https://machinelearningmastery.com/hyperparameters-for-classification-machine-learning-algorithms/\n",
    "    * https://machinelearningmastery.com/hyperopt-for-automated-machine-learning-with-scikit-learn/\n",
    "    * https://www.analyticsvidhya.com/blog/2016/03/complete-guide-parameter-tuning-xgboost-with-codes-python/\n",
    "    * https://www.kaggle.com/prashant111/a-guide-on-xgboost-hyperparameters-tuning\n",
    "    * https://blog.cambridgespark.com/hyperparameter-tuning-in-xgboost-4ff9100a3b2f\n",
    "    * https://proceedings.neurips.cc/paper/2011/file/86e8f7ab32cfd12577bc2619bc635690-Paper.pdf\n",
    "\n",
    "* References for decision trees:\n",
    "    * https://scikit-learn.org/stable/modules/tree.html\n",
    "    * https://scikit-learn.org/stable/modules/generated/sklearn.tree.DecisionTreeClassifier.html#sklearn.tree.DecisionTreeClassifier\n",
    "    * https://www.analyticsvidhya.com/blog/2020/08/types-of-categorical-data-encoding/\n",
    "    * https://www.analyticsvidhya.com/blog/2015/11/easy-methods-deal-categorical-variables-predictive-modeling/?utm_source=blog&utm_medium=Categorical_data_encoding\n",
    "    * https://medium.com/data-design/visiting-categorical-features-and-encoding-in-decision-trees-53400fa65931\n",
    "  \n",
    "* Selecting metrics/scoring rules for trees\n",
    "    * https://practicaldatascience.co.uk/machine-learning/how-to-use-smote-for-imbalanced-classification\n",
    "    * https://stats.stackexchange.com/questions/312780/why-is-accuracy-not-the-best-measure-for-assessing-classification-models\n",
    "    * https://www.fharrell.com/post/class-damage/\n",
    "    * https://stats.stackexchange.com/questions/91088/when-is-a-proper-scoring-rule-a-better-estimate-of-generalization-in-a-classific\n",
    "    * https://contrib.scikit-learn.org/category_encoders/count.html\n",
    "    * https://scikit-learn.org/stable/modules/model_evaluation.html\n",
    "    \n",
    "* Kaggle Notebooks I found useful\n",
    "    * https://www.kaggle.com/pmarcelino/data-analysis-and-feature-extraction-with-python\n",
    "    \n",
    "* Using seaborn\n",
    "    * https://drawingfromdata.com/seaborn/matplotlib/visualization/rotate-axis-labels-matplotlib-seaborn.html\n",
    "    * https://stackoverflow.com/questions/43214978/seaborn-barplot-displaying-values\n",
    "\n",
    "* Papers\n",
    "    * https://pubmed.ncbi.nlm.nih.gov/28574989/"
   ]
  }
 ],
 "metadata": {
  "kernelspec": {
   "display_name": "Python 3 (ipykernel)",
   "language": "python",
   "name": "python3"
  },
  "language_info": {
   "codemirror_mode": {
    "name": "ipython",
    "version": 3
   },
   "file_extension": ".py",
   "mimetype": "text/x-python",
   "name": "python",
   "nbconvert_exporter": "python",
   "pygments_lexer": "ipython3",
   "version": "3.8.13"
  },
  "papermill": {
   "default_parameters": {},
   "duration": 560.356561,
   "end_time": "2022-01-18T00:26:46.112914",
   "environment_variables": {},
   "exception": null,
   "input_path": "__notebook__.ipynb",
   "output_path": "__notebook__.ipynb",
   "parameters": {},
   "start_time": "2022-01-18T00:17:25.756353",
   "version": "2.3.3"
  }
 },
 "nbformat": 4,
 "nbformat_minor": 5
}
